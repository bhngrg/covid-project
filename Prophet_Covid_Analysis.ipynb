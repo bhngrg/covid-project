{
 "cells": [
  {
   "cell_type": "markdown",
   "metadata": {},
   "source": [
    "# Introduction to Time Series Forecasting with Seasonality\n",
    "\n",
    "In normal data analysis, the order of observations that are collected is usally irrelevant. However, most of the data collected in the real world has a certain order built into it. This structure can be exploited for better prediction ability by employing a Time Series Model. The first step in analyzing a time series model is identify and understand the built-in structure of the data over time. These underlying patterns can be classified into four distinct categories:\n",
    "* Trend - Long term pattern in the data (easiest to identify).\n",
    "* Seasonality - Short term patterns that occur within the overall time structure, and repeat indefinitely. \n",
    "* Cyclical Component - Long term oscillations (big waves) within the overall time structure.\n",
    "* Noise(Error) - Random changes occuring in the overall time structure (unlikely to be repeated).\n",
    "\n",
    "![image](./Time_Series_Example_Image.jpg)\n",
    "\n",
    "The second step is to check the underlying assumptions:\n",
    "* Stationarity - This means that the series are normally distributed and the mean and variance are constant over a long time period.\n",
    "* Uncorrelated Random Error - We assume that the error term is randomly distributed and the mean and variance are constant over a time period.\n",
    "* No outliers - This one is self-explanatory.\n",
    "* Random shocks - If shocks are present, they are assumed to be randomly distributed with a mean of 0 and a constant variance."
   ]
  },
  {
   "cell_type": "markdown",
   "metadata": {},
   "source": [
    "## Setting up our Facebook Prophet Analysis (USA COVID-19 Data)"
   ]
  },
  {
   "cell_type": "markdown",
   "metadata": {},
   "source": [
    "### Checking Directory\n",
    "```python\n",
    "!ls\n",
    "!pwd\n",
    "```"
   ]
  },
  {
   "cell_type": "markdown",
   "metadata": {},
   "source": [
    "### Importing all the required packages\n",
    "```python\n",
    "import numpy as np\n",
    "import pandas as pd\n",
    "from fbprophet import Prophet\n",
    "from fbprophet.plot import plot_plotly, plot_components_plotly\n",
    "from fbprophet.diagnostics import cross_validation\n",
    "from fbprophet.diagnostics import performance_metrics\n",
    "from fbprophet.plot import plot_cross_validation_metric\n",
    "```"
   ]
  },
  {
   "cell_type": "markdown",
   "metadata": {},
   "source": [
    "### Processing the Raw Data\n",
    "```python\n",
    "stay_at_home_df = pd.read_csv(\"https://covid.ourworldindata.org/data/owid-covid-data.csv\")\n",
    "stay_at_home_df.head()\n",
    "stay_at_home_df.columns\n",
    "cleaned_stay_at_home_df = stay_at_home_df[['location','date','total_cases','total_tests','stringency_index','positive_rate','total_deaths']]\n",
    "cleaned_stay_at_home_df\n",
    "cleaned_stay_at_home_df['cases_per_tests_ratio'] = cleaned_stay_at_home_df['total_cases']/cleaned_stay_at_home_df['total_tests']\n",
    "cleaned_stay_at_home_df\n",
    "cleaned_stay_at_home_df.dtypes\n",
    "groupby_location_df = cleaned_stay_at_home_df.groupby('location',as_index=False)\n",
    "separated_location_df = dict(iter(groupby_location_df))\n",
    "us_covid_df = separated_location_df['United States']\n",
    "```"
   ]
  },
  {
   "cell_type": "markdown",
   "metadata": {},
   "source": [
    "### Setting up for our Facebook Prophet Time Series Analysis\n",
    "```python\n",
    "def plot_metrics(forecast_cv,location, imgname):\n",
    "    mse_plot = plot_cross_validation_metric(forecast_cv, metric = 'mse')\n",
    "    mse_plot.suptitle(f'{location}_mse_{imgname}',y=0.95)\n",
    "    mse_plot.savefig(f'./Seasonality_Comparison/{location}_mse_{imgname}')\n",
    "                      \n",
    "    rmse_plot =plot_cross_validation_metric(forecast_cv, metric = 'rmse')\n",
    "    rmse_plot.suptitle(f'{location}_rmse_{imgname}',y=0.95)\n",
    "    rmse_plot.savefig(f'./Seasonality_Comparison/{location}_rmse_{imgname}')\n",
    "                      \n",
    "    mae_plot = plot_cross_validation_metric(forecast_cv, metric = 'mae')\n",
    "    mae_plot.suptitle(f'{location}_mae_{imgname}',y=0.95)\n",
    "    mae_plot.savefig(f'./Seasonality_Comparison/{location}_mae_{imgname}')\n",
    "                      \n",
    "    mape_plot = plot_cross_validation_metric(forecast_cv, metric = 'mape')\n",
    "    mae_plot.suptitle(f'{location}_mape_{imgname}',y=0.95)\n",
    "    mae_plot.savefig(f'./Seasonality_Comparison/{location}_mape_{imgname}')\n",
    "                      \n",
    "                      \n",
    "def plot_forecast(forecast,m,location,img_name):\n",
    "    forecastplot = m.plot(forecast)\n",
    "    forecastplot.suptitle(f'{location}_forecast_{img_name}',y=0.95)\n",
    "    forecastplot.savefig(f'./Seasonality_Comparison/{location}_forecast_{img_name}')\n",
    "    \n",
    "    plot_components = m.plot_components(forecast)\n",
    "    plot_components.suptitle(f'{location}_components_{img_name}',y=0.95)\n",
    "    plot_components.savefig(f'./Seasonality_Comparison/{location}_components_{img_name}')\n",
    "                             \n",
    "                             \n",
    "\n",
    "def prophet_predicts(location_df,location, yearly_seasonality, weekly_seasonality):\n",
    "    print(location_df.columns)\n",
    "    num_rows = str(location_df.shape[0] - 31) + ' days'\n",
    "    prophet_df = location_df[['date','total_cases']]\n",
    "    prophet_df = prophet_df.rename(columns={'date':'ds','total_cases': 'y'})\n",
    "    m = Prophet(interval_width = 0.95, yearly_seasonality = yearly_seasonality, weekly_seasonality = weekly_seasonality)\n",
    "    m.fit(prophet_df)\n",
    "    future = m.make_future_dataframe(periods=30)\n",
    "    forecast = m.predict(future)\n",
    "    forecast_cv = cross_validation(m, initial = num_rows, period = '30 days', horizon = '30 days' ) # of rows - 31 days\n",
    "    \n",
    "    img_name = 'daily.png'\n",
    "    if(yearly_seasonality):\n",
    "        img_name = 'yearly_' + img_name\n",
    "        \n",
    "    if(weekly_seasonality):\n",
    "        img_name = 'weekly_' + img_name\n",
    "    \n",
    "    plot_forecast(forecast,m, location, img_name)\n",
    "    plot_metrics(forecast_cv, location, img_name)\n",
    "```"
   ]
  },
  {
   "cell_type": "markdown",
   "metadata": {},
   "source": [
    "### Results of our analysis\n",
    "```python\n",
    "prophet_predicts(us_covid_df, 'United States', True,  False)\n",
    "prophet_predicts(us_covid_df, 'United States',  False,  False)\n",
    "prophet_predicts(us_covid_df, 'United States', False,  True)\n",
    "prophet_predicts(us_covid_df, 'United States',  True,  True)\n",
    "```"
   ]
  },
  {
   "cell_type": "code",
   "execution_count": 7,
   "metadata": {},
   "outputs": [
    {
     "name": "stdout",
     "output_type": "stream",
     "text": [
      "[NbConvertApp] Converting notebook Prophet_Covid_Analysis.ipynb to html\n",
      "[NbConvertApp] Writing 292445 bytes to output.html\n"
     ]
    }
   ],
   "source": [
    "!jupyter nbconvert Prophet_Covid_Analysis.ipynb --to html --output output.html"
   ]
  },
  {
   "cell_type": "code",
   "execution_count": null,
   "metadata": {},
   "outputs": [],
   "source": []
  }
 ],
 "metadata": {
  "kernelspec": {
   "display_name": "Python 3",
   "language": "python",
   "name": "python3"
  },
  "language_info": {
   "codemirror_mode": {
    "name": "ipython",
    "version": 3
   },
   "file_extension": ".py",
   "mimetype": "text/x-python",
   "name": "python",
   "nbconvert_exporter": "python",
   "pygments_lexer": "ipython3",
   "version": "3.8.3"
  }
 },
 "nbformat": 4,
 "nbformat_minor": 4
}
