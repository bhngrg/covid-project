{
 "cells": [
  {
   "cell_type": "code",
   "execution_count": 27,
   "metadata": {},
   "outputs": [],
   "source": [
    "import numpy as np\n",
    "from numpy import exp\n",
    "import matplotlib.pyplot as plt\n",
    "from scipy.integrate import odeint\n",
    "import random"
   ]
  },
  {
   "cell_type": "code",
   "execution_count": 32,
   "metadata": {},
   "outputs": [
    {
     "data": {
      "text/plain": [
       "0"
      ]
     },
     "execution_count": 32,
     "metadata": {},
     "output_type": "execute_result"
    }
   ],
   "source": []
  },
  {
   "cell_type": "code",
   "execution_count": 30,
   "metadata": {},
   "outputs": [],
   "source": [
    "pop_size = 3.3e8\n",
    "# SARS-Cov-2 (COVID-19)\n",
    "y = 1/14\n",
    "sigma = 1/4.5"
   ]
  },
  {
   "cell_type": "code",
   "execution_count": 24,
   "metadata": {},
   "outputs": [
    {
     "data": {
      "text/plain": [
       "array([  0.        ,   0.55055055,   1.1011011 ,   1.65165165,\n",
       "         2.2022022 ,   2.75275275,   3.3033033 ,   3.85385385,\n",
       "         4.4044044 ,   4.95495495,   5.50550551,   6.05605606,\n",
       "         6.60660661,   7.15715716,   7.70770771,   8.25825826,\n",
       "         8.80880881,   9.35935936,   9.90990991,  10.46046046,\n",
       "        11.01101101,  11.56156156,  12.11211211,  12.66266266,\n",
       "        13.21321321,  13.76376376,  14.31431431,  14.86486486,\n",
       "        15.41541542,  15.96596597,  16.51651652,  17.06706707,\n",
       "        17.61761762,  18.16816817,  18.71871872,  19.26926927,\n",
       "        19.81981982,  20.37037037,  20.92092092,  21.47147147,\n",
       "        22.02202202,  22.57257257,  23.12312312,  23.67367367,\n",
       "        24.22422422,  24.77477477,  25.32532533,  25.87587588,\n",
       "        26.42642643,  26.97697698,  27.52752753,  28.07807808,\n",
       "        28.62862863,  29.17917918,  29.72972973,  30.28028028,\n",
       "        30.83083083,  31.38138138,  31.93193193,  32.48248248,\n",
       "        33.03303303,  33.58358358,  34.13413413,  34.68468468,\n",
       "        35.23523524,  35.78578579,  36.33633634,  36.88688689,\n",
       "        37.43743744,  37.98798799,  38.53853854,  39.08908909,\n",
       "        39.63963964,  40.19019019,  40.74074074,  41.29129129,\n",
       "        41.84184184,  42.39239239,  42.94294294,  43.49349349,\n",
       "        44.04404404,  44.59459459,  45.14514515,  45.6956957 ,\n",
       "        46.24624625,  46.7967968 ,  47.34734735,  47.8978979 ,\n",
       "        48.44844845,  48.998999  ,  49.54954955,  50.1001001 ,\n",
       "        50.65065065,  51.2012012 ,  51.75175175,  52.3023023 ,\n",
       "        52.85285285,  53.4034034 ,  53.95395395,  54.5045045 ,\n",
       "        55.05505506,  55.60560561,  56.15615616,  56.70670671,\n",
       "        57.25725726,  57.80780781,  58.35835836,  58.90890891,\n",
       "        59.45945946,  60.01001001,  60.56056056,  61.11111111,\n",
       "        61.66166166,  62.21221221,  62.76276276,  63.31331331,\n",
       "        63.86386386,  64.41441441,  64.96496496,  65.51551552,\n",
       "        66.06606607,  66.61661662,  67.16716717,  67.71771772,\n",
       "        68.26826827,  68.81881882,  69.36936937,  69.91991992,\n",
       "        70.47047047,  71.02102102,  71.57157157,  72.12212212,\n",
       "        72.67267267,  73.22322322,  73.77377377,  74.32432432,\n",
       "        74.87487487,  75.42542543,  75.97597598,  76.52652653,\n",
       "        77.07707708,  77.62762763,  78.17817818,  78.72872873,\n",
       "        79.27927928,  79.82982983,  80.38038038,  80.93093093,\n",
       "        81.48148148,  82.03203203,  82.58258258,  83.13313313,\n",
       "        83.68368368,  84.23423423,  84.78478478,  85.33533534,\n",
       "        85.88588589,  86.43643644,  86.98698699,  87.53753754,\n",
       "        88.08808809,  88.63863864,  89.18918919,  89.73973974,\n",
       "        90.29029029,  90.84084084,  91.39139139,  91.94194194,\n",
       "        92.49249249,  93.04304304,  93.59359359,  94.14414414,\n",
       "        94.69469469,  95.24524525,  95.7957958 ,  96.34634635,\n",
       "        96.8968969 ,  97.44744745,  97.997998  ,  98.54854855,\n",
       "        99.0990991 ,  99.64964965, 100.2002002 , 100.75075075,\n",
       "       101.3013013 , 101.85185185, 102.4024024 , 102.95295295,\n",
       "       103.5035035 , 104.05405405, 104.6046046 , 105.15515516,\n",
       "       105.70570571, 106.25625626, 106.80680681, 107.35735736,\n",
       "       107.90790791, 108.45845846, 109.00900901, 109.55955956,\n",
       "       110.11011011, 110.66066066, 111.21121121, 111.76176176,\n",
       "       112.31231231, 112.86286286, 113.41341341, 113.96396396,\n",
       "       114.51451451, 115.06506507, 115.61561562, 116.16616617,\n",
       "       116.71671672, 117.26726727, 117.81781782, 118.36836837,\n",
       "       118.91891892, 119.46946947, 120.02002002, 120.57057057,\n",
       "       121.12112112, 121.67167167, 122.22222222, 122.77277277,\n",
       "       123.32332332, 123.87387387, 124.42442442, 124.97497497,\n",
       "       125.52552553, 126.07607608, 126.62662663, 127.17717718,\n",
       "       127.72772773, 128.27827828, 128.82882883, 129.37937938,\n",
       "       129.92992993, 130.48048048, 131.03103103, 131.58158158,\n",
       "       132.13213213, 132.68268268, 133.23323323, 133.78378378,\n",
       "       134.33433433, 134.88488488, 135.43543544, 135.98598599,\n",
       "       136.53653654, 137.08708709, 137.63763764, 138.18818819,\n",
       "       138.73873874, 139.28928929, 139.83983984, 140.39039039,\n",
       "       140.94094094, 141.49149149, 142.04204204, 142.59259259,\n",
       "       143.14314314, 143.69369369, 144.24424424, 144.79479479,\n",
       "       145.34534535, 145.8958959 , 146.44644645, 146.996997  ,\n",
       "       147.54754755, 148.0980981 , 148.64864865, 149.1991992 ,\n",
       "       149.74974975, 150.3003003 , 150.85085085, 151.4014014 ,\n",
       "       151.95195195, 152.5025025 , 153.05305305, 153.6036036 ,\n",
       "       154.15415415, 154.7047047 , 155.25525526, 155.80580581,\n",
       "       156.35635636, 156.90690691, 157.45745746, 158.00800801,\n",
       "       158.55855856, 159.10910911, 159.65965966, 160.21021021,\n",
       "       160.76076076, 161.31131131, 161.86186186, 162.41241241,\n",
       "       162.96296296, 163.51351351, 164.06406406, 164.61461461,\n",
       "       165.16516517, 165.71571572, 166.26626627, 166.81681682,\n",
       "       167.36736737, 167.91791792, 168.46846847, 169.01901902,\n",
       "       169.56956957, 170.12012012, 170.67067067, 171.22122122,\n",
       "       171.77177177, 172.32232232, 172.87287287, 173.42342342,\n",
       "       173.97397397, 174.52452452, 175.07507508, 175.62562563,\n",
       "       176.17617618, 176.72672673, 177.27727728, 177.82782783,\n",
       "       178.37837838, 178.92892893, 179.47947948, 180.03003003,\n",
       "       180.58058058, 181.13113113, 181.68168168, 182.23223223,\n",
       "       182.78278278, 183.33333333, 183.88388388, 184.43443443,\n",
       "       184.98498498, 185.53553554, 186.08608609, 186.63663664,\n",
       "       187.18718719, 187.73773774, 188.28828829, 188.83883884,\n",
       "       189.38938939, 189.93993994, 190.49049049, 191.04104104,\n",
       "       191.59159159, 192.14214214, 192.69269269, 193.24324324,\n",
       "       193.79379379, 194.34434434, 194.89489489, 195.44544545,\n",
       "       195.995996  , 196.54654655, 197.0970971 , 197.64764765,\n",
       "       198.1981982 , 198.74874875, 199.2992993 , 199.84984985,\n",
       "       200.4004004 , 200.95095095, 201.5015015 , 202.05205205,\n",
       "       202.6026026 , 203.15315315, 203.7037037 , 204.25425425,\n",
       "       204.8048048 , 205.35535536, 205.90590591, 206.45645646,\n",
       "       207.00700701, 207.55755756, 208.10810811, 208.65865866,\n",
       "       209.20920921, 209.75975976, 210.31031031, 210.86086086,\n",
       "       211.41141141, 211.96196196, 212.51251251, 213.06306306,\n",
       "       213.61361361, 214.16416416, 214.71471471, 215.26526527,\n",
       "       215.81581582, 216.36636637, 216.91691692, 217.46746747,\n",
       "       218.01801802, 218.56856857, 219.11911912, 219.66966967,\n",
       "       220.22022022, 220.77077077, 221.32132132, 221.87187187,\n",
       "       222.42242242, 222.97297297, 223.52352352, 224.07407407,\n",
       "       224.62462462, 225.17517518, 225.72572573, 226.27627628,\n",
       "       226.82682683, 227.37737738, 227.92792793, 228.47847848,\n",
       "       229.02902903, 229.57957958, 230.13013013, 230.68068068,\n",
       "       231.23123123, 231.78178178, 232.33233233, 232.88288288,\n",
       "       233.43343343, 233.98398398, 234.53453453, 235.08508509,\n",
       "       235.63563564, 236.18618619, 236.73673674, 237.28728729,\n",
       "       237.83783784, 238.38838839, 238.93893894, 239.48948949,\n",
       "       240.04004004, 240.59059059, 241.14114114, 241.69169169,\n",
       "       242.24224224, 242.79279279, 243.34334334, 243.89389389,\n",
       "       244.44444444, 244.99499499, 245.54554555, 246.0960961 ,\n",
       "       246.64664665, 247.1971972 , 247.74774775, 248.2982983 ,\n",
       "       248.84884885, 249.3993994 , 249.94994995, 250.5005005 ,\n",
       "       251.05105105, 251.6016016 , 252.15215215, 252.7027027 ,\n",
       "       253.25325325, 253.8038038 , 254.35435435, 254.9049049 ,\n",
       "       255.45545546, 256.00600601, 256.55655656, 257.10710711,\n",
       "       257.65765766, 258.20820821, 258.75875876, 259.30930931,\n",
       "       259.85985986, 260.41041041, 260.96096096, 261.51151151,\n",
       "       262.06206206, 262.61261261, 263.16316316, 263.71371371,\n",
       "       264.26426426, 264.81481481, 265.36536537, 265.91591592,\n",
       "       266.46646647, 267.01701702, 267.56756757, 268.11811812,\n",
       "       268.66866867, 269.21921922, 269.76976977, 270.32032032,\n",
       "       270.87087087, 271.42142142, 271.97197197, 272.52252252,\n",
       "       273.07307307, 273.62362362, 274.17417417, 274.72472472,\n",
       "       275.27527528, 275.82582583, 276.37637638, 276.92692693,\n",
       "       277.47747748, 278.02802803, 278.57857858, 279.12912913,\n",
       "       279.67967968, 280.23023023, 280.78078078, 281.33133133,\n",
       "       281.88188188, 282.43243243, 282.98298298, 283.53353353,\n",
       "       284.08408408, 284.63463463, 285.18518519, 285.73573574,\n",
       "       286.28628629, 286.83683684, 287.38738739, 287.93793794,\n",
       "       288.48848849, 289.03903904, 289.58958959, 290.14014014,\n",
       "       290.69069069, 291.24124124, 291.79179179, 292.34234234,\n",
       "       292.89289289, 293.44344344, 293.99399399, 294.54454454,\n",
       "       295.0950951 , 295.64564565, 296.1961962 , 296.74674675,\n",
       "       297.2972973 , 297.84784785, 298.3983984 , 298.94894895,\n",
       "       299.4994995 , 300.05005005, 300.6006006 , 301.15115115,\n",
       "       301.7017017 , 302.25225225, 302.8028028 , 303.35335335,\n",
       "       303.9039039 , 304.45445445, 305.00500501, 305.55555556,\n",
       "       306.10610611, 306.65665666, 307.20720721, 307.75775776,\n",
       "       308.30830831, 308.85885886, 309.40940941, 309.95995996,\n",
       "       310.51051051, 311.06106106, 311.61161161, 312.16216216,\n",
       "       312.71271271, 313.26326326, 313.81381381, 314.36436436,\n",
       "       314.91491491, 315.46546547, 316.01601602, 316.56656657,\n",
       "       317.11711712, 317.66766767, 318.21821822, 318.76876877,\n",
       "       319.31931932, 319.86986987, 320.42042042, 320.97097097,\n",
       "       321.52152152, 322.07207207, 322.62262262, 323.17317317,\n",
       "       323.72372372, 324.27427427, 324.82482482, 325.37537538,\n",
       "       325.92592593, 326.47647648, 327.02702703, 327.57757758,\n",
       "       328.12812813, 328.67867868, 329.22922923, 329.77977978,\n",
       "       330.33033033, 330.88088088, 331.43143143, 331.98198198,\n",
       "       332.53253253, 333.08308308, 333.63363363, 334.18418418,\n",
       "       334.73473473, 335.28528529, 335.83583584, 336.38638639,\n",
       "       336.93693694, 337.48748749, 338.03803804, 338.58858859,\n",
       "       339.13913914, 339.68968969, 340.24024024, 340.79079079,\n",
       "       341.34134134, 341.89189189, 342.44244244, 342.99299299,\n",
       "       343.54354354, 344.09409409, 344.64464464, 345.1951952 ,\n",
       "       345.74574575, 346.2962963 , 346.84684685, 347.3973974 ,\n",
       "       347.94794795, 348.4984985 , 349.04904905, 349.5995996 ,\n",
       "       350.15015015, 350.7007007 , 351.25125125, 351.8018018 ,\n",
       "       352.35235235, 352.9029029 , 353.45345345, 354.004004  ,\n",
       "       354.55455455, 355.10510511, 355.65565566, 356.20620621,\n",
       "       356.75675676, 357.30730731, 357.85785786, 358.40840841,\n",
       "       358.95895896, 359.50950951, 360.06006006, 360.61061061,\n",
       "       361.16116116, 361.71171171, 362.26226226, 362.81281281,\n",
       "       363.36336336, 363.91391391, 364.46446446, 365.01501502,\n",
       "       365.56556557, 366.11611612, 366.66666667, 367.21721722,\n",
       "       367.76776777, 368.31831832, 368.86886887, 369.41941942,\n",
       "       369.96996997, 370.52052052, 371.07107107, 371.62162162,\n",
       "       372.17217217, 372.72272272, 373.27327327, 373.82382382,\n",
       "       374.37437437, 374.92492492, 375.47547548, 376.02602603,\n",
       "       376.57657658, 377.12712713, 377.67767768, 378.22822823,\n",
       "       378.77877878, 379.32932933, 379.87987988, 380.43043043,\n",
       "       380.98098098, 381.53153153, 382.08208208, 382.63263263,\n",
       "       383.18318318, 383.73373373, 384.28428428, 384.83483483,\n",
       "       385.38538539, 385.93593594, 386.48648649, 387.03703704,\n",
       "       387.58758759, 388.13813814, 388.68868869, 389.23923924,\n",
       "       389.78978979, 390.34034034, 390.89089089, 391.44144144,\n",
       "       391.99199199, 392.54254254, 393.09309309, 393.64364364,\n",
       "       394.19419419, 394.74474474, 395.2952953 , 395.84584585,\n",
       "       396.3963964 , 396.94694695, 397.4974975 , 398.04804805,\n",
       "       398.5985986 , 399.14914915, 399.6996997 , 400.25025025,\n",
       "       400.8008008 , 401.35135135, 401.9019019 , 402.45245245,\n",
       "       403.003003  , 403.55355355, 404.1041041 , 404.65465465,\n",
       "       405.20520521, 405.75575576, 406.30630631, 406.85685686,\n",
       "       407.40740741, 407.95795796, 408.50850851, 409.05905906,\n",
       "       409.60960961, 410.16016016, 410.71071071, 411.26126126,\n",
       "       411.81181181, 412.36236236, 412.91291291, 413.46346346,\n",
       "       414.01401401, 414.56456456, 415.11511512, 415.66566567,\n",
       "       416.21621622, 416.76676677, 417.31731732, 417.86786787,\n",
       "       418.41841842, 418.96896897, 419.51951952, 420.07007007,\n",
       "       420.62062062, 421.17117117, 421.72172172, 422.27227227,\n",
       "       422.82282282, 423.37337337, 423.92392392, 424.47447447,\n",
       "       425.02502503, 425.57557558, 426.12612613, 426.67667668,\n",
       "       427.22722723, 427.77777778, 428.32832833, 428.87887888,\n",
       "       429.42942943, 429.97997998, 430.53053053, 431.08108108,\n",
       "       431.63163163, 432.18218218, 432.73273273, 433.28328328,\n",
       "       433.83383383, 434.38438438, 434.93493493, 435.48548549,\n",
       "       436.03603604, 436.58658659, 437.13713714, 437.68768769,\n",
       "       438.23823824, 438.78878879, 439.33933934, 439.88988989,\n",
       "       440.44044044, 440.99099099, 441.54154154, 442.09209209,\n",
       "       442.64264264, 443.19319319, 443.74374374, 444.29429429,\n",
       "       444.84484484, 445.3953954 , 445.94594595, 446.4964965 ,\n",
       "       447.04704705, 447.5975976 , 448.14814815, 448.6986987 ,\n",
       "       449.24924925, 449.7997998 , 450.35035035, 450.9009009 ,\n",
       "       451.45145145, 452.002002  , 452.55255255, 453.1031031 ,\n",
       "       453.65365365, 454.2042042 , 454.75475475, 455.30530531,\n",
       "       455.85585586, 456.40640641, 456.95695696, 457.50750751,\n",
       "       458.05805806, 458.60860861, 459.15915916, 459.70970971,\n",
       "       460.26026026, 460.81081081, 461.36136136, 461.91191191,\n",
       "       462.46246246, 463.01301301, 463.56356356, 464.11411411,\n",
       "       464.66466466, 465.21521522, 465.76576577, 466.31631632,\n",
       "       466.86686687, 467.41741742, 467.96796797, 468.51851852,\n",
       "       469.06906907, 469.61961962, 470.17017017, 470.72072072,\n",
       "       471.27127127, 471.82182182, 472.37237237, 472.92292292,\n",
       "       473.47347347, 474.02402402, 474.57457457, 475.12512513,\n",
       "       475.67567568, 476.22622623, 476.77677678, 477.32732733,\n",
       "       477.87787788, 478.42842843, 478.97897898, 479.52952953,\n",
       "       480.08008008, 480.63063063, 481.18118118, 481.73173173,\n",
       "       482.28228228, 482.83283283, 483.38338338, 483.93393393,\n",
       "       484.48448448, 485.03503504, 485.58558559, 486.13613614,\n",
       "       486.68668669, 487.23723724, 487.78778779, 488.33833834,\n",
       "       488.88888889, 489.43943944, 489.98998999, 490.54054054,\n",
       "       491.09109109, 491.64164164, 492.19219219, 492.74274274,\n",
       "       493.29329329, 493.84384384, 494.39439439, 494.94494494,\n",
       "       495.4954955 , 496.04604605, 496.5965966 , 497.14714715,\n",
       "       497.6976977 , 498.24824825, 498.7987988 , 499.34934935,\n",
       "       499.8998999 , 500.45045045, 501.001001  , 501.55155155,\n",
       "       502.1021021 , 502.65265265, 503.2032032 , 503.75375375,\n",
       "       504.3043043 , 504.85485485, 505.40540541, 505.95595596,\n",
       "       506.50650651, 507.05705706, 507.60760761, 508.15815816,\n",
       "       508.70870871, 509.25925926, 509.80980981, 510.36036036,\n",
       "       510.91091091, 511.46146146, 512.01201201, 512.56256256,\n",
       "       513.11311311, 513.66366366, 514.21421421, 514.76476476,\n",
       "       515.31531532, 515.86586587, 516.41641642, 516.96696697,\n",
       "       517.51751752, 518.06806807, 518.61861862, 519.16916917,\n",
       "       519.71971972, 520.27027027, 520.82082082, 521.37137137,\n",
       "       521.92192192, 522.47247247, 523.02302302, 523.57357357,\n",
       "       524.12412412, 524.67467467, 525.22522523, 525.77577578,\n",
       "       526.32632633, 526.87687688, 527.42742743, 527.97797798,\n",
       "       528.52852853, 529.07907908, 529.62962963, 530.18018018,\n",
       "       530.73073073, 531.28128128, 531.83183183, 532.38238238,\n",
       "       532.93293293, 533.48348348, 534.03403403, 534.58458458,\n",
       "       535.13513514, 535.68568569, 536.23623624, 536.78678679,\n",
       "       537.33733734, 537.88788789, 538.43843844, 538.98898899,\n",
       "       539.53953954, 540.09009009, 540.64064064, 541.19119119,\n",
       "       541.74174174, 542.29229229, 542.84284284, 543.39339339,\n",
       "       543.94394394, 544.49449449, 545.04504505, 545.5955956 ,\n",
       "       546.14614615, 546.6966967 , 547.24724725, 547.7977978 ,\n",
       "       548.34834835, 548.8988989 , 549.44944945, 550.        ])"
      ]
     },
     "execution_count": 24,
     "metadata": {},
     "output_type": "execute_result"
    }
   ],
   "source": [
    "np.linspace(0, t_length, grid_size)"
   ]
  },
  {
   "cell_type": "code",
   "execution_count": 25,
   "metadata": {},
   "outputs": [
    {
     "data": {
      "text/plain": [
       "2"
      ]
     },
     "execution_count": 25,
     "metadata": {},
     "output_type": "execute_result"
    }
   ],
   "source": [
    "x =  (1,2,3)\n",
    "x[1]"
   ]
  },
  {
   "cell_type": "code",
   "execution_count": 45,
   "metadata": {},
   "outputs": [
    {
     "ename": "NameError",
     "evalue": "name 'self' is not defined",
     "output_type": "error",
     "traceback": [
      "\u001b[1;31m---------------------------------------------------------------------------\u001b[0m",
      "\u001b[1;31mNameError\u001b[0m                                 Traceback (most recent call last)",
      "\u001b[1;32m<ipython-input-45-b32a9366fe0b>\u001b[0m in \u001b[0;36m<module>\u001b[1;34m\u001b[0m\n\u001b[1;32m----> 1\u001b[1;33m \u001b[1;32mclass\u001b[0m \u001b[0mEpidemicModel\u001b[0m\u001b[1;33m:\u001b[0m\u001b[1;33m\u001b[0m\u001b[1;33m\u001b[0m\u001b[0m\n\u001b[0m\u001b[0;32m      2\u001b[0m     \u001b[1;32mdef\u001b[0m \u001b[0m__init__\u001b[0m\u001b[1;33m(\u001b[0m\u001b[0mself\u001b[0m\u001b[1;33m,\u001b[0m\u001b[0mx\u001b[0m \u001b[1;33m,\u001b[0m\u001b[0mdate_start\u001b[0m\u001b[1;33m,\u001b[0m \u001b[0mdate_end\u001b[0m\u001b[1;33m,\u001b[0m\u001b[0mR0\u001b[0m\u001b[1;33m,\u001b[0m \u001b[0mnatural_death_rate\u001b[0m\u001b[1;33m=\u001b[0m\u001b[1;36m0.02\u001b[0m\u001b[1;33m,\u001b[0m \u001b[0mdisease_death_rate\u001b[0m\u001b[1;33m=\u001b[0m\u001b[1;36m0.01\u001b[0m\u001b[1;33m)\u001b[0m\u001b[1;33m:\u001b[0m\u001b[1;33m\u001b[0m\u001b[1;33m\u001b[0m\u001b[0m\n\u001b[0;32m      3\u001b[0m         \u001b[1;31m# x is state vector which contains (susceptible, exposed, infectious)\u001b[0m\u001b[1;33m\u001b[0m\u001b[1;33m\u001b[0m\u001b[1;33m\u001b[0m\u001b[0m\n\u001b[0;32m      4\u001b[0m         \u001b[0mself\u001b[0m\u001b[1;33m.\u001b[0m\u001b[0mx\u001b[0m \u001b[1;33m=\u001b[0m \u001b[0mx\u001b[0m\u001b[1;33m\u001b[0m\u001b[1;33m\u001b[0m\u001b[0m\n\u001b[0;32m      5\u001b[0m         \u001b[0mself\u001b[0m\u001b[1;33m.\u001b[0m\u001b[0mdate_start\u001b[0m \u001b[1;33m=\u001b[0m \u001b[0mdate_start\u001b[0m\u001b[1;33m\u001b[0m\u001b[1;33m\u001b[0m\u001b[0m\n",
      "\u001b[1;32m<ipython-input-45-b32a9366fe0b>\u001b[0m in \u001b[0;36mEpidemicModel\u001b[1;34m()\u001b[0m\n\u001b[0;32m     57\u001b[0m \u001b[1;33m\u001b[0m\u001b[0m\n\u001b[0;32m     58\u001b[0m     \u001b[1;32mif\u001b[0m \u001b[0m__name__\u001b[0m \u001b[1;33m==\u001b[0m \u001b[1;34m\"__main__\"\u001b[0m\u001b[1;33m:\u001b[0m\u001b[1;33m\u001b[0m\u001b[1;33m\u001b[0m\u001b[0m\n\u001b[1;32m---> 59\u001b[1;33m         \u001b[0mmain\u001b[0m\u001b[1;33m(\u001b[0m\u001b[0mself\u001b[0m\u001b[1;33m)\u001b[0m\u001b[1;33m\u001b[0m\u001b[1;33m\u001b[0m\u001b[0m\n\u001b[0m",
      "\u001b[1;31mNameError\u001b[0m: name 'self' is not defined"
     ]
    }
   ],
   "source": [
    "class EpidemicModel:\n",
    "    def __init__(self,x ,date_start, date_end,R0, natural_death_rate=0.02, disease_death_rate=0.01):\n",
    "        # x is state vector which contains (susceptible, exposed, infectious)\n",
    "        self.x = x\n",
    "        self.date_start = date_start\n",
    "        self.date_end = date_end\n",
    "        self.R0 = R0\n",
    "        self.decodeVector()\n",
    "        self.susceptible = x[0]\n",
    "        self.exposed = x[1]\n",
    "        self.infections = x[2]\n",
    "        self.natural_death_rate = natural_death_rate\n",
    "        self.disease_death_rate = disease_death_rate\n",
    "        self.birth_rate = birth_rate\n",
    "        self.immune = {}\n",
    "        \n",
    "        \n",
    "     \n",
    "    def main(self):\n",
    "        time_elpased = self.date_end - self.date_start\n",
    "        for i in range(time_elpased):\n",
    "            self.exposure()\n",
    "            self.born()\n",
    "            self.die_from_disease()\n",
    "            self.natural_death()\n",
    "            self.recover()\n",
    "    \n",
    "    \n",
    "    def decodeVector(self):\n",
    "        if(self.x):\n",
    "            self.susceptible, self.exposed, self.infectious = self.x\n",
    "            \n",
    "    \n",
    "    def exposure(self):\n",
    "        self.susceptible *= (1- exposure_rate)\n",
    "        self.infectious *=  (1 + exposure_rate) \n",
    "        \n",
    "    \n",
    "    def natural_death(self,natural_death_rate):\n",
    "        random_d = random.randint(0,2)\n",
    "        vector = self.x\n",
    "        vector[random_d] *= (1- natural_death_rate)\n",
    "        self.x = vector\n",
    "        \n",
    "    def born(self):\n",
    "        self.susceptible *= (1 + born_rate)\n",
    "        \n",
    "    def die_from_disease(self):\n",
    "        self.infectious *= (1 - infectious_rate)\n",
    "        \n",
    "    def flys_in(self):\n",
    "        self.infectious *= (1 + flys_in_rate)\n",
    "        \n",
    "    def recover(self, n_recover, date):\n",
    "        self.infectious += n_recover\n",
    "        self.immune[date] = n_recover\n",
    "    \n",
    "    if __name__ == \"__main__\":\n",
    "        main()"
   ]
  },
  {
   "cell_type": "raw",
   "metadata": {},
   "source": [
    "susceptible = x\n",
    "infectious = suceptible.exposed()\n",
    "removed = infectious.recover()\n",
    "dying = removed.dies()\n",
    "\n",
    "\n",
    "def susceptible(population):\n",
    "    \n",
    "\n",
    "def dies(removed):\n",
    "    "
   ]
  },
  {
   "cell_type": "code",
   "execution_count": 17,
   "metadata": {},
   "outputs": [],
   "source": [
    "def F(x, t, R0=3):\n",
    "    \"\"\"\n",
    "    Time derivative of the state vector.\n",
    "\n",
    "        * x is the state vector (array_like)\n",
    "        * t is time (scalar)\n",
    "        * R0 is the effective transmission rate, defaulting to a constant\n",
    "\n",
    "    \"\"\"\n",
    "    susceptible, exposed, infectious = x\n",
    "    print(x)\n",
    "\n",
    "    # New exposure of susceptibles\n",
    "    b = R0(t) * y if callable(R0) else R0 * y\n",
    "    ne = b * susceptible * infectious\n",
    "\n",
    "    # Time derivatives\n",
    "    ds = - ne\n",
    "    de = ne - sigma * e\n",
    "    di = sigma * e - y * i\n",
    "\n",
    "    return ds, de, di"
   ]
  },
  {
   "cell_type": "code",
   "execution_count": 18,
   "metadata": {},
   "outputs": [],
   "source": [
    "# initial conditions of s, e, i\n",
    "i_0 = 1e-7\n",
    "e_0 = 4 * i_0\n",
    "s_0 = 1 - i_0 - e_0"
   ]
  },
  {
   "cell_type": "code",
   "execution_count": 19,
   "metadata": {},
   "outputs": [],
   "source": [
    "x_0 = s_0, e_0, i_0"
   ]
  },
  {
   "cell_type": "code",
   "execution_count": 20,
   "metadata": {},
   "outputs": [],
   "source": [
    "def solve_path(R0, t_vec, x_init=x_0):\n",
    "    \"\"\"\n",
    "    Solve for i(t) and c(t) via numerical integration,\n",
    "    given the time path for R0.\n",
    "\n",
    "    \"\"\"\n",
    "    G = lambda x, t: F(x, t, R0)\n",
    "    s_path, e_path, i_path = odeint(G, x_init, t_vec).transpose()\n",
    "\n",
    "    c_path = 1 - s_path - e_path       # cumulative cases\n",
    "    return i_path, c_path"
   ]
  },
  {
   "cell_type": "code",
   "execution_count": 21,
   "metadata": {},
   "outputs": [],
   "source": [
    "t_length = 550\n",
    "grid_size = 1000\n",
    "t_vec = np.linspace(0, t_length, grid_size)"
   ]
  },
  {
   "cell_type": "code",
   "execution_count": 22,
   "metadata": {},
   "outputs": [
    {
     "name": "stdout",
     "output_type": "stream",
     "text": [
      "[9.999995e-01 4.000000e-07 1.000000e-07]\n"
     ]
    },
    {
     "ename": "NameError",
     "evalue": "name 'e' is not defined",
     "output_type": "error",
     "traceback": [
      "\u001b[1;31m---------------------------------------------------------------------------\u001b[0m",
      "\u001b[1;31mNameError\u001b[0m                                 Traceback (most recent call last)",
      "\u001b[1;32m<ipython-input-22-372f3c2c2547>\u001b[0m in \u001b[0;36m<module>\u001b[1;34m\u001b[0m\n\u001b[0;32m      4\u001b[0m \u001b[1;33m\u001b[0m\u001b[0m\n\u001b[0;32m      5\u001b[0m \u001b[1;32mfor\u001b[0m \u001b[0mr\u001b[0m \u001b[1;32min\u001b[0m \u001b[0mR0_vals\u001b[0m\u001b[1;33m:\u001b[0m\u001b[1;33m\u001b[0m\u001b[1;33m\u001b[0m\u001b[0m\n\u001b[1;32m----> 6\u001b[1;33m     \u001b[0mi_path\u001b[0m\u001b[1;33m,\u001b[0m \u001b[0mc_path\u001b[0m \u001b[1;33m=\u001b[0m \u001b[0msolve_path\u001b[0m\u001b[1;33m(\u001b[0m\u001b[0mr\u001b[0m\u001b[1;33m,\u001b[0m \u001b[0mt_vec\u001b[0m\u001b[1;33m)\u001b[0m\u001b[1;33m\u001b[0m\u001b[1;33m\u001b[0m\u001b[0m\n\u001b[0m\u001b[0;32m      7\u001b[0m     \u001b[0mi_paths\u001b[0m\u001b[1;33m.\u001b[0m\u001b[0mappend\u001b[0m\u001b[1;33m(\u001b[0m\u001b[0mi_path\u001b[0m\u001b[1;33m)\u001b[0m\u001b[1;33m\u001b[0m\u001b[1;33m\u001b[0m\u001b[0m\n\u001b[0;32m      8\u001b[0m     \u001b[0mc_paths\u001b[0m\u001b[1;33m.\u001b[0m\u001b[0mappend\u001b[0m\u001b[1;33m(\u001b[0m\u001b[0mc_path\u001b[0m\u001b[1;33m)\u001b[0m\u001b[1;33m\u001b[0m\u001b[1;33m\u001b[0m\u001b[0m\n",
      "\u001b[1;32m<ipython-input-20-11da62cfeae6>\u001b[0m in \u001b[0;36msolve_path\u001b[1;34m(R0, t_vec, x_init)\u001b[0m\n\u001b[0;32m      6\u001b[0m     \"\"\"\n\u001b[0;32m      7\u001b[0m     \u001b[0mG\u001b[0m \u001b[1;33m=\u001b[0m \u001b[1;32mlambda\u001b[0m \u001b[0mx\u001b[0m\u001b[1;33m,\u001b[0m \u001b[0mt\u001b[0m\u001b[1;33m:\u001b[0m \u001b[0mF\u001b[0m\u001b[1;33m(\u001b[0m\u001b[0mx\u001b[0m\u001b[1;33m,\u001b[0m \u001b[0mt\u001b[0m\u001b[1;33m,\u001b[0m \u001b[0mR0\u001b[0m\u001b[1;33m)\u001b[0m\u001b[1;33m\u001b[0m\u001b[1;33m\u001b[0m\u001b[0m\n\u001b[1;32m----> 8\u001b[1;33m     \u001b[0ms_path\u001b[0m\u001b[1;33m,\u001b[0m \u001b[0me_path\u001b[0m\u001b[1;33m,\u001b[0m \u001b[0mi_path\u001b[0m \u001b[1;33m=\u001b[0m \u001b[0modeint\u001b[0m\u001b[1;33m(\u001b[0m\u001b[0mG\u001b[0m\u001b[1;33m,\u001b[0m \u001b[0mx_init\u001b[0m\u001b[1;33m,\u001b[0m \u001b[0mt_vec\u001b[0m\u001b[1;33m)\u001b[0m\u001b[1;33m.\u001b[0m\u001b[0mtranspose\u001b[0m\u001b[1;33m(\u001b[0m\u001b[1;33m)\u001b[0m\u001b[1;33m\u001b[0m\u001b[1;33m\u001b[0m\u001b[0m\n\u001b[0m\u001b[0;32m      9\u001b[0m \u001b[1;33m\u001b[0m\u001b[0m\n\u001b[0;32m     10\u001b[0m     \u001b[0mc_path\u001b[0m \u001b[1;33m=\u001b[0m \u001b[1;36m1\u001b[0m \u001b[1;33m-\u001b[0m \u001b[0ms_path\u001b[0m \u001b[1;33m-\u001b[0m \u001b[0me_path\u001b[0m       \u001b[1;31m# cumulative cases\u001b[0m\u001b[1;33m\u001b[0m\u001b[1;33m\u001b[0m\u001b[0m\n",
      "\u001b[1;32m~\\anaconda3\\lib\\site-packages\\scipy\\integrate\\odepack.py\u001b[0m in \u001b[0;36modeint\u001b[1;34m(func, y0, t, args, Dfun, col_deriv, full_output, ml, mu, rtol, atol, tcrit, h0, hmax, hmin, ixpr, mxstep, mxhnil, mxordn, mxords, printmessg, tfirst)\u001b[0m\n\u001b[0;32m    239\u001b[0m     \u001b[0mt\u001b[0m \u001b[1;33m=\u001b[0m \u001b[0mcopy\u001b[0m\u001b[1;33m(\u001b[0m\u001b[0mt\u001b[0m\u001b[1;33m)\u001b[0m\u001b[1;33m\u001b[0m\u001b[1;33m\u001b[0m\u001b[0m\n\u001b[0;32m    240\u001b[0m     \u001b[0my0\u001b[0m \u001b[1;33m=\u001b[0m \u001b[0mcopy\u001b[0m\u001b[1;33m(\u001b[0m\u001b[0my0\u001b[0m\u001b[1;33m)\u001b[0m\u001b[1;33m\u001b[0m\u001b[1;33m\u001b[0m\u001b[0m\n\u001b[1;32m--> 241\u001b[1;33m     output = _odepack.odeint(func, y0, t, args, Dfun, col_deriv, ml, mu,\n\u001b[0m\u001b[0;32m    242\u001b[0m                              \u001b[0mfull_output\u001b[0m\u001b[1;33m,\u001b[0m \u001b[0mrtol\u001b[0m\u001b[1;33m,\u001b[0m \u001b[0matol\u001b[0m\u001b[1;33m,\u001b[0m \u001b[0mtcrit\u001b[0m\u001b[1;33m,\u001b[0m \u001b[0mh0\u001b[0m\u001b[1;33m,\u001b[0m \u001b[0mhmax\u001b[0m\u001b[1;33m,\u001b[0m \u001b[0mhmin\u001b[0m\u001b[1;33m,\u001b[0m\u001b[1;33m\u001b[0m\u001b[1;33m\u001b[0m\u001b[0m\n\u001b[0;32m    243\u001b[0m                              \u001b[0mixpr\u001b[0m\u001b[1;33m,\u001b[0m \u001b[0mmxstep\u001b[0m\u001b[1;33m,\u001b[0m \u001b[0mmxhnil\u001b[0m\u001b[1;33m,\u001b[0m \u001b[0mmxordn\u001b[0m\u001b[1;33m,\u001b[0m \u001b[0mmxords\u001b[0m\u001b[1;33m,\u001b[0m\u001b[1;33m\u001b[0m\u001b[1;33m\u001b[0m\u001b[0m\n",
      "\u001b[1;32m<ipython-input-20-11da62cfeae6>\u001b[0m in \u001b[0;36m<lambda>\u001b[1;34m(x, t)\u001b[0m\n\u001b[0;32m      5\u001b[0m \u001b[1;33m\u001b[0m\u001b[0m\n\u001b[0;32m      6\u001b[0m     \"\"\"\n\u001b[1;32m----> 7\u001b[1;33m     \u001b[0mG\u001b[0m \u001b[1;33m=\u001b[0m \u001b[1;32mlambda\u001b[0m \u001b[0mx\u001b[0m\u001b[1;33m,\u001b[0m \u001b[0mt\u001b[0m\u001b[1;33m:\u001b[0m \u001b[0mF\u001b[0m\u001b[1;33m(\u001b[0m\u001b[0mx\u001b[0m\u001b[1;33m,\u001b[0m \u001b[0mt\u001b[0m\u001b[1;33m,\u001b[0m \u001b[0mR0\u001b[0m\u001b[1;33m)\u001b[0m\u001b[1;33m\u001b[0m\u001b[1;33m\u001b[0m\u001b[0m\n\u001b[0m\u001b[0;32m      8\u001b[0m     \u001b[0ms_path\u001b[0m\u001b[1;33m,\u001b[0m \u001b[0me_path\u001b[0m\u001b[1;33m,\u001b[0m \u001b[0mi_path\u001b[0m \u001b[1;33m=\u001b[0m \u001b[0modeint\u001b[0m\u001b[1;33m(\u001b[0m\u001b[0mG\u001b[0m\u001b[1;33m,\u001b[0m \u001b[0mx_init\u001b[0m\u001b[1;33m,\u001b[0m \u001b[0mt_vec\u001b[0m\u001b[1;33m)\u001b[0m\u001b[1;33m.\u001b[0m\u001b[0mtranspose\u001b[0m\u001b[1;33m(\u001b[0m\u001b[1;33m)\u001b[0m\u001b[1;33m\u001b[0m\u001b[1;33m\u001b[0m\u001b[0m\n\u001b[0;32m      9\u001b[0m \u001b[1;33m\u001b[0m\u001b[0m\n",
      "\u001b[1;32m<ipython-input-17-3fc5caa1cbc1>\u001b[0m in \u001b[0;36mF\u001b[1;34m(x, t, R0)\u001b[0m\n\u001b[0;32m     17\u001b[0m     \u001b[1;31m# Time derivatives\u001b[0m\u001b[1;33m\u001b[0m\u001b[1;33m\u001b[0m\u001b[1;33m\u001b[0m\u001b[0m\n\u001b[0;32m     18\u001b[0m     \u001b[0mds\u001b[0m \u001b[1;33m=\u001b[0m \u001b[1;33m-\u001b[0m \u001b[0mne\u001b[0m\u001b[1;33m\u001b[0m\u001b[1;33m\u001b[0m\u001b[0m\n\u001b[1;32m---> 19\u001b[1;33m     \u001b[0mde\u001b[0m \u001b[1;33m=\u001b[0m \u001b[0mne\u001b[0m \u001b[1;33m-\u001b[0m \u001b[0msigma\u001b[0m \u001b[1;33m*\u001b[0m \u001b[0me\u001b[0m\u001b[1;33m\u001b[0m\u001b[1;33m\u001b[0m\u001b[0m\n\u001b[0m\u001b[0;32m     20\u001b[0m     \u001b[0mdi\u001b[0m \u001b[1;33m=\u001b[0m \u001b[0msigma\u001b[0m \u001b[1;33m*\u001b[0m \u001b[0me\u001b[0m \u001b[1;33m-\u001b[0m \u001b[0my\u001b[0m \u001b[1;33m*\u001b[0m \u001b[0mi\u001b[0m\u001b[1;33m\u001b[0m\u001b[1;33m\u001b[0m\u001b[0m\n\u001b[0;32m     21\u001b[0m \u001b[1;33m\u001b[0m\u001b[0m\n",
      "\u001b[1;31mNameError\u001b[0m: name 'e' is not defined"
     ]
    }
   ],
   "source": [
    "R0_vals = np.linspace(1.6, 3.0, 6)\n",
    "labels = [f'$R0 = {r:.2f}$' for r in R0_vals]\n",
    "i_paths, c_paths = [], []\n",
    "\n",
    "for r in R0_vals:\n",
    "    i_path, c_path = solve_path(r, t_vec)\n",
    "    i_paths.append(i_path)\n",
    "    c_paths.append(c_path)"
   ]
  },
  {
   "cell_type": "code",
   "execution_count": 23,
   "metadata": {},
   "outputs": [],
   "source": [
    "def plot_paths(paths, labels, times=t_vec):\n",
    "\n",
    "    fig, ax = plt.subplots()\n",
    "\n",
    "    for path, label in zip(paths, labels):\n",
    "        ax.plot(times, path, label=label)\n",
    "\n",
    "    ax.legend(loc='upper left')\n",
    "\n",
    "    plt.show()"
   ]
  },
  {
   "cell_type": "code",
   "execution_count": 12,
   "metadata": {},
   "outputs": [
    {
     "data": {
      "image/png": "[encoded data removed]",
      "text/plain": [
       "<Figure size 432x288 with 1 Axes>"
      ]
     },
     "metadata": {
      "needs_background": "light"
     },
     "output_type": "display_data"
    }
   ],
   "source": [
    "plot_paths(i_paths, labels)"
   ]
  },
  {
   "cell_type": "code",
   "execution_count": 13,
   "metadata": {},
   "outputs": [
    {
     "data": {
      "image/png": "[encoded data removed]",
      "text/plain": [
       "<Figure size 432x288 with 1 Axes>"
      ]
     },
     "metadata": {
      "needs_background": "light"
     },
     "output_type": "display_data"
    }
   ],
   "source": [
    "plot_paths(c_paths, labels)"
   ]
  },
  {
   "cell_type": "code",
   "execution_count": null,
   "metadata": {},
   "outputs": [],
   "source": []
  }
 ],
 "metadata": {
  "kernelspec": {
   "display_name": "Python 3",
   "language": "python",
   "name": "python3"
  },
  "language_info": {
   "codemirror_mode": {
    "name": "ipython",
    "version": 3
   },
   "file_extension": ".py",
   "mimetype": "text/x-python",
   "name": "python",
   "nbconvert_exporter": "python",
   "pygments_lexer": "ipython3",
   "version": "3.8.3"
  }
 },
 "nbformat": 4,
 "nbformat_minor": 4
}
