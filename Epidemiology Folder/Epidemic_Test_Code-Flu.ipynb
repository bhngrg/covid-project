{
 "cells": [
  {
   "cell_type": "code",
   "execution_count": 1,
   "metadata": {},
   "outputs": [],
   "source": [
    "import numpy as np\n",
    "from numpy import exp\n",
    "import matplotlib.pyplot as plt\n",
    "from scipy.integrate import odeint\n",
    "import random\n",
    "from datetime import datetime, timedelta"
   ]
  },
  {
   "cell_type": "code",
   "execution_count": 2,
   "metadata": {},
   "outputs": [],
   "source": [
    "pop_size = 3.3e8\n",
    "# SARS-Cov-2 (COVID-19)\n",
    "y = 1/14\n",
    "sigma = 1/4.5"
   ]
  },
  {
   "cell_type": "code",
   "execution_count": 3,
   "metadata": {},
   "outputs": [
    {
     "data": {
      "text/plain": [
       "0.021964285714285714"
      ]
     },
     "execution_count": 3,
     "metadata": {},
     "output_type": "execute_result"
    }
   ],
   "source": [
    "246000/11200000"
   ]
  },
  {
   "cell_type": "code",
   "execution_count": 4,
   "metadata": {},
   "outputs": [],
   "source": [
    "class EpidemicModel:\n",
    "    def __init__(self,x ,date_start, date_end,R0, natural_death_rate=0.00888, disease_death_rate=0.02, birth_rate=.01199, exposure_rate = 0.01, infectious_rate = 0.01, recovery_rate = 0.01):\n",
    "        # x is state vector which contains (susceptible, exposed, infectious)\n",
    "        self.x = x\n",
    "        self.date_start = date_start\n",
    "        self.date_end = date_end\n",
    "        self.current_date = date_start\n",
    "        self.R0 = R0\n",
    "        #self.decodeVector()\n",
    "        self.susceptible = x[0]\n",
    "        self.exposed = x[1]\n",
    "        self.infections = x[2]\n",
    "        self.natural_death_rate = natural_death_rate\n",
    "        self.disease_death_rate = disease_death_rate\n",
    "        self.birth_rate = birth_rate\n",
    "        self.exposure_rate = exposure_rate\n",
    "        self.infectious_rate = infectious_rate\n",
    "        self.recovery_rate = recovery_rate\n",
    "        self.immune = {}\n",
    "        \n",
    "        \n",
    "     \n",
    "    def main(self):\n",
    "        time_elapsed = int((self.date_end - self.date_start).days)\n",
    "        susceptible_pop = []\n",
    "        exposed_pop = []\n",
    "        infections_pop = []\n",
    "        for t in range(time_elapsed):\n",
    "            self.current_date = date_start + timedelta(days=t)\n",
    "            #print('currentDate', self.current_date)\n",
    "            self.born()\n",
    "            self.natural_death()\n",
    "            self.exposure()\n",
    "            self.infected()\n",
    "            self.die_from_disease()\n",
    "            self.recover()\n",
    "            self.check_still_immune()\n",
    "            #self.decodeVector()\n",
    "            #print('susceptible ', self.susceptible)\n",
    "            #print('exposed', self.exposed)\n",
    "            susceptible_pop.append(self.susceptible)\n",
    "            exposed_pop.append(self.exposed)\n",
    "            infections_pop.append(self.infections)\n",
    "        return susceptible_pop, exposed_pop, infections_pop\n",
    "    \n",
    "    def check_still_immune(self):\n",
    "        for recovered_date in list(self.immune):\n",
    "            days_elapsed = (self.current_date - recovered_date).days\n",
    "            if days_elapsed > 182:\n",
    "                self.susceptible += self.immune[recovered_date]\n",
    "                del self.immune[recovered_date]\n",
    "               \n",
    "    \n",
    "            \n",
    "    #def decodeVector(self):\n",
    "        #if(self.x):\n",
    "            #self.susceptible, self.exposed, self.infectious = self.x\n",
    "    \n",
    "    def exposure(self):\n",
    "        n_exposed = self.susceptible * self.exposure_rate\n",
    "        self.susceptible -= n_exposed\n",
    "        self.exposed += n_exposed\n",
    "    \n",
    "    def infected(self):\n",
    "        n_infected = self.exposed * self.infectious_rate\n",
    "        self.exposed -= n_infected\n",
    "        self.infections += n_infected\n",
    "    \n",
    "    def natural_death(self):\n",
    "        random_d = random.randint(0,2)\n",
    "        vector = self.x\n",
    "        vector[random_d] *= (1- self.natural_death_rate)\n",
    "        self.x = vector\n",
    "        \n",
    "    def born(self):\n",
    "        self.susceptible *= (1 + self.birth_rate)\n",
    "        \n",
    "    def die_from_disease(self):\n",
    "        self.infections *= (1 - self.disease_death_rate)\n",
    "        \n",
    "    # def flys_in(self):\n",
    "        # self.infections *= (1 + flys_in_rate)\n",
    "        \n",
    "    def recover(self):\n",
    "        n_recovered = self.infections * self.recovery_rate\n",
    "        self.infections -= n_recovered \n",
    "        self.immune[self.current_date] = n_recovered\n"
   ]
  },
  {
   "cell_type": "code",
   "execution_count": 5,
   "metadata": {},
   "outputs": [
    {
     "name": "stdout",
     "output_type": "stream",
     "text": [
      "1666.382196652392\n"
     ]
    },
    {
     "data": {
      "image/png": "[encoded data removed]",
      "text/plain": [
       "<Figure size 432x288 with 1 Axes>"
      ]
     },
     "metadata": {
      "needs_background": "light"
     },
     "output_type": "display_data"
    }
   ],
   "source": [
    "x = [329201263,1,1]\n",
    "date_start= datetime(2020,1,21)\n",
    "date_end = datetime.now()\n",
    "disease_death_rate = 34200/35500000\n",
    "exposure_rate = 1/2.5\n",
    "infectious_rate = 1/7\n",
    "recovery_rate =  1/6\n",
    "model = EpidemicModel(x, date_start,date_end,R0 = 1.5, exposure_rate=exposure_rate, disease_death_rate = disease_death_rate, infectious_rate= infectious_rate, recovery_rate = recovery_rate)\n",
    "\n",
    "susceptible_pop, exposed_pop, infections_pop  = model.main()\n",
    "plt.plot(infections_pop)\n",
    "#self.total_pop = \n",
    "print(infections_pop[-1])\n"
   ]
  },
  {
   "cell_type": "raw",
   "metadata": {},
   "source": [
    "susceptible = x\n",
    "infectious = suceptible.exposed()\n",
    "removed = infectious.recover()\n",
    "dying = removed.dies()\n",
    "\n",
    "\n",
    "def susceptible(population):\n",
    "    \n",
    "\n",
    "def dies(removed):\n",
    "    "
   ]
  },
  {
   "cell_type": "code",
   "execution_count": null,
   "metadata": {},
   "outputs": [],
   "source": []
  }
 ],
 "metadata": {
  "kernelspec": {
   "display_name": "Python 3",
   "language": "python",
   "name": "python3"
  },
  "language_info": {
   "codemirror_mode": {
    "name": "ipython",
    "version": 3
   },
   "file_extension": ".py",
   "mimetype": "text/x-python",
   "name": "python",
   "nbconvert_exporter": "python",
   "pygments_lexer": "ipython3",
   "version": "3.8.3"
  }
 },
 "nbformat": 4,
 "nbformat_minor": 4
}
