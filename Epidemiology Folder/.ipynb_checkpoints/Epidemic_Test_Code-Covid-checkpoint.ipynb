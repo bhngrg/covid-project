{
 "cells": [
  {
   "cell_type": "code",
   "execution_count": 15,
   "metadata": {},
   "outputs": [],
   "source": [
    "import numpy as np\n",
    "from numpy import exp\n",
    "import matplotlib.pyplot as plt\n",
    "from scipy.integrate import odeint\n",
    "import random\n",
    "from datetime import datetime, timedelta\n",
    "import pandas as pd\n",
    "import plotly.express as px"
   ]
  },
  {
   "cell_type": "code",
   "execution_count": 16,
   "metadata": {},
   "outputs": [],
   "source": [
    "pop_size = 3.3e8\n",
    "# SARS-Cov-2 (COVID-19)\n",
    "y = 1/14\n",
    "sigma = 1/4.5"
   ]
  },
  {
   "cell_type": "code",
   "execution_count": 17,
   "metadata": {},
   "outputs": [],
   "source": [
    "covid = {\n",
    "    'disease_name': 'Covid',\n",
    "    'date_start': datetime(2020,1,21),\n",
    "    'date_end': datetime.now(),\n",
    "    'R0': 2.5 , #Uniform(0,2.5)\n",
    "    'susceptible':329201263,\n",
    "    'exposed':1,\n",
    "    'infections':1,\n",
    "    'natural_death_rate':0.00888,\n",
    "    'disease_death_rate':0.02,\n",
    "    'birth_rate':0.01199,\n",
    "    'exposure_rate':1/4.5,\n",
    "    'infectious_rate':1/24,\n",
    "    'recovery_rate':1/14,\n",
    "    'immunity_days': 182\n",
    "}\n",
    "\n",
    "SARS = {\n",
    "    'disease_name': 'SARS',\n",
    "    'date_start': datetime(2020,1,21),\n",
    "    'date_end': datetime.now(),\n",
    "    'R0': 1.875,\n",
    "    'susceptible':329201263,\n",
    "    'exposed':1,\n",
    "    'infections':1,\n",
    "    'natural_death_rate':0.00888,\n",
    "    'disease_death_rate':0.095579,\n",
    "    'birth_rate':0.01199,\n",
    "    'exposure_rate':0.2,\n",
    "    'infectious_rate':0.071429,\n",
    "    'recovery_rate':0.011111,\n",
    "    'immunity_days': 1096\n",
    "}\n",
    "\n",
    "Flu = {\n",
    "    'disease_name': 'Flu',\n",
    "    'date_start': datetime(2020,1,21),\n",
    "    'date_end': datetime.now(),\n",
    "    'R0': 1.5 ,\n",
    "     'susceptible':329201263,\n",
    "    'exposed':1,\n",
    "    'infections':1,\n",
    "    'natural_death_rate':0.00888,\n",
    "    'disease_death_rate':0.009634,\n",
    "    'birth_rate':0.01199,\n",
    "    'exposure_rate':0.4,\n",
    "    'infectious_rate':0.142857,\n",
    "    'recovery_rate':0.166667,\n",
    "    'immunity_days': 182\n",
    "}\n",
    "disease_df = [covid,SARS,Flu]\n"
   ]
  },
  {
   "cell_type": "code",
   "execution_count": 18,
   "metadata": {},
   "outputs": [
    {
     "data": {
      "text/html": [
       "<div>\n",
       "<style scoped>\n",
       "    .dataframe tbody tr th:only-of-type {\n",
       "        vertical-align: middle;\n",
       "    }\n",
       "\n",
       "    .dataframe tbody tr th {\n",
       "        vertical-align: top;\n",
       "    }\n",
       "\n",
       "    .dataframe thead th {\n",
       "        text-align: right;\n",
       "    }\n",
       "</style>\n",
       "<table border=\"1\" class=\"dataframe\">\n",
       "  <thead>\n",
       "    <tr style=\"text-align: right;\">\n",
       "      <th></th>\n",
       "      <th>disease_name</th>\n",
       "      <th>date_start</th>\n",
       "      <th>date_end</th>\n",
       "      <th>R0</th>\n",
       "      <th>susceptible</th>\n",
       "      <th>exposed</th>\n",
       "      <th>infections</th>\n",
       "      <th>natural_death_rate</th>\n",
       "      <th>disease_death_rate</th>\n",
       "      <th>birth_rate</th>\n",
       "      <th>exposure_rate</th>\n",
       "      <th>infectious_rate</th>\n",
       "      <th>recovery_rate</th>\n",
       "      <th>immunity_days</th>\n",
       "    </tr>\n",
       "  </thead>\n",
       "  <tbody>\n",
       "    <tr>\n",
       "      <th>0</th>\n",
       "      <td>Covid</td>\n",
       "      <td>2020-01-21</td>\n",
       "      <td>2020-11-23 20:26:50.066472</td>\n",
       "      <td>2.500</td>\n",
       "      <td>329201263</td>\n",
       "      <td>1</td>\n",
       "      <td>1</td>\n",
       "      <td>0.00888</td>\n",
       "      <td>0.020000</td>\n",
       "      <td>0.01199</td>\n",
       "      <td>0.222222</td>\n",
       "      <td>0.041667</td>\n",
       "      <td>0.071429</td>\n",
       "      <td>182</td>\n",
       "    </tr>\n",
       "    <tr>\n",
       "      <th>1</th>\n",
       "      <td>SARS</td>\n",
       "      <td>2020-01-21</td>\n",
       "      <td>2020-11-23 20:26:50.066472</td>\n",
       "      <td>1.875</td>\n",
       "      <td>329201263</td>\n",
       "      <td>1</td>\n",
       "      <td>1</td>\n",
       "      <td>0.00888</td>\n",
       "      <td>0.095579</td>\n",
       "      <td>0.01199</td>\n",
       "      <td>0.200000</td>\n",
       "      <td>0.071429</td>\n",
       "      <td>0.011111</td>\n",
       "      <td>1096</td>\n",
       "    </tr>\n",
       "    <tr>\n",
       "      <th>2</th>\n",
       "      <td>Flu</td>\n",
       "      <td>2020-01-21</td>\n",
       "      <td>2020-11-23 20:26:50.066472</td>\n",
       "      <td>1.500</td>\n",
       "      <td>329201263</td>\n",
       "      <td>1</td>\n",
       "      <td>1</td>\n",
       "      <td>0.00888</td>\n",
       "      <td>0.009634</td>\n",
       "      <td>0.01199</td>\n",
       "      <td>0.400000</td>\n",
       "      <td>0.142857</td>\n",
       "      <td>0.166667</td>\n",
       "      <td>182</td>\n",
       "    </tr>\n",
       "  </tbody>\n",
       "</table>\n",
       "</div>"
      ],
      "text/plain": [
       "  disease_name date_start                   date_end     R0  susceptible  \\\n",
       "0        Covid 2020-01-21 2020-11-23 20:26:50.066472  2.500    329201263   \n",
       "1         SARS 2020-01-21 2020-11-23 20:26:50.066472  1.875    329201263   \n",
       "2          Flu 2020-01-21 2020-11-23 20:26:50.066472  1.500    329201263   \n",
       "\n",
       "   exposed  infections  natural_death_rate  disease_death_rate  birth_rate  \\\n",
       "0        1           1             0.00888            0.020000     0.01199   \n",
       "1        1           1             0.00888            0.095579     0.01199   \n",
       "2        1           1             0.00888            0.009634     0.01199   \n",
       "\n",
       "   exposure_rate  infectious_rate  recovery_rate  immunity_days  \n",
       "0       0.222222         0.041667       0.071429            182  \n",
       "1       0.200000         0.071429       0.011111           1096  \n",
       "2       0.400000         0.142857       0.166667            182  "
      ]
     },
     "execution_count": 18,
     "metadata": {},
     "output_type": "execute_result"
    }
   ],
   "source": [
    "pd.DataFrame(disease_df)"
   ]
  },
  {
   "cell_type": "code",
   "execution_count": 19,
   "metadata": {},
   "outputs": [],
   "source": [
    "class EpidemicModel:\n",
    "    def __init__(self,disease_name ,date_start,susceptible, exposed,infections, date_end,R0, natural_death_rate, disease_death_rate, birth_rate, exposure_rate, infectious_rate, recovery_rate, immunity_days):\n",
    "        # x is state vector which contains (susceptible, exposed, infectious)\n",
    "        self.disease_name = disease_name\n",
    "        self.date_start = date_start\n",
    "        self.date_end = date_end\n",
    "        self.current_date = date_start\n",
    "        self.R0 = R0\n",
    "        self.susceptible = susceptible\n",
    "        self.exposed =exposed\n",
    "        self.infections = infections\n",
    "        self.natural_death_rate = natural_death_rate\n",
    "        self.disease_death_rate = disease_death_rate\n",
    "        self.birth_rate = birth_rate\n",
    "        self.exposure_rate = exposure_rate\n",
    "        self.infectious_rate = infectious_rate\n",
    "        self.recovery_rate = recovery_rate\n",
    "        self.immunity_days = immunity_days\n",
    "        self.immune = {}\n",
    "        \n",
    "        \n",
    "     \n",
    "    def main(self):\n",
    "        time_elapsed = int((self.date_end - self.date_start).days)\n",
    "        susceptible_pop = []\n",
    "        exposed_pop = []\n",
    "        infections_pop = []\n",
    "        for t in range(time_elapsed):\n",
    "            self.current_date = self.date_start + timedelta(days=t)\n",
    "            #print('currentDate', self.current_date)\n",
    "            self.born()\n",
    "            self.natural_death()\n",
    "            self.exposure()\n",
    "            self.infected()\n",
    "            self.die_from_disease()\n",
    "            self.recover()\n",
    "            self.check_still_immune()\n",
    "            #self.decodeVector()\n",
    "            #print('susceptible ', self.susceptible)\n",
    "            #print('exposed', self.exposed)\n",
    "            susceptible_pop.append(self.susceptible)\n",
    "            exposed_pop.append(self.exposed)\n",
    "            infections_pop.append(self.infections)\n",
    "        return susceptible_pop, exposed_pop, infections_pop\n",
    "    \n",
    "    def check_still_immune(self):\n",
    "        for recovered_date in list(self.immune):\n",
    "            days_elapsed = (self.current_date - recovered_date).days\n",
    "            if days_elapsed > 182:\n",
    "                self.susceptible += self.immune[recovered_date]\n",
    "                del self.immune[recovered_date]\n",
    "    \n",
    "    def exposure(self):\n",
    "        n_exposed = self.susceptible * self.exposure_rate\n",
    "        self.susceptible -= n_exposed\n",
    "        self.exposed += n_exposed\n",
    "    \n",
    "    def infected(self):\n",
    "        n_infected = self.exposed * self.infectious_rate\n",
    "        self.exposed -= n_infected\n",
    "        self.infections += n_infected\n",
    "    \n",
    "    def natural_death(self):\n",
    "        random_d = random.randint(0,2)\n",
    "        if(random_d == 0):\n",
    "            self.susceptible *= (1-self.natural_death_rate)\n",
    "        elif(random_d == 1):\n",
    "            self.exposed *= (1-self.natural_death_rate)\n",
    "        elif(random_d == 2):\n",
    "            self.infections *= (1-self.natural_death_rate)\n",
    "        \n",
    "    def born(self):\n",
    "        self.susceptible *= (1 + self.birth_rate)\n",
    "        \n",
    "    def die_from_disease(self):\n",
    "        self.infections *= (1 - self.disease_death_rate)\n",
    "        \n",
    "    # def flys_in(self):\n",
    "        # self.infections *= (1 + flys_in_rate)\n",
    "        \n",
    "    def recover(self):\n",
    "        n_recovered = self.infections * self.recovery_rate\n",
    "        self.infections -= n_recovered \n",
    "        self.immune[self.current_date] = n_recovered\n"
   ]
  },
  {
   "cell_type": "code",
   "execution_count": 20,
   "metadata": {},
   "outputs": [],
   "source": [
    "covid_model = EpidemicModel(**covid)\n",
    "[covid_sus, covid_expo, covid_infect] = covid_model.main()\n",
    "SARS_model = EpidemicModel(**SARS)\n",
    "[SARS_sus, SARS_expo, SARS_infect] = SARS_model.main()\n",
    "Flu_model = EpidemicModel(**Flu)\n",
    "[Flu_sus, Flu_expo, Flu_infect]= Flu_model.main()"
   ]
  },
  {
   "cell_type": "code",
   "execution_count": 25,
   "metadata": {},
   "outputs": [
    {
     "data": {
      "application/vnd.plotly.v1+json": {
       "config": {
        "plotlyServerURL": "https://plot.ly"
       },
       "data": [
        {
         "hovertemplate": "x=%{x}<br>y=%{y}<extra></extra>",
         "legendgroup": "",
         "line": {
          "color": "#636efa",
          "dash": "solid"
         },
         "mode": "lines",
         "name": "",
         "orientation": "v",
         "showlegend": false,
         "type": "scatter",
         "x": [
          0,
          1,
          2,
          3,
          4,
          5,
          6,
          7,
          8,
          9,
          10,
          11,
          12,
          13,
          14,
          15,
          16,
          17,
          18,
          19,
          20,
          21,
          22,
          23,
          24,
          25,
          26,
          27,
          28,
          29,
          30,
          31,
          32,
          33,
          34,
          35,
          36,
          37,
          38,
          39,
          40,
          41,
          42,
          43,
          44,
          45,
          46,
          47,
          48,
          49,
          50,
          51,
          52,
          53,
          54,
          55,
          56,
          57,
          58,
          59,
          60,
          61,
          62,
          63,
          64,
          65,
          66,
          67,
          68,
          69,
          70,
          71,
          72,
          73,
          74,
          75,
          76,
          77,
          78,
          79,
          80,
          81,
          82,
          83,
          84,
          85,
          86,
          87,
          88,
          89,
          90,
          91,
          92,
          93,
          94,
          95,
          96,
          97,
          98,
          99,
          100,
          101,
          102,
          103,
          104,
          105,
          106,
          107,
          108,
          109,
          110,
          111,
          112,
          113,
          114,
          115,
          116,
          117,
          118,
          119,
          120,
          121,
          122,
          123,
          124,
          125,
          126,
          127,
          128,
          129,
          130,
          131,
          132,
          133,
          134,
          135,
          136,
          137,
          138,
          139,
          140,
          141,
          142,
          143,
          144,
          145,
          146,
          147,
          148,
          149,
          150,
          151,
          152,
          153,
          154,
          155,
          156,
          157,
          158,
          159,
          160,
          161,
          162,
          163,
          164,
          165,
          166,
          167,
          168,
          169,
          170,
          171,
          172,
          173,
          174,
          175,
          176,
          177,
          178,
          179,
          180,
          181,
          182,
          183,
          184,
          185,
          186,
          187,
          188,
          189,
          190,
          191,
          192,
          193,
          194,
          195,
          196,
          197,
          198,
          199,
          200,
          201,
          202,
          203,
          204,
          205,
          206,
          207,
          208,
          209,
          210,
          211,
          212,
          213,
          214,
          215,
          216,
          217,
          218,
          219,
          220,
          221,
          222,
          223,
          224,
          225,
          226,
          227,
          228,
          229,
          230,
          231,
          232,
          233,
          234,
          235,
          236,
          237,
          238,
          239,
          240,
          241,
          242,
          243,
          244,
          245,
          246,
          247,
          248,
          249,
          250,
          251,
          252,
          253,
          254,
          255,
          256,
          257,
          258,
          259,
          260,
          261,
          262,
          263,
          264,
          265,
          266,
          267,
          268,
          269,
          270,
          271,
          272,
          273,
          274,
          275,
          276,
          277,
          278,
          279,
          280,
          281,
          282,
          283,
          284,
          285,
          286,
          287,
          288,
          289,
          290,
          291,
          292,
          293,
          294,
          295,
          296,
          297,
          298,
          299,
          300,
          301,
          302,
          303,
          304,
          305,
          306
         ],
         "xaxis": "x",
         "y": [
          4256577.656598178,
          11171782.124526974,
          19590797.077019628,
          28614427.940889277,
          37493922.17196971,
          46176798.42989097,
          54227333.56547163,
          61359187.40317529,
          67491721.92423113,
          72700252.64024816,
          76881421.58527341,
          80179620.5804932,
          82639443.96833412,
          84320098.6122446,
          85205392.24702084,
          85388281.92273141,
          84958863.04539625,
          83398742.12410778,
          82124580.38463861,
          80458228.59725583,
          78526333.43983352,
          75753584.15802185,
          73446429.47477855,
          71007269.59157562,
          68470748.74894235,
          65867585.49898227,
          63224766.83145832,
          60530322.90229633,
          57846345.24133675,
          55189250.913473964,
          52544464.98352602,
          49930779.4824206,
          47387820.05545275,
          44899426.706211336,
          42496941.11469417,
          40164087.22552081,
          37907740.74661793,
          35749364.537244245,
          33673130.64365266,
          31681750.901041653,
          29789688.57262445,
          27982240.411678027,
          26270566.61856627,
          24651245.26138562,
          23120757.7192514,
          21666679.298378646,
          20295826.47489737,
          18996826.02659303,
          17774832.140054636,
          16619514.928327579,
          15534735.943947602,
          14516704.752746703,
          13561773.376997834,
          12666438.97194232,
          11827345.091723748,
          11041281.746996649,
          10305184.43670107,
          9612585.4223452,
          8964880.009284815,
          8288142.787296971,
          7729711.279790466,
          7146239.466435422,
          6608011.14698035,
          6111388.281625619,
          5699482.702767152,
          5312475.179513501,
          4950990.854100411,
          4613430.0369680775,
          4296755.056609221,
          4001343.203104515,
          3694039.929766732,
          3439253.7300715684,
          3200592.2927316697,
          2978239.3316872506,
          2770153.686356946,
          2575562.7830112455,
          2374070.178063871,
          2207815.235226052,
          2053084.9818753507,
          1908446.129456277,
          1758769.490628657,
          1634716.4988869305,
          1519358.3054496495,
          1412091.38496422,
          1301138.6106886363,
          1209590.5543015767,
          1124056.4126175079,
          1044192.2410665283,
          969667.2179573207,
          900164.1071009516,
          835650.9805393415,
          775768.717546655,
          714022.9609043316,
          662860.3757766968,
          610104.8055015533,
          566577.1850330641,
          521653.4886827242,
          484587.43655122456,
          449999.6538890204,
          417742.85354981537,
          387802.1439652869,
          359893.8566497614,
          331142.7135514756,
          304790.976439673,
          283048.64916402596,
          262770.150294367,
          243946.52769803943,
          226399.53163965262,
          208320.73134415277,
          193341.44025981356,
          179442.57815789184,
          166492.07460536138,
          154480.6717700134,
          142112.9164792002,
          131865.98606147006,
          121313.83568052837,
          112607.57783984128,
          104527.52289351745,
          96198.32508336642,
          89326.08265095833,
          82917.69178689543,
          76311.46060054578,
          70860.79881634885,
          65236.674240633845,
          60596.281929941775,
          56266.742846266796,
          52246.58593773292,
          48098.75527712916,
          44676.43628110213,
          41483.48889819521,
          38189.33302146091,
          35168.07069785986,
          32664.39479997877,
          30079.251205337543,
          27946.26688628215,
          25742.047458521545,
          23718.900961351686,
          22049.586193558374,
          20489.984540872185,
          18877.427370154634,
          17396.972991476912,
          16037.26389220671,
          14915.340366505638,
          13752.603684418018,
          12788.819414834914,
          11891.917843684054,
          11053.585388539594,
          10186.17437189025,
          9389.564727707602,
          8729.296626856976,
          8045.76198935186,
          7479.228022702259,
          6949.9621640871055,
          6455.826414298465,
          5996.744071633797,
          5568.3994677518185,
          5170.651425601311,
          4760.248994573715,
          4420.173219703023,
          4104.394627190304,
          3809.9310141915253,
          3535.490212153252,
          3280.895517556293,
          3044.703667218719,
          2801.3960938028195,
          2599.8046959273347,
          2412.77020607419,
          2239.2362092000426,
          2077.5529466110293,
          1926.9848865145907,
          1786.8330587870398,
          1642.7661108098093,
          1510.8562728747063,
          1390.0231903723018,
          1289.9088383239157,
          1197.0328438025501,
          1110.8689579538511,
          1030.5973883475579,
          947.9720358468019,
          872.2718879333959,
          809.8136648645553,
          751.8329011298015,
          692.0369980908315,
          637.2042650992588,
          1204.8647596949627,
          3767.623286241719,
          10384.235362186306,
          23584.21692464644,
          46050.658960794724,
          80583.71669389775,
          129368.84382553521,
          193827.77197224073,
          277389.82212692517,
          379666.09708779055,
          500872.41582008137,
          637104.9573075706,
          791156.180567654,
          961909.1776049711,
          1153302.9397768914,
          1358500.1512695989,
          1564703.667525417,
          1789317.9462428868,
          2007134.2615260624,
          2242053.5743949446,
          2461963.2320766714,
          2701233.2066104943,
          2916286.048492899,
          3149707.3522056094,
          3371348.9635844384,
          3558127.9566821256,
          3764434.500638578,
          3958748.214410913,
          4108816.033059428,
          4247505.980783962,
          4374104.676717076,
          4517765.823477244,
          4641490.056834983,
          4750588.166191455,
          4840071.571166578,
          4877375.059846013,
          4938638.262123527,
          4982025.651914122,
          5008652.485234968,
          5019608.681555466,
          5020152.776942739,
          5006152.135663334,
          4943318.515086162,
          4915429.81948159,
          4878307.934588429,
          4793798.835914064,
          4740205.47567578,
          4641767.182564177,
          4541440.844936157,
          4471842.5791992815,
          4396400.049454522,
          4315582.546747118,
          4226860.976073112,
          4131531.7831043913,
          4000840.0529870754,
          3904175.109381968,
          3774312.6472855266,
          3647008.2859598324,
          3551081.223067272,
          3425298.206835183,
          3327204.367456185,
          3228332.937703552,
          3128992.1340246103,
          3004691.106714656,
          2884221.570299473,
          2788556.841376867,
          2693441.153687651,
          2599101.8496996462,
          2504228.0447303774,
          2409408.295481435,
          2315139.9179932927,
          2223133.6682584565,
          2133420.128038002,
          2044862.9737475917,
          1957788.1145892928,
          1872463.9707579792,
          1790084.2364384418,
          1710573.8168697075,
          1633865.4496710482,
          1559058.1655789327,
          1474728.3343972217,
          1406857.8178058611,
          1340825.4345746783,
          1277415.4315467065,
          1215911.492007576,
          1147344.2227841883,
          1091948.8247089344,
          1030187.0397840041,
          979736.9195117151,
          923667.0254091957,
          877834.9782311379,
          834008.5047780486,
          792111.2465770436,
          752071.1162907737,
          713465.019033982,
          670987.2265208202,
          636179.7873701064,
          603014.8249364931,
          571421.8219077395,
          536799.9593228082,
          508640.10773112735,
          481580.4761087118,
          455626.1699896872,
          430773.5946072823,
          407201.47322634753,
          384845.64515262714,
          363477.9660791002,
          343084.4759680398,
          323646.47623450815,
          302709.9180737669,
          283224.291143305,
          267203.08772502287,
          249934.70927005625,
          235839.38510038416,
          220630.49350726974,
          206460.74140338547,
          194801.16226058855,
          182220.480955673,
          171943.74970196755,
          162139.4886743089,
          152867.39343042023,
          144035.72108381576,
          135694.26047532883
         ],
         "yaxis": "y"
        }
       ],
       "layout": {
        "legend": {
         "tracegroupgap": 0
        },
        "template": {
         "data": {
          "bar": [
           {
            "error_x": {
             "color": "#2a3f5f"
            },
            "error_y": {
             "color": "#2a3f5f"
            },
            "marker": {
             "line": {
              "color": "#E5ECF6",
              "width": 0.5
             }
            },
            "type": "bar"
           }
          ],
          "barpolar": [
           {
            "marker": {
             "line": {
              "color": "#E5ECF6",
              "width": 0.5
             }
            },
            "type": "barpolar"
           }
          ],
          "carpet": [
           {
            "aaxis": {
             "endlinecolor": "#2a3f5f",
             "gridcolor": "white",
             "linecolor": "white",
             "minorgridcolor": "white",
             "startlinecolor": "#2a3f5f"
            },
            "baxis": {
             "endlinecolor": "#2a3f5f",
             "gridcolor": "white",
             "linecolor": "white",
             "minorgridcolor": "white",
             "startlinecolor": "#2a3f5f"
            },
            "type": "carpet"
           }
          ],
          "choropleth": [
           {
            "colorbar": {
             "outlinewidth": 0,
             "ticks": ""
            },
            "type": "choropleth"
           }
          ],
          "contour": [
           {
            "colorbar": {
             "outlinewidth": 0,
             "ticks": ""
            },
            "colorscale": [
             [
              0,
              "#0d0887"
             ],
             [
              0.1111111111111111,
              "#46039f"
             ],
             [
              0.2222222222222222,
              "#7201a8"
             ],
             [
              0.3333333333333333,
              "#9c179e"
             ],
             [
              0.4444444444444444,
              "#bd3786"
             ],
             [
              0.5555555555555556,
              "#d8576b"
             ],
             [
              0.6666666666666666,
              "#ed7953"
             ],
             [
              0.7777777777777778,
              "#fb9f3a"
             ],
             [
              0.8888888888888888,
              "#fdca26"
             ],
             [
              1,
              "#f0f921"
             ]
            ],
            "type": "contour"
           }
          ],
          "contourcarpet": [
           {
            "colorbar": {
             "outlinewidth": 0,
             "ticks": ""
            },
            "type": "contourcarpet"
           }
          ],
          "heatmap": [
           {
            "colorbar": {
             "outlinewidth": 0,
             "ticks": ""
            },
            "colorscale": [
             [
              0,
              "#0d0887"
             ],
             [
              0.1111111111111111,
              "#46039f"
             ],
             [
              0.2222222222222222,
              "#7201a8"
             ],
             [
              0.3333333333333333,
              "#9c179e"
             ],
             [
              0.4444444444444444,
              "#bd3786"
             ],
             [
              0.5555555555555556,
              "#d8576b"
             ],
             [
              0.6666666666666666,
              "#ed7953"
             ],
             [
              0.7777777777777778,
              "#fb9f3a"
             ],
             [
              0.8888888888888888,
              "#fdca26"
             ],
             [
              1,
              "#f0f921"
             ]
            ],
            "type": "heatmap"
           }
          ],
          "heatmapgl": [
           {
            "colorbar": {
             "outlinewidth": 0,
             "ticks": ""
            },
            "colorscale": [
             [
              0,
              "#0d0887"
             ],
             [
              0.1111111111111111,
              "#46039f"
             ],
             [
              0.2222222222222222,
              "#7201a8"
             ],
             [
              0.3333333333333333,
              "#9c179e"
             ],
             [
              0.4444444444444444,
              "#bd3786"
             ],
             [
              0.5555555555555556,
              "#d8576b"
             ],
             [
              0.6666666666666666,
              "#ed7953"
             ],
             [
              0.7777777777777778,
              "#fb9f3a"
             ],
             [
              0.8888888888888888,
              "#fdca26"
             ],
             [
              1,
              "#f0f921"
             ]
            ],
            "type": "heatmapgl"
           }
          ],
          "histogram": [
           {
            "marker": {
             "colorbar": {
              "outlinewidth": 0,
              "ticks": ""
             }
            },
            "type": "histogram"
           }
          ],
          "histogram2d": [
           {
            "colorbar": {
             "outlinewidth": 0,
             "ticks": ""
            },
            "colorscale": [
             [
              0,
              "#0d0887"
             ],
             [
              0.1111111111111111,
              "#46039f"
             ],
             [
              0.2222222222222222,
              "#7201a8"
             ],
             [
              0.3333333333333333,
              "#9c179e"
             ],
             [
              0.4444444444444444,
              "#bd3786"
             ],
             [
              0.5555555555555556,
              "#d8576b"
             ],
             [
              0.6666666666666666,
              "#ed7953"
             ],
             [
              0.7777777777777778,
              "#fb9f3a"
             ],
             [
              0.8888888888888888,
              "#fdca26"
             ],
             [
              1,
              "#f0f921"
             ]
            ],
            "type": "histogram2d"
           }
          ],
          "histogram2dcontour": [
           {
            "colorbar": {
             "outlinewidth": 0,
             "ticks": ""
            },
            "colorscale": [
             [
              0,
              "#0d0887"
             ],
             [
              0.1111111111111111,
              "#46039f"
             ],
             [
              0.2222222222222222,
              "#7201a8"
             ],
             [
              0.3333333333333333,
              "#9c179e"
             ],
             [
              0.4444444444444444,
              "#bd3786"
             ],
             [
              0.5555555555555556,
              "#d8576b"
             ],
             [
              0.6666666666666666,
              "#ed7953"
             ],
             [
              0.7777777777777778,
              "#fb9f3a"
             ],
             [
              0.8888888888888888,
              "#fdca26"
             ],
             [
              1,
              "#f0f921"
             ]
            ],
            "type": "histogram2dcontour"
           }
          ],
          "mesh3d": [
           {
            "colorbar": {
             "outlinewidth": 0,
             "ticks": ""
            },
            "type": "mesh3d"
           }
          ],
          "parcoords": [
           {
            "line": {
             "colorbar": {
              "outlinewidth": 0,
              "ticks": ""
             }
            },
            "type": "parcoords"
           }
          ],
          "pie": [
           {
            "automargin": true,
            "type": "pie"
           }
          ],
          "scatter": [
           {
            "marker": {
             "colorbar": {
              "outlinewidth": 0,
              "ticks": ""
             }
            },
            "type": "scatter"
           }
          ],
          "scatter3d": [
           {
            "line": {
             "colorbar": {
              "outlinewidth": 0,
              "ticks": ""
             }
            },
            "marker": {
             "colorbar": {
              "outlinewidth": 0,
              "ticks": ""
             }
            },
            "type": "scatter3d"
           }
          ],
          "scattercarpet": [
           {
            "marker": {
             "colorbar": {
              "outlinewidth": 0,
              "ticks": ""
             }
            },
            "type": "scattercarpet"
           }
          ],
          "scattergeo": [
           {
            "marker": {
             "colorbar": {
              "outlinewidth": 0,
              "ticks": ""
             }
            },
            "type": "scattergeo"
           }
          ],
          "scattergl": [
           {
            "marker": {
             "colorbar": {
              "outlinewidth": 0,
              "ticks": ""
             }
            },
            "type": "scattergl"
           }
          ],
          "scattermapbox": [
           {
            "marker": {
             "colorbar": {
              "outlinewidth": 0,
              "ticks": ""
             }
            },
            "type": "scattermapbox"
           }
          ],
          "scatterpolar": [
           {
            "marker": {
             "colorbar": {
              "outlinewidth": 0,
              "ticks": ""
             }
            },
            "type": "scatterpolar"
           }
          ],
          "scatterpolargl": [
           {
            "marker": {
             "colorbar": {
              "outlinewidth": 0,
              "ticks": ""
             }
            },
            "type": "scatterpolargl"
           }
          ],
          "scatterternary": [
           {
            "marker": {
             "colorbar": {
              "outlinewidth": 0,
              "ticks": ""
             }
            },
            "type": "scatterternary"
           }
          ],
          "surface": [
           {
            "colorbar": {
             "outlinewidth": 0,
             "ticks": ""
            },
            "colorscale": [
             [
              0,
              "#0d0887"
             ],
             [
              0.1111111111111111,
              "#46039f"
             ],
             [
              0.2222222222222222,
              "#7201a8"
             ],
             [
              0.3333333333333333,
              "#9c179e"
             ],
             [
              0.4444444444444444,
              "#bd3786"
             ],
             [
              0.5555555555555556,
              "#d8576b"
             ],
             [
              0.6666666666666666,
              "#ed7953"
             ],
             [
              0.7777777777777778,
              "#fb9f3a"
             ],
             [
              0.8888888888888888,
              "#fdca26"
             ],
             [
              1,
              "#f0f921"
             ]
            ],
            "type": "surface"
           }
          ],
          "table": [
           {
            "cells": {
             "fill": {
              "color": "#EBF0F8"
             },
             "line": {
              "color": "white"
             }
            },
            "header": {
             "fill": {
              "color": "#C8D4E3"
             },
             "line": {
              "color": "white"
             }
            },
            "type": "table"
           }
          ]
         },
         "layout": {
          "annotationdefaults": {
           "arrowcolor": "#2a3f5f",
           "arrowhead": 0,
           "arrowwidth": 1
          },
          "coloraxis": {
           "colorbar": {
            "outlinewidth": 0,
            "ticks": ""
           }
          },
          "colorscale": {
           "diverging": [
            [
             0,
             "#8e0152"
            ],
            [
             0.1,
             "#c51b7d"
            ],
            [
             0.2,
             "#de77ae"
            ],
            [
             0.3,
             "#f1b6da"
            ],
            [
             0.4,
             "#fde0ef"
            ],
            [
             0.5,
             "#f7f7f7"
            ],
            [
             0.6,
             "#e6f5d0"
            ],
            [
             0.7,
             "#b8e186"
            ],
            [
             0.8,
             "#7fbc41"
            ],
            [
             0.9,
             "#4d9221"
            ],
            [
             1,
             "#276419"
            ]
           ],
           "sequential": [
            [
             0,
             "#0d0887"
            ],
            [
             0.1111111111111111,
             "#46039f"
            ],
            [
             0.2222222222222222,
             "#7201a8"
            ],
            [
             0.3333333333333333,
             "#9c179e"
            ],
            [
             0.4444444444444444,
             "#bd3786"
            ],
            [
             0.5555555555555556,
             "#d8576b"
            ],
            [
             0.6666666666666666,
             "#ed7953"
            ],
            [
             0.7777777777777778,
             "#fb9f3a"
            ],
            [
             0.8888888888888888,
             "#fdca26"
            ],
            [
             1,
             "#f0f921"
            ]
           ],
           "sequentialminus": [
            [
             0,
             "#0d0887"
            ],
            [
             0.1111111111111111,
             "#46039f"
            ],
            [
             0.2222222222222222,
             "#7201a8"
            ],
            [
             0.3333333333333333,
             "#9c179e"
            ],
            [
             0.4444444444444444,
             "#bd3786"
            ],
            [
             0.5555555555555556,
             "#d8576b"
            ],
            [
             0.6666666666666666,
             "#ed7953"
            ],
            [
             0.7777777777777778,
             "#fb9f3a"
            ],
            [
             0.8888888888888888,
             "#fdca26"
            ],
            [
             1,
             "#f0f921"
            ]
           ]
          },
          "colorway": [
           "#636efa",
           "#EF553B",
           "#00cc96",
           "#ab63fa",
           "#FFA15A",
           "#19d3f3",
           "#FF6692",
           "#B6E880",
           "#FF97FF",
           "#FECB52"
          ],
          "font": {
           "color": "#2a3f5f"
          },
          "geo": {
           "bgcolor": "white",
           "lakecolor": "white",
           "landcolor": "#E5ECF6",
           "showlakes": true,
           "showland": true,
           "subunitcolor": "white"
          },
          "hoverlabel": {
           "align": "left"
          },
          "hovermode": "closest",
          "mapbox": {
           "style": "light"
          },
          "paper_bgcolor": "white",
          "plot_bgcolor": "#E5ECF6",
          "polar": {
           "angularaxis": {
            "gridcolor": "white",
            "linecolor": "white",
            "ticks": ""
           },
           "bgcolor": "#E5ECF6",
           "radialaxis": {
            "gridcolor": "white",
            "linecolor": "white",
            "ticks": ""
           }
          },
          "scene": {
           "xaxis": {
            "backgroundcolor": "#E5ECF6",
            "gridcolor": "white",
            "gridwidth": 2,
            "linecolor": "white",
            "showbackground": true,
            "ticks": "",
            "zerolinecolor": "white"
           },
           "yaxis": {
            "backgroundcolor": "#E5ECF6",
            "gridcolor": "white",
            "gridwidth": 2,
            "linecolor": "white",
            "showbackground": true,
            "ticks": "",
            "zerolinecolor": "white"
           },
           "zaxis": {
            "backgroundcolor": "#E5ECF6",
            "gridcolor": "white",
            "gridwidth": 2,
            "linecolor": "white",
            "showbackground": true,
            "ticks": "",
            "zerolinecolor": "white"
           }
          },
          "shapedefaults": {
           "line": {
            "color": "#2a3f5f"
           }
          },
          "ternary": {
           "aaxis": {
            "gridcolor": "white",
            "linecolor": "white",
            "ticks": ""
           },
           "baxis": {
            "gridcolor": "white",
            "linecolor": "white",
            "ticks": ""
           },
           "bgcolor": "#E5ECF6",
           "caxis": {
            "gridcolor": "white",
            "linecolor": "white",
            "ticks": ""
           }
          },
          "title": {
           "x": 0.05
          },
          "xaxis": {
           "automargin": true,
           "gridcolor": "white",
           "linecolor": "white",
           "ticks": "",
           "title": {
            "standoff": 15
           },
           "zerolinecolor": "white",
           "zerolinewidth": 2
          },
          "yaxis": {
           "automargin": true,
           "gridcolor": "white",
           "linecolor": "white",
           "ticks": "",
           "title": {
            "standoff": 15
           },
           "zerolinecolor": "white",
           "zerolinewidth": 2
          }
         }
        },
        "title": {
         "text": "SARS Infections over time"
        },
        "xaxis": {
         "anchor": "y",
         "domain": [
          0,
          1
         ],
         "title": {
          "text": "Days"
         }
        },
        "yaxis": {
         "anchor": "x",
         "domain": [
          0,
          1
         ],
         "title": {
          "text": "Number of SARS Infections"
         }
        }
       }
      },
      "text/html": [
       "<div>                            <div id=\"04a6a082-1160-4870-a5b7-fb4b2f48957d\" class=\"plotly-graph-div\" style=\"height:525px; width:100%;\"></div>            <script type=\"text/javascript\">                require([\"plotly\"], function(Plotly) {                    window.PLOTLYENV=window.PLOTLYENV || {};                                    if (document.getElementById(\"04a6a082-1160-4870-a5b7-fb4b2f48957d\")) {                    Plotly.newPlot(                        \"04a6a082-1160-4870-a5b7-fb4b2f48957d\",                        [{\"hovertemplate\": \"x=%{x}<br>y=%{y}<extra></extra>\", \"legendgroup\": \"\", \"line\": {\"color\": \"#636efa\", \"dash\": \"solid\"}, \"mode\": \"lines\", \"name\": \"\", \"orientation\": \"v\", \"showlegend\": false, \"type\": \"scatter\", \"x\": [0, 1, 2, 3, 4, 5, 6, 7, 8, 9, 10, 11, 12, 13, 14, 15, 16, 17, 18, 19, 20, 21, 22, 23, 24, 25, 26, 27, 28, 29, 30, 31, 32, 33, 34, 35, 36, 37, 38, 39, 40, 41, 42, 43, 44, 45, 46, 47, 48, 49, 50, 51, 52, 53, 54, 55, 56, 57, 58, 59, 60, 61, 62, 63, 64, 65, 66, 67, 68, 69, 70, 71, 72, 73, 74, 75, 76, 77, 78, 79, 80, 81, 82, 83, 84, 85, 86, 87, 88, 89, 90, 91, 92, 93, 94, 95, 96, 97, 98, 99, 100, 101, 102, 103, 104, 105, 106, 107, 108, 109, 110, 111, 112, 113, 114, 115, 116, 117, 118, 119, 120, 121, 122, 123, 124, 125, 126, 127, 128, 129, 130, 131, 132, 133, 134, 135, 136, 137, 138, 139, 140, 141, 142, 143, 144, 145, 146, 147, 148, 149, 150, 151, 152, 153, 154, 155, 156, 157, 158, 159, 160, 161, 162, 163, 164, 165, 166, 167, 168, 169, 170, 171, 172, 173, 174, 175, 176, 177, 178, 179, 180, 181, 182, 183, 184, 185, 186, 187, 188, 189, 190, 191, 192, 193, 194, 195, 196, 197, 198, 199, 200, 201, 202, 203, 204, 205, 206, 207, 208, 209, 210, 211, 212, 213, 214, 215, 216, 217, 218, 219, 220, 221, 222, 223, 224, 225, 226, 227, 228, 229, 230, 231, 232, 233, 234, 235, 236, 237, 238, 239, 240, 241, 242, 243, 244, 245, 246, 247, 248, 249, 250, 251, 252, 253, 254, 255, 256, 257, 258, 259, 260, 261, 262, 263, 264, 265, 266, 267, 268, 269, 270, 271, 272, 273, 274, 275, 276, 277, 278, 279, 280, 281, 282, 283, 284, 285, 286, 287, 288, 289, 290, 291, 292, 293, 294, 295, 296, 297, 298, 299, 300, 301, 302, 303, 304, 305, 306], \"xaxis\": \"x\", \"y\": [4256577.656598178, 11171782.124526974, 19590797.077019628, 28614427.940889277, 37493922.17196971, 46176798.42989097, 54227333.56547163, 61359187.40317529, 67491721.92423113, 72700252.64024816, 76881421.58527341, 80179620.5804932, 82639443.96833412, 84320098.6122446, 85205392.24702084, 85388281.92273141, 84958863.04539625, 83398742.12410778, 82124580.38463861, 80458228.59725583, 78526333.43983352, 75753584.15802185, 73446429.47477855, 71007269.59157562, 68470748.74894235, 65867585.49898227, 63224766.83145832, 60530322.90229633, 57846345.24133675, 55189250.913473964, 52544464.98352602, 49930779.4824206, 47387820.05545275, 44899426.706211336, 42496941.11469417, 40164087.22552081, 37907740.74661793, 35749364.537244245, 33673130.64365266, 31681750.901041653, 29789688.57262445, 27982240.411678027, 26270566.61856627, 24651245.26138562, 23120757.7192514, 21666679.298378646, 20295826.47489737, 18996826.02659303, 17774832.140054636, 16619514.928327579, 15534735.943947602, 14516704.752746703, 13561773.376997834, 12666438.97194232, 11827345.091723748, 11041281.746996649, 10305184.43670107, 9612585.4223452, 8964880.009284815, 8288142.787296971, 7729711.279790466, 7146239.466435422, 6608011.14698035, 6111388.281625619, 5699482.702767152, 5312475.179513501, 4950990.854100411, 4613430.0369680775, 4296755.056609221, 4001343.203104515, 3694039.929766732, 3439253.7300715684, 3200592.2927316697, 2978239.3316872506, 2770153.686356946, 2575562.7830112455, 2374070.178063871, 2207815.235226052, 2053084.9818753507, 1908446.129456277, 1758769.490628657, 1634716.4988869305, 1519358.3054496495, 1412091.38496422, 1301138.6106886363, 1209590.5543015767, 1124056.4126175079, 1044192.2410665283, 969667.2179573207, 900164.1071009516, 835650.9805393415, 775768.717546655, 714022.9609043316, 662860.3757766968, 610104.8055015533, 566577.1850330641, 521653.4886827242, 484587.43655122456, 449999.6538890204, 417742.85354981537, 387802.1439652869, 359893.8566497614, 331142.7135514756, 304790.976439673, 283048.64916402596, 262770.150294367, 243946.52769803943, 226399.53163965262, 208320.73134415277, 193341.44025981356, 179442.57815789184, 166492.07460536138, 154480.6717700134, 142112.9164792002, 131865.98606147006, 121313.83568052837, 112607.57783984128, 104527.52289351745, 96198.32508336642, 89326.08265095833, 82917.69178689543, 76311.46060054578, 70860.79881634885, 65236.674240633845, 60596.281929941775, 56266.742846266796, 52246.58593773292, 48098.75527712916, 44676.43628110213, 41483.48889819521, 38189.33302146091, 35168.07069785986, 32664.39479997877, 30079.251205337543, 27946.26688628215, 25742.047458521545, 23718.900961351686, 22049.586193558374, 20489.984540872185, 18877.427370154634, 17396.972991476912, 16037.26389220671, 14915.340366505638, 13752.603684418018, 12788.819414834914, 11891.917843684054, 11053.585388539594, 10186.17437189025, 9389.564727707602, 8729.296626856976, 8045.76198935186, 7479.228022702259, 6949.9621640871055, 6455.826414298465, 5996.744071633797, 5568.3994677518185, 5170.651425601311, 4760.248994573715, 4420.173219703023, 4104.394627190304, 3809.9310141915253, 3535.490212153252, 3280.895517556293, 3044.703667218719, 2801.3960938028195, 2599.8046959273347, 2412.77020607419, 2239.2362092000426, 2077.5529466110293, 1926.9848865145907, 1786.8330587870398, 1642.7661108098093, 1510.8562728747063, 1390.0231903723018, 1289.9088383239157, 1197.0328438025501, 1110.8689579538511, 1030.5973883475579, 947.9720358468019, 872.2718879333959, 809.8136648645553, 751.8329011298015, 692.0369980908315, 637.2042650992588, 1204.8647596949627, 3767.623286241719, 10384.235362186306, 23584.21692464644, 46050.658960794724, 80583.71669389775, 129368.84382553521, 193827.77197224073, 277389.82212692517, 379666.09708779055, 500872.41582008137, 637104.9573075706, 791156.180567654, 961909.1776049711, 1153302.9397768914, 1358500.1512695989, 1564703.667525417, 1789317.9462428868, 2007134.2615260624, 2242053.5743949446, 2461963.2320766714, 2701233.2066104943, 2916286.048492899, 3149707.3522056094, 3371348.9635844384, 3558127.9566821256, 3764434.500638578, 3958748.214410913, 4108816.033059428, 4247505.980783962, 4374104.676717076, 4517765.823477244, 4641490.056834983, 4750588.166191455, 4840071.571166578, 4877375.059846013, 4938638.262123527, 4982025.651914122, 5008652.485234968, 5019608.681555466, 5020152.776942739, 5006152.135663334, 4943318.515086162, 4915429.81948159, 4878307.934588429, 4793798.835914064, 4740205.47567578, 4641767.182564177, 4541440.844936157, 4471842.5791992815, 4396400.049454522, 4315582.546747118, 4226860.976073112, 4131531.7831043913, 4000840.0529870754, 3904175.109381968, 3774312.6472855266, 3647008.2859598324, 3551081.223067272, 3425298.206835183, 3327204.367456185, 3228332.937703552, 3128992.1340246103, 3004691.106714656, 2884221.570299473, 2788556.841376867, 2693441.153687651, 2599101.8496996462, 2504228.0447303774, 2409408.295481435, 2315139.9179932927, 2223133.6682584565, 2133420.128038002, 2044862.9737475917, 1957788.1145892928, 1872463.9707579792, 1790084.2364384418, 1710573.8168697075, 1633865.4496710482, 1559058.1655789327, 1474728.3343972217, 1406857.8178058611, 1340825.4345746783, 1277415.4315467065, 1215911.492007576, 1147344.2227841883, 1091948.8247089344, 1030187.0397840041, 979736.9195117151, 923667.0254091957, 877834.9782311379, 834008.5047780486, 792111.2465770436, 752071.1162907737, 713465.019033982, 670987.2265208202, 636179.7873701064, 603014.8249364931, 571421.8219077395, 536799.9593228082, 508640.10773112735, 481580.4761087118, 455626.1699896872, 430773.5946072823, 407201.47322634753, 384845.64515262714, 363477.9660791002, 343084.4759680398, 323646.47623450815, 302709.9180737669, 283224.291143305, 267203.08772502287, 249934.70927005625, 235839.38510038416, 220630.49350726974, 206460.74140338547, 194801.16226058855, 182220.480955673, 171943.74970196755, 162139.4886743089, 152867.39343042023, 144035.72108381576, 135694.26047532883], \"yaxis\": \"y\"}],                        {\"legend\": {\"tracegroupgap\": 0}, \"template\": {\"data\": {\"bar\": [{\"error_x\": {\"color\": \"#2a3f5f\"}, \"error_y\": {\"color\": \"#2a3f5f\"}, \"marker\": {\"line\": {\"color\": \"#E5ECF6\", \"width\": 0.5}}, \"type\": \"bar\"}], \"barpolar\": [{\"marker\": {\"line\": {\"color\": \"#E5ECF6\", \"width\": 0.5}}, \"type\": \"barpolar\"}], \"carpet\": [{\"aaxis\": {\"endlinecolor\": \"#2a3f5f\", \"gridcolor\": \"white\", \"linecolor\": \"white\", \"minorgridcolor\": \"white\", \"startlinecolor\": \"#2a3f5f\"}, \"baxis\": {\"endlinecolor\": \"#2a3f5f\", \"gridcolor\": \"white\", \"linecolor\": \"white\", \"minorgridcolor\": \"white\", \"startlinecolor\": \"#2a3f5f\"}, \"type\": \"carpet\"}], \"choropleth\": [{\"colorbar\": {\"outlinewidth\": 0, \"ticks\": \"\"}, \"type\": \"choropleth\"}], \"contour\": [{\"colorbar\": {\"outlinewidth\": 0, \"ticks\": \"\"}, \"colorscale\": [[0.0, \"#0d0887\"], [0.1111111111111111, \"#46039f\"], [0.2222222222222222, \"#7201a8\"], [0.3333333333333333, \"#9c179e\"], [0.4444444444444444, \"#bd3786\"], [0.5555555555555556, \"#d8576b\"], [0.6666666666666666, \"#ed7953\"], [0.7777777777777778, \"#fb9f3a\"], [0.8888888888888888, \"#fdca26\"], [1.0, \"#f0f921\"]], \"type\": \"contour\"}], \"contourcarpet\": [{\"colorbar\": {\"outlinewidth\": 0, \"ticks\": \"\"}, \"type\": \"contourcarpet\"}], \"heatmap\": [{\"colorbar\": {\"outlinewidth\": 0, \"ticks\": \"\"}, \"colorscale\": [[0.0, \"#0d0887\"], [0.1111111111111111, \"#46039f\"], [0.2222222222222222, \"#7201a8\"], [0.3333333333333333, \"#9c179e\"], [0.4444444444444444, \"#bd3786\"], [0.5555555555555556, \"#d8576b\"], [0.6666666666666666, \"#ed7953\"], [0.7777777777777778, \"#fb9f3a\"], [0.8888888888888888, \"#fdca26\"], [1.0, \"#f0f921\"]], \"type\": \"heatmap\"}], \"heatmapgl\": [{\"colorbar\": {\"outlinewidth\": 0, \"ticks\": \"\"}, \"colorscale\": [[0.0, \"#0d0887\"], [0.1111111111111111, \"#46039f\"], [0.2222222222222222, \"#7201a8\"], [0.3333333333333333, \"#9c179e\"], [0.4444444444444444, \"#bd3786\"], [0.5555555555555556, \"#d8576b\"], [0.6666666666666666, \"#ed7953\"], [0.7777777777777778, \"#fb9f3a\"], [0.8888888888888888, \"#fdca26\"], [1.0, \"#f0f921\"]], \"type\": \"heatmapgl\"}], \"histogram\": [{\"marker\": {\"colorbar\": {\"outlinewidth\": 0, \"ticks\": \"\"}}, \"type\": \"histogram\"}], \"histogram2d\": [{\"colorbar\": {\"outlinewidth\": 0, \"ticks\": \"\"}, \"colorscale\": [[0.0, \"#0d0887\"], [0.1111111111111111, \"#46039f\"], [0.2222222222222222, \"#7201a8\"], [0.3333333333333333, \"#9c179e\"], [0.4444444444444444, \"#bd3786\"], [0.5555555555555556, \"#d8576b\"], [0.6666666666666666, \"#ed7953\"], [0.7777777777777778, \"#fb9f3a\"], [0.8888888888888888, \"#fdca26\"], [1.0, \"#f0f921\"]], \"type\": \"histogram2d\"}], \"histogram2dcontour\": [{\"colorbar\": {\"outlinewidth\": 0, \"ticks\": \"\"}, \"colorscale\": [[0.0, \"#0d0887\"], [0.1111111111111111, \"#46039f\"], [0.2222222222222222, \"#7201a8\"], [0.3333333333333333, \"#9c179e\"], [0.4444444444444444, \"#bd3786\"], [0.5555555555555556, \"#d8576b\"], [0.6666666666666666, \"#ed7953\"], [0.7777777777777778, \"#fb9f3a\"], [0.8888888888888888, \"#fdca26\"], [1.0, \"#f0f921\"]], \"type\": \"histogram2dcontour\"}], \"mesh3d\": [{\"colorbar\": {\"outlinewidth\": 0, \"ticks\": \"\"}, \"type\": \"mesh3d\"}], \"parcoords\": [{\"line\": {\"colorbar\": {\"outlinewidth\": 0, \"ticks\": \"\"}}, \"type\": \"parcoords\"}], \"pie\": [{\"automargin\": true, \"type\": \"pie\"}], \"scatter\": [{\"marker\": {\"colorbar\": {\"outlinewidth\": 0, \"ticks\": \"\"}}, \"type\": \"scatter\"}], \"scatter3d\": [{\"line\": {\"colorbar\": {\"outlinewidth\": 0, \"ticks\": \"\"}}, \"marker\": {\"colorbar\": {\"outlinewidth\": 0, \"ticks\": \"\"}}, \"type\": \"scatter3d\"}], \"scattercarpet\": [{\"marker\": {\"colorbar\": {\"outlinewidth\": 0, \"ticks\": \"\"}}, \"type\": \"scattercarpet\"}], \"scattergeo\": [{\"marker\": {\"colorbar\": {\"outlinewidth\": 0, \"ticks\": \"\"}}, \"type\": \"scattergeo\"}], \"scattergl\": [{\"marker\": {\"colorbar\": {\"outlinewidth\": 0, \"ticks\": \"\"}}, \"type\": \"scattergl\"}], \"scattermapbox\": [{\"marker\": {\"colorbar\": {\"outlinewidth\": 0, \"ticks\": \"\"}}, \"type\": \"scattermapbox\"}], \"scatterpolar\": [{\"marker\": {\"colorbar\": {\"outlinewidth\": 0, \"ticks\": \"\"}}, \"type\": \"scatterpolar\"}], \"scatterpolargl\": [{\"marker\": {\"colorbar\": {\"outlinewidth\": 0, \"ticks\": \"\"}}, \"type\": \"scatterpolargl\"}], \"scatterternary\": [{\"marker\": {\"colorbar\": {\"outlinewidth\": 0, \"ticks\": \"\"}}, \"type\": \"scatterternary\"}], \"surface\": [{\"colorbar\": {\"outlinewidth\": 0, \"ticks\": \"\"}, \"colorscale\": [[0.0, \"#0d0887\"], [0.1111111111111111, \"#46039f\"], [0.2222222222222222, \"#7201a8\"], [0.3333333333333333, \"#9c179e\"], [0.4444444444444444, \"#bd3786\"], [0.5555555555555556, \"#d8576b\"], [0.6666666666666666, \"#ed7953\"], [0.7777777777777778, \"#fb9f3a\"], [0.8888888888888888, \"#fdca26\"], [1.0, \"#f0f921\"]], \"type\": \"surface\"}], \"table\": [{\"cells\": {\"fill\": {\"color\": \"#EBF0F8\"}, \"line\": {\"color\": \"white\"}}, \"header\": {\"fill\": {\"color\": \"#C8D4E3\"}, \"line\": {\"color\": \"white\"}}, \"type\": \"table\"}]}, \"layout\": {\"annotationdefaults\": {\"arrowcolor\": \"#2a3f5f\", \"arrowhead\": 0, \"arrowwidth\": 1}, \"coloraxis\": {\"colorbar\": {\"outlinewidth\": 0, \"ticks\": \"\"}}, \"colorscale\": {\"diverging\": [[0, \"#8e0152\"], [0.1, \"#c51b7d\"], [0.2, \"#de77ae\"], [0.3, \"#f1b6da\"], [0.4, \"#fde0ef\"], [0.5, \"#f7f7f7\"], [0.6, \"#e6f5d0\"], [0.7, \"#b8e186\"], [0.8, \"#7fbc41\"], [0.9, \"#4d9221\"], [1, \"#276419\"]], \"sequential\": [[0.0, \"#0d0887\"], [0.1111111111111111, \"#46039f\"], [0.2222222222222222, \"#7201a8\"], [0.3333333333333333, \"#9c179e\"], [0.4444444444444444, \"#bd3786\"], [0.5555555555555556, \"#d8576b\"], [0.6666666666666666, \"#ed7953\"], [0.7777777777777778, \"#fb9f3a\"], [0.8888888888888888, \"#fdca26\"], [1.0, \"#f0f921\"]], \"sequentialminus\": [[0.0, \"#0d0887\"], [0.1111111111111111, \"#46039f\"], [0.2222222222222222, \"#7201a8\"], [0.3333333333333333, \"#9c179e\"], [0.4444444444444444, \"#bd3786\"], [0.5555555555555556, \"#d8576b\"], [0.6666666666666666, \"#ed7953\"], [0.7777777777777778, \"#fb9f3a\"], [0.8888888888888888, \"#fdca26\"], [1.0, \"#f0f921\"]]}, \"colorway\": [\"#636efa\", \"#EF553B\", \"#00cc96\", \"#ab63fa\", \"#FFA15A\", \"#19d3f3\", \"#FF6692\", \"#B6E880\", \"#FF97FF\", \"#FECB52\"], \"font\": {\"color\": \"#2a3f5f\"}, \"geo\": {\"bgcolor\": \"white\", \"lakecolor\": \"white\", \"landcolor\": \"#E5ECF6\", \"showlakes\": true, \"showland\": true, \"subunitcolor\": \"white\"}, \"hoverlabel\": {\"align\": \"left\"}, \"hovermode\": \"closest\", \"mapbox\": {\"style\": \"light\"}, \"paper_bgcolor\": \"white\", \"plot_bgcolor\": \"#E5ECF6\", \"polar\": {\"angularaxis\": {\"gridcolor\": \"white\", \"linecolor\": \"white\", \"ticks\": \"\"}, \"bgcolor\": \"#E5ECF6\", \"radialaxis\": {\"gridcolor\": \"white\", \"linecolor\": \"white\", \"ticks\": \"\"}}, \"scene\": {\"xaxis\": {\"backgroundcolor\": \"#E5ECF6\", \"gridcolor\": \"white\", \"gridwidth\": 2, \"linecolor\": \"white\", \"showbackground\": true, \"ticks\": \"\", \"zerolinecolor\": \"white\"}, \"yaxis\": {\"backgroundcolor\": \"#E5ECF6\", \"gridcolor\": \"white\", \"gridwidth\": 2, \"linecolor\": \"white\", \"showbackground\": true, \"ticks\": \"\", \"zerolinecolor\": \"white\"}, \"zaxis\": {\"backgroundcolor\": \"#E5ECF6\", \"gridcolor\": \"white\", \"gridwidth\": 2, \"linecolor\": \"white\", \"showbackground\": true, \"ticks\": \"\", \"zerolinecolor\": \"white\"}}, \"shapedefaults\": {\"line\": {\"color\": \"#2a3f5f\"}}, \"ternary\": {\"aaxis\": {\"gridcolor\": \"white\", \"linecolor\": \"white\", \"ticks\": \"\"}, \"baxis\": {\"gridcolor\": \"white\", \"linecolor\": \"white\", \"ticks\": \"\"}, \"bgcolor\": \"#E5ECF6\", \"caxis\": {\"gridcolor\": \"white\", \"linecolor\": \"white\", \"ticks\": \"\"}}, \"title\": {\"x\": 0.05}, \"xaxis\": {\"automargin\": true, \"gridcolor\": \"white\", \"linecolor\": \"white\", \"ticks\": \"\", \"title\": {\"standoff\": 15}, \"zerolinecolor\": \"white\", \"zerolinewidth\": 2}, \"yaxis\": {\"automargin\": true, \"gridcolor\": \"white\", \"linecolor\": \"white\", \"ticks\": \"\", \"title\": {\"standoff\": 15}, \"zerolinecolor\": \"white\", \"zerolinewidth\": 2}}}, \"title\": {\"text\": \"SARS Infections over time\"}, \"xaxis\": {\"anchor\": \"y\", \"domain\": [0.0, 1.0], \"title\": {\"text\": \"Days\"}}, \"yaxis\": {\"anchor\": \"x\", \"domain\": [0.0, 1.0], \"title\": {\"text\": \"Number of SARS Infections\"}}},                        {\"responsive\": true}                    ).then(function(){\n",
       "                            \n",
       "var gd = document.getElementById('04a6a082-1160-4870-a5b7-fb4b2f48957d');\n",
       "var x = new MutationObserver(function (mutations, observer) {{\n",
       "        var display = window.getComputedStyle(gd).display;\n",
       "        if (!display || display === 'none') {{\n",
       "            console.log([gd, 'removed!']);\n",
       "            Plotly.purge(gd);\n",
       "            observer.disconnect();\n",
       "        }}\n",
       "}});\n",
       "\n",
       "// Listen for the removal of the full notebook cells\n",
       "var notebookContainer = gd.closest('#notebook-container');\n",
       "if (notebookContainer) {{\n",
       "    x.observe(notebookContainer, {childList: true});\n",
       "}}\n",
       "\n",
       "// Listen for the clearing of the current output cell\n",
       "var outputEl = gd.closest('.output');\n",
       "if (outputEl) {{\n",
       "    x.observe(outputEl, {childList: true});\n",
       "}}\n",
       "\n",
       "                        })                };                });            </script>        </div>"
      ]
     },
     "metadata": {},
     "output_type": "display_data"
    },
    {
     "data": {
      "application/vnd.plotly.v1+json": {
       "config": {
        "plotlyServerURL": "https://plot.ly"
       },
       "data": [
        {
         "hovertemplate": "x=%{x}<br>y=%{y}<extra></extra>",
         "legendgroup": "",
         "line": {
          "color": "#636efa",
          "dash": "solid"
         },
         "mode": "lines",
         "name": "",
         "orientation": "v",
         "showlegend": false,
         "type": "scatter",
         "x": [
          0,
          1,
          2,
          3,
          4,
          5,
          6,
          7,
          8,
          9,
          10,
          11,
          12,
          13,
          14,
          15,
          16,
          17,
          18,
          19,
          20,
          21,
          22,
          23,
          24,
          25,
          26,
          27,
          28,
          29,
          30,
          31,
          32,
          33,
          34,
          35,
          36,
          37,
          38,
          39,
          40,
          41,
          42,
          43,
          44,
          45,
          46,
          47,
          48,
          49,
          50,
          51,
          52,
          53,
          54,
          55,
          56,
          57,
          58,
          59,
          60,
          61,
          62,
          63,
          64,
          65,
          66,
          67,
          68,
          69,
          70,
          71,
          72,
          73,
          74,
          75,
          76,
          77,
          78,
          79,
          80,
          81,
          82,
          83,
          84,
          85,
          86,
          87,
          88,
          89,
          90,
          91,
          92,
          93,
          94,
          95,
          96,
          97,
          98,
          99,
          100,
          101,
          102,
          103,
          104,
          105,
          106,
          107,
          108,
          109,
          110,
          111,
          112,
          113,
          114,
          115,
          116,
          117,
          118,
          119,
          120,
          121,
          122,
          123,
          124,
          125,
          126,
          127,
          128,
          129,
          130,
          131,
          132,
          133,
          134,
          135,
          136,
          137,
          138,
          139,
          140,
          141,
          142,
          143,
          144,
          145,
          146,
          147,
          148,
          149,
          150,
          151,
          152,
          153,
          154,
          155,
          156,
          157,
          158,
          159,
          160,
          161,
          162,
          163,
          164,
          165,
          166,
          167,
          168,
          169,
          170,
          171,
          172,
          173,
          174,
          175,
          176,
          177,
          178,
          179,
          180,
          181,
          182,
          183,
          184,
          185,
          186,
          187,
          188,
          189,
          190,
          191,
          192,
          193,
          194,
          195,
          196,
          197,
          198,
          199,
          200,
          201,
          202,
          203,
          204,
          205,
          206,
          207,
          208,
          209,
          210,
          211,
          212,
          213,
          214,
          215,
          216,
          217,
          218,
          219,
          220,
          221,
          222,
          223,
          224,
          225,
          226,
          227,
          228,
          229,
          230,
          231,
          232,
          233,
          234,
          235,
          236,
          237,
          238,
          239,
          240,
          241,
          242,
          243,
          244,
          245,
          246,
          247,
          248,
          249,
          250,
          251,
          252,
          253,
          254,
          255,
          256,
          257,
          258,
          259,
          260,
          261,
          262,
          263,
          264,
          265,
          266,
          267,
          268,
          269,
          270,
          271,
          272,
          273,
          274,
          275,
          276,
          277,
          278,
          279,
          280,
          281,
          282,
          283,
          284,
          285,
          286,
          287,
          288,
          289,
          290,
          291,
          292,
          293,
          294,
          295,
          296,
          297,
          298,
          299,
          300,
          301,
          302,
          303,
          304,
          305,
          306
         ],
         "xaxis": "x",
         "y": [
          2807084.5638216687,
          7430145.391156099,
          13157610.807047736,
          19405343.6153261,
          25692152.459953886,
          31861596.968877666,
          37725445.47668637,
          43460574.52516271,
          48701721.09681873,
          53013155.59319292,
          56772480.38285453,
          60443152.35158384,
          63569420.90761948,
          65663191.63596291,
          67828394.06078008,
          68987531.86837514,
          70256230.68218538,
          71144229.24926616,
          71112402.55206974,
          70822187.30723506,
          70303881.01968631,
          70153826.18342587,
          69773257.74016365,
          69190149.75601988,
          67871264.97993611,
          66962319.85136666,
          65923575.70694637,
          64774422.9689818,
          63491745.34595768,
          61624421.505124494,
          60258454.76757472,
          58842731.27850507,
          56913112.747629896,
          55473494.73524594,
          53562448.55907451,
          52125149.11550852,
          50255461.97672974,
          48840486.59219203,
          47028958.26536272,
          45651232.37162021,
          44254419.31002831,
          42870457.25321011,
          41480747.70834939,
          39778134.91747006,
          38144001.68231213,
          36883956.39942552,
          35628324.31418146,
          34399732.510918714,
          32921345.51240661,
          31758896.231302008,
          30369425.17775283,
          29275077.232216604,
          28196995.178521693,
          27151086.179470584,
          25917752.910057776,
          24745820.91016918,
          23631748.83140034,
          22572239.49128668,
          21746621.91534267,
          20769336.332027346,
          19839753.334899016,
          19115521.2695492,
          18257779.45829121,
          17580667.870768126,
          16782177.277746525,
          16159040.617186159,
          15424439.452067574,
          14726460.030456636,
          14062986.599328883,
          13432049.42571818,
          12831813.0348869,
          12364256.809885196,
          11810229.841947014,
          11372928.618346546,
          10948917.07194925,
          10449609.256260157,
          10059774.733409105,
          9600791.381945856,
          9237929.981888045,
          8886842.378411919,
          8543251.507327992,
          8142538.143450065,
          7828707.979735023,
          7525664.274535948,
          7172350.284995089,
          6837655.901336188,
          6520422.968428737,
          6272269.321690956,
          6032337.653791963,
          5797713.867464474,
          5568737.428733249,
          5348168.128148841,
          5133369.636099183,
          4885315.582110901,
          4650947.9124216,
          4464867.94601419,
          4285847.454060154,
          4111758.5609448035,
          3911293.1456906125,
          3751919.1274189036,
          3597222.619147557,
          3448824.7878017193,
          3304984.172219282,
          3167149.478107073,
          3035069.3281046017,
          2908502.920666904,
          2787219.580246847,
          2648475.363060285,
          2539131.5682069217,
          2413734.709363797,
          2295485.074899293,
          2201437.311660643,
          2110206.6693349215,
          2005680.5136132722,
          1922473.5412878117,
          1841872.792357087,
          1763888.6894789012,
          1689265.4705096597,
          1604202.4430394352,
          1536400.3872635963,
          1459094.4987547568,
          1386313.1048613207,
          1328343.8745819742,
          1262074.5042981042,
          1209291.3661080427,
          1148953.1867175035,
          1092105.1040143506,
          1046855.8359660442,
          1003468.9940708053,
          961869.0436403068,
          921568.8699643877,
          882574.1358863169,
          845257.8251995278,
          809545.1757436199,
          775364.9749549299,
          742649.3728610624,
          711018.2641263205,
          680766.9828934345,
          646331.3266970476,
          618873.5832579135,
          592346.0071300397,
          566742.206983887,
          542052.486862626,
          518264.3382763803,
          491387.60863018036,
          470119.6479809078,
          449613.9018604363,
          429859.5695603294,
          407546.5630047241,
          389719.4315794758,
          372711.2395139513,
          353469.20655103377,
          338102.0135917313,
          323432.6581808375,
          309426.8853480759,
          296052.33347011654,
          283155.24082102673,
          270846.06912022084,
          256907.11995826225,
          245885.25205396797,
          235248.22598991857,
          224991.86957302358,
          215203.75257022426,
          205860.684795228,
          196855.45849113964,
          188182.9085264706,
          179837.06814234884,
          171811.30464719064,
          164167.87767336116,
          156819.99814397693,
          148556.72883701802,
          142007.8114100622,
          135764.08037785007,
          129754.28167375,
          124026.6578309395,
          117564.35795455555,
          111498.28837217888,
          105799.48638491018,
          101296.36197288585,
          96170.84522600414,
          91347.63861738214,
          87543.60351847923,
          83897.87939611668,
          80367.86256968408,
          78812.88554637336,
          83422.88591020665,
          100606.52092556364,
          137737.30466163377,
          205287.70059576232,
          310142.35164051823,
          463767.4478210162,
          670207.0831910465,
          943790.3900047655,
          1278769.8538665383,
          1691672.1451361936,
          2179801.1299671074,
          2743479.7718668333,
          3376415.791004204,
          4077183.052496871,
          4842697.70338747,
          5639362.119663014,
          6533006.216401233,
          7433880.657537102,
          8432069.88731503,
          9408676.794059841,
          10422395.038296597,
          11465519.999061141,
          12605650.435320577,
          13760847.45728427,
          14922607.891239189,
          16083309.772423288,
          17216589.333263453,
          18319546.631358527,
          19263442.84525165,
          20350458.969827842,
          21411887.859017752,
          22442292.33614284,
          23413599.579374075,
          24325818.36525131,
          25179051.491891894,
          25795660.765592504,
          26596338.774631705,
          27140414.417969648,
          27873947.23053055,
          28558703.85235244,
          29167453.81701299,
          29729707.429258596,
          30218305.627353385,
          30636912.893962406,
          31014627.38362339,
          31100856.472916044,
          31392961.001880474,
          31392322.436564635,
          31628314.193976577,
          31796874.828053482,
          31927462.197304167,
          31995582.976913992,
          31772527.41296758,
          31798429.53666378,
          31789472.033876903,
          31490093.211633224,
          31183975.432458073,
          30870231.4383056,
          30796922.3672966,
          30688575.739234306,
          30546878.577140406,
          30373573.448301878,
          29925642.75403341,
          29696705.413974676,
          29443189.821547877,
          29146479.079031967,
          28811643.15899085,
          28443254.655835405,
          28045453.067217663,
          27621997.39052034,
          26971046.09197806,
          26341447.467513245,
          25926832.16183389,
          25507531.771825977,
          25067872.621945664,
          24424347.687939703,
          23803309.871388067,
          23394905.627485853,
          22982775.3192784,
          22553371.553779174,
          21941501.046284378,
          21528321.89850895,
          21100988.096399285,
          20674924.545981236,
          20238036.929821495,
          19804682.13344556,
          19374934.726017512,
          18948931.799976878,
          18526849.08982747,
          17959347.459651634,
          17559470.18187216,
          17021248.72857782,
          16641438.376015428,
          16254757.215819763,
          15863245.091749119,
          15468705.44178495,
          15081388.385664739,
          14701119.215291144,
          14327770.169293933,
          13845581.53919242,
          13496422.389299214,
          13145542.738476483,
          12695437.222144846,
          12265484.94537084,
          11946457.755210303,
          11626889.567480102,
          11307877.766856696,
          10905199.412966954,
          10609535.44004561,
          10314525.85534931,
          9943323.522812715,
          9589602.831038084,
          9252101.366083689,
          8929678.730495675,
          8693401.301461622,
          8461151.379311033,
          8232974.761015448,
          8004422.290965424,
          7716018.155554033,
          7440579.8821744025,
          7233268.901152036,
          7026333.406369333
         ],
         "yaxis": "y"
        }
       ],
       "layout": {
        "legend": {
         "tracegroupgap": 0
        },
        "template": {
         "data": {
          "bar": [
           {
            "error_x": {
             "color": "#2a3f5f"
            },
            "error_y": {
             "color": "#2a3f5f"
            },
            "marker": {
             "line": {
              "color": "#E5ECF6",
              "width": 0.5
             }
            },
            "type": "bar"
           }
          ],
          "barpolar": [
           {
            "marker": {
             "line": {
              "color": "#E5ECF6",
              "width": 0.5
             }
            },
            "type": "barpolar"
           }
          ],
          "carpet": [
           {
            "aaxis": {
             "endlinecolor": "#2a3f5f",
             "gridcolor": "white",
             "linecolor": "white",
             "minorgridcolor": "white",
             "startlinecolor": "#2a3f5f"
            },
            "baxis": {
             "endlinecolor": "#2a3f5f",
             "gridcolor": "white",
             "linecolor": "white",
             "minorgridcolor": "white",
             "startlinecolor": "#2a3f5f"
            },
            "type": "carpet"
           }
          ],
          "choropleth": [
           {
            "colorbar": {
             "outlinewidth": 0,
             "ticks": ""
            },
            "type": "choropleth"
           }
          ],
          "contour": [
           {
            "colorbar": {
             "outlinewidth": 0,
             "ticks": ""
            },
            "colorscale": [
             [
              0,
              "#0d0887"
             ],
             [
              0.1111111111111111,
              "#46039f"
             ],
             [
              0.2222222222222222,
              "#7201a8"
             ],
             [
              0.3333333333333333,
              "#9c179e"
             ],
             [
              0.4444444444444444,
              "#bd3786"
             ],
             [
              0.5555555555555556,
              "#d8576b"
             ],
             [
              0.6666666666666666,
              "#ed7953"
             ],
             [
              0.7777777777777778,
              "#fb9f3a"
             ],
             [
              0.8888888888888888,
              "#fdca26"
             ],
             [
              1,
              "#f0f921"
             ]
            ],
            "type": "contour"
           }
          ],
          "contourcarpet": [
           {
            "colorbar": {
             "outlinewidth": 0,
             "ticks": ""
            },
            "type": "contourcarpet"
           }
          ],
          "heatmap": [
           {
            "colorbar": {
             "outlinewidth": 0,
             "ticks": ""
            },
            "colorscale": [
             [
              0,
              "#0d0887"
             ],
             [
              0.1111111111111111,
              "#46039f"
             ],
             [
              0.2222222222222222,
              "#7201a8"
             ],
             [
              0.3333333333333333,
              "#9c179e"
             ],
             [
              0.4444444444444444,
              "#bd3786"
             ],
             [
              0.5555555555555556,
              "#d8576b"
             ],
             [
              0.6666666666666666,
              "#ed7953"
             ],
             [
              0.7777777777777778,
              "#fb9f3a"
             ],
             [
              0.8888888888888888,
              "#fdca26"
             ],
             [
              1,
              "#f0f921"
             ]
            ],
            "type": "heatmap"
           }
          ],
          "heatmapgl": [
           {
            "colorbar": {
             "outlinewidth": 0,
             "ticks": ""
            },
            "colorscale": [
             [
              0,
              "#0d0887"
             ],
             [
              0.1111111111111111,
              "#46039f"
             ],
             [
              0.2222222222222222,
              "#7201a8"
             ],
             [
              0.3333333333333333,
              "#9c179e"
             ],
             [
              0.4444444444444444,
              "#bd3786"
             ],
             [
              0.5555555555555556,
              "#d8576b"
             ],
             [
              0.6666666666666666,
              "#ed7953"
             ],
             [
              0.7777777777777778,
              "#fb9f3a"
             ],
             [
              0.8888888888888888,
              "#fdca26"
             ],
             [
              1,
              "#f0f921"
             ]
            ],
            "type": "heatmapgl"
           }
          ],
          "histogram": [
           {
            "marker": {
             "colorbar": {
              "outlinewidth": 0,
              "ticks": ""
             }
            },
            "type": "histogram"
           }
          ],
          "histogram2d": [
           {
            "colorbar": {
             "outlinewidth": 0,
             "ticks": ""
            },
            "colorscale": [
             [
              0,
              "#0d0887"
             ],
             [
              0.1111111111111111,
              "#46039f"
             ],
             [
              0.2222222222222222,
              "#7201a8"
             ],
             [
              0.3333333333333333,
              "#9c179e"
             ],
             [
              0.4444444444444444,
              "#bd3786"
             ],
             [
              0.5555555555555556,
              "#d8576b"
             ],
             [
              0.6666666666666666,
              "#ed7953"
             ],
             [
              0.7777777777777778,
              "#fb9f3a"
             ],
             [
              0.8888888888888888,
              "#fdca26"
             ],
             [
              1,
              "#f0f921"
             ]
            ],
            "type": "histogram2d"
           }
          ],
          "histogram2dcontour": [
           {
            "colorbar": {
             "outlinewidth": 0,
             "ticks": ""
            },
            "colorscale": [
             [
              0,
              "#0d0887"
             ],
             [
              0.1111111111111111,
              "#46039f"
             ],
             [
              0.2222222222222222,
              "#7201a8"
             ],
             [
              0.3333333333333333,
              "#9c179e"
             ],
             [
              0.4444444444444444,
              "#bd3786"
             ],
             [
              0.5555555555555556,
              "#d8576b"
             ],
             [
              0.6666666666666666,
              "#ed7953"
             ],
             [
              0.7777777777777778,
              "#fb9f3a"
             ],
             [
              0.8888888888888888,
              "#fdca26"
             ],
             [
              1,
              "#f0f921"
             ]
            ],
            "type": "histogram2dcontour"
           }
          ],
          "mesh3d": [
           {
            "colorbar": {
             "outlinewidth": 0,
             "ticks": ""
            },
            "type": "mesh3d"
           }
          ],
          "parcoords": [
           {
            "line": {
             "colorbar": {
              "outlinewidth": 0,
              "ticks": ""
             }
            },
            "type": "parcoords"
           }
          ],
          "pie": [
           {
            "automargin": true,
            "type": "pie"
           }
          ],
          "scatter": [
           {
            "marker": {
             "colorbar": {
              "outlinewidth": 0,
              "ticks": ""
             }
            },
            "type": "scatter"
           }
          ],
          "scatter3d": [
           {
            "line": {
             "colorbar": {
              "outlinewidth": 0,
              "ticks": ""
             }
            },
            "marker": {
             "colorbar": {
              "outlinewidth": 0,
              "ticks": ""
             }
            },
            "type": "scatter3d"
           }
          ],
          "scattercarpet": [
           {
            "marker": {
             "colorbar": {
              "outlinewidth": 0,
              "ticks": ""
             }
            },
            "type": "scattercarpet"
           }
          ],
          "scattergeo": [
           {
            "marker": {
             "colorbar": {
              "outlinewidth": 0,
              "ticks": ""
             }
            },
            "type": "scattergeo"
           }
          ],
          "scattergl": [
           {
            "marker": {
             "colorbar": {
              "outlinewidth": 0,
              "ticks": ""
             }
            },
            "type": "scattergl"
           }
          ],
          "scattermapbox": [
           {
            "marker": {
             "colorbar": {
              "outlinewidth": 0,
              "ticks": ""
             }
            },
            "type": "scattermapbox"
           }
          ],
          "scatterpolar": [
           {
            "marker": {
             "colorbar": {
              "outlinewidth": 0,
              "ticks": ""
             }
            },
            "type": "scatterpolar"
           }
          ],
          "scatterpolargl": [
           {
            "marker": {
             "colorbar": {
              "outlinewidth": 0,
              "ticks": ""
             }
            },
            "type": "scatterpolargl"
           }
          ],
          "scatterternary": [
           {
            "marker": {
             "colorbar": {
              "outlinewidth": 0,
              "ticks": ""
             }
            },
            "type": "scatterternary"
           }
          ],
          "surface": [
           {
            "colorbar": {
             "outlinewidth": 0,
             "ticks": ""
            },
            "colorscale": [
             [
              0,
              "#0d0887"
             ],
             [
              0.1111111111111111,
              "#46039f"
             ],
             [
              0.2222222222222222,
              "#7201a8"
             ],
             [
              0.3333333333333333,
              "#9c179e"
             ],
             [
              0.4444444444444444,
              "#bd3786"
             ],
             [
              0.5555555555555556,
              "#d8576b"
             ],
             [
              0.6666666666666666,
              "#ed7953"
             ],
             [
              0.7777777777777778,
              "#fb9f3a"
             ],
             [
              0.8888888888888888,
              "#fdca26"
             ],
             [
              1,
              "#f0f921"
             ]
            ],
            "type": "surface"
           }
          ],
          "table": [
           {
            "cells": {
             "fill": {
              "color": "#EBF0F8"
             },
             "line": {
              "color": "white"
             }
            },
            "header": {
             "fill": {
              "color": "#C8D4E3"
             },
             "line": {
              "color": "white"
             }
            },
            "type": "table"
           }
          ]
         },
         "layout": {
          "annotationdefaults": {
           "arrowcolor": "#2a3f5f",
           "arrowhead": 0,
           "arrowwidth": 1
          },
          "coloraxis": {
           "colorbar": {
            "outlinewidth": 0,
            "ticks": ""
           }
          },
          "colorscale": {
           "diverging": [
            [
             0,
             "#8e0152"
            ],
            [
             0.1,
             "#c51b7d"
            ],
            [
             0.2,
             "#de77ae"
            ],
            [
             0.3,
             "#f1b6da"
            ],
            [
             0.4,
             "#fde0ef"
            ],
            [
             0.5,
             "#f7f7f7"
            ],
            [
             0.6,
             "#e6f5d0"
            ],
            [
             0.7,
             "#b8e186"
            ],
            [
             0.8,
             "#7fbc41"
            ],
            [
             0.9,
             "#4d9221"
            ],
            [
             1,
             "#276419"
            ]
           ],
           "sequential": [
            [
             0,
             "#0d0887"
            ],
            [
             0.1111111111111111,
             "#46039f"
            ],
            [
             0.2222222222222222,
             "#7201a8"
            ],
            [
             0.3333333333333333,
             "#9c179e"
            ],
            [
             0.4444444444444444,
             "#bd3786"
            ],
            [
             0.5555555555555556,
             "#d8576b"
            ],
            [
             0.6666666666666666,
             "#ed7953"
            ],
            [
             0.7777777777777778,
             "#fb9f3a"
            ],
            [
             0.8888888888888888,
             "#fdca26"
            ],
            [
             1,
             "#f0f921"
            ]
           ],
           "sequentialminus": [
            [
             0,
             "#0d0887"
            ],
            [
             0.1111111111111111,
             "#46039f"
            ],
            [
             0.2222222222222222,
             "#7201a8"
            ],
            [
             0.3333333333333333,
             "#9c179e"
            ],
            [
             0.4444444444444444,
             "#bd3786"
            ],
            [
             0.5555555555555556,
             "#d8576b"
            ],
            [
             0.6666666666666666,
             "#ed7953"
            ],
            [
             0.7777777777777778,
             "#fb9f3a"
            ],
            [
             0.8888888888888888,
             "#fdca26"
            ],
            [
             1,
             "#f0f921"
            ]
           ]
          },
          "colorway": [
           "#636efa",
           "#EF553B",
           "#00cc96",
           "#ab63fa",
           "#FFA15A",
           "#19d3f3",
           "#FF6692",
           "#B6E880",
           "#FF97FF",
           "#FECB52"
          ],
          "font": {
           "color": "#2a3f5f"
          },
          "geo": {
           "bgcolor": "white",
           "lakecolor": "white",
           "landcolor": "#E5ECF6",
           "showlakes": true,
           "showland": true,
           "subunitcolor": "white"
          },
          "hoverlabel": {
           "align": "left"
          },
          "hovermode": "closest",
          "mapbox": {
           "style": "light"
          },
          "paper_bgcolor": "white",
          "plot_bgcolor": "#E5ECF6",
          "polar": {
           "angularaxis": {
            "gridcolor": "white",
            "linecolor": "white",
            "ticks": ""
           },
           "bgcolor": "#E5ECF6",
           "radialaxis": {
            "gridcolor": "white",
            "linecolor": "white",
            "ticks": ""
           }
          },
          "scene": {
           "xaxis": {
            "backgroundcolor": "#E5ECF6",
            "gridcolor": "white",
            "gridwidth": 2,
            "linecolor": "white",
            "showbackground": true,
            "ticks": "",
            "zerolinecolor": "white"
           },
           "yaxis": {
            "backgroundcolor": "#E5ECF6",
            "gridcolor": "white",
            "gridwidth": 2,
            "linecolor": "white",
            "showbackground": true,
            "ticks": "",
            "zerolinecolor": "white"
           },
           "zaxis": {
            "backgroundcolor": "#E5ECF6",
            "gridcolor": "white",
            "gridwidth": 2,
            "linecolor": "white",
            "showbackground": true,
            "ticks": "",
            "zerolinecolor": "white"
           }
          },
          "shapedefaults": {
           "line": {
            "color": "#2a3f5f"
           }
          },
          "ternary": {
           "aaxis": {
            "gridcolor": "white",
            "linecolor": "white",
            "ticks": ""
           },
           "baxis": {
            "gridcolor": "white",
            "linecolor": "white",
            "ticks": ""
           },
           "bgcolor": "#E5ECF6",
           "caxis": {
            "gridcolor": "white",
            "linecolor": "white",
            "ticks": ""
           }
          },
          "title": {
           "x": 0.05
          },
          "xaxis": {
           "automargin": true,
           "gridcolor": "white",
           "linecolor": "white",
           "ticks": "",
           "title": {
            "standoff": 15
           },
           "zerolinecolor": "white",
           "zerolinewidth": 2
          },
          "yaxis": {
           "automargin": true,
           "gridcolor": "white",
           "linecolor": "white",
           "ticks": "",
           "title": {
            "standoff": 15
           },
           "zerolinecolor": "white",
           "zerolinewidth": 2
          }
         }
        },
        "title": {
         "text": "COVID-19 Infections over time"
        },
        "xaxis": {
         "anchor": "y",
         "domain": [
          0,
          1
         ],
         "title": {
          "text": "Days"
         }
        },
        "yaxis": {
         "anchor": "x",
         "domain": [
          0,
          1
         ],
         "title": {
          "text": "Number of COVID-19 Infections"
         }
        }
       }
      },
      "text/html": [
       "<div>                            <div id=\"daeebab3-3381-4865-bf76-62b3c447b98c\" class=\"plotly-graph-div\" style=\"height:525px; width:100%;\"></div>            <script type=\"text/javascript\">                require([\"plotly\"], function(Plotly) {                    window.PLOTLYENV=window.PLOTLYENV || {};                                    if (document.getElementById(\"daeebab3-3381-4865-bf76-62b3c447b98c\")) {                    Plotly.newPlot(                        \"daeebab3-3381-4865-bf76-62b3c447b98c\",                        [{\"hovertemplate\": \"x=%{x}<br>y=%{y}<extra></extra>\", \"legendgroup\": \"\", \"line\": {\"color\": \"#636efa\", \"dash\": \"solid\"}, \"mode\": \"lines\", \"name\": \"\", \"orientation\": \"v\", \"showlegend\": false, \"type\": \"scatter\", \"x\": [0, 1, 2, 3, 4, 5, 6, 7, 8, 9, 10, 11, 12, 13, 14, 15, 16, 17, 18, 19, 20, 21, 22, 23, 24, 25, 26, 27, 28, 29, 30, 31, 32, 33, 34, 35, 36, 37, 38, 39, 40, 41, 42, 43, 44, 45, 46, 47, 48, 49, 50, 51, 52, 53, 54, 55, 56, 57, 58, 59, 60, 61, 62, 63, 64, 65, 66, 67, 68, 69, 70, 71, 72, 73, 74, 75, 76, 77, 78, 79, 80, 81, 82, 83, 84, 85, 86, 87, 88, 89, 90, 91, 92, 93, 94, 95, 96, 97, 98, 99, 100, 101, 102, 103, 104, 105, 106, 107, 108, 109, 110, 111, 112, 113, 114, 115, 116, 117, 118, 119, 120, 121, 122, 123, 124, 125, 126, 127, 128, 129, 130, 131, 132, 133, 134, 135, 136, 137, 138, 139, 140, 141, 142, 143, 144, 145, 146, 147, 148, 149, 150, 151, 152, 153, 154, 155, 156, 157, 158, 159, 160, 161, 162, 163, 164, 165, 166, 167, 168, 169, 170, 171, 172, 173, 174, 175, 176, 177, 178, 179, 180, 181, 182, 183, 184, 185, 186, 187, 188, 189, 190, 191, 192, 193, 194, 195, 196, 197, 198, 199, 200, 201, 202, 203, 204, 205, 206, 207, 208, 209, 210, 211, 212, 213, 214, 215, 216, 217, 218, 219, 220, 221, 222, 223, 224, 225, 226, 227, 228, 229, 230, 231, 232, 233, 234, 235, 236, 237, 238, 239, 240, 241, 242, 243, 244, 245, 246, 247, 248, 249, 250, 251, 252, 253, 254, 255, 256, 257, 258, 259, 260, 261, 262, 263, 264, 265, 266, 267, 268, 269, 270, 271, 272, 273, 274, 275, 276, 277, 278, 279, 280, 281, 282, 283, 284, 285, 286, 287, 288, 289, 290, 291, 292, 293, 294, 295, 296, 297, 298, 299, 300, 301, 302, 303, 304, 305, 306], \"xaxis\": \"x\", \"y\": [2807084.5638216687, 7430145.391156099, 13157610.807047736, 19405343.6153261, 25692152.459953886, 31861596.968877666, 37725445.47668637, 43460574.52516271, 48701721.09681873, 53013155.59319292, 56772480.38285453, 60443152.35158384, 63569420.90761948, 65663191.63596291, 67828394.06078008, 68987531.86837514, 70256230.68218538, 71144229.24926616, 71112402.55206974, 70822187.30723506, 70303881.01968631, 70153826.18342587, 69773257.74016365, 69190149.75601988, 67871264.97993611, 66962319.85136666, 65923575.70694637, 64774422.9689818, 63491745.34595768, 61624421.505124494, 60258454.76757472, 58842731.27850507, 56913112.747629896, 55473494.73524594, 53562448.55907451, 52125149.11550852, 50255461.97672974, 48840486.59219203, 47028958.26536272, 45651232.37162021, 44254419.31002831, 42870457.25321011, 41480747.70834939, 39778134.91747006, 38144001.68231213, 36883956.39942552, 35628324.31418146, 34399732.510918714, 32921345.51240661, 31758896.231302008, 30369425.17775283, 29275077.232216604, 28196995.178521693, 27151086.179470584, 25917752.910057776, 24745820.91016918, 23631748.83140034, 22572239.49128668, 21746621.91534267, 20769336.332027346, 19839753.334899016, 19115521.2695492, 18257779.45829121, 17580667.870768126, 16782177.277746525, 16159040.617186159, 15424439.452067574, 14726460.030456636, 14062986.599328883, 13432049.42571818, 12831813.0348869, 12364256.809885196, 11810229.841947014, 11372928.618346546, 10948917.07194925, 10449609.256260157, 10059774.733409105, 9600791.381945856, 9237929.981888045, 8886842.378411919, 8543251.507327992, 8142538.143450065, 7828707.979735023, 7525664.274535948, 7172350.284995089, 6837655.901336188, 6520422.968428737, 6272269.321690956, 6032337.653791963, 5797713.867464474, 5568737.428733249, 5348168.128148841, 5133369.636099183, 4885315.582110901, 4650947.9124216, 4464867.94601419, 4285847.454060154, 4111758.5609448035, 3911293.1456906125, 3751919.1274189036, 3597222.619147557, 3448824.7878017193, 3304984.172219282, 3167149.478107073, 3035069.3281046017, 2908502.920666904, 2787219.580246847, 2648475.363060285, 2539131.5682069217, 2413734.709363797, 2295485.074899293, 2201437.311660643, 2110206.6693349215, 2005680.5136132722, 1922473.5412878117, 1841872.792357087, 1763888.6894789012, 1689265.4705096597, 1604202.4430394352, 1536400.3872635963, 1459094.4987547568, 1386313.1048613207, 1328343.8745819742, 1262074.5042981042, 1209291.3661080427, 1148953.1867175035, 1092105.1040143506, 1046855.8359660442, 1003468.9940708053, 961869.0436403068, 921568.8699643877, 882574.1358863169, 845257.8251995278, 809545.1757436199, 775364.9749549299, 742649.3728610624, 711018.2641263205, 680766.9828934345, 646331.3266970476, 618873.5832579135, 592346.0071300397, 566742.206983887, 542052.486862626, 518264.3382763803, 491387.60863018036, 470119.6479809078, 449613.9018604363, 429859.5695603294, 407546.5630047241, 389719.4315794758, 372711.2395139513, 353469.20655103377, 338102.0135917313, 323432.6581808375, 309426.8853480759, 296052.33347011654, 283155.24082102673, 270846.06912022084, 256907.11995826225, 245885.25205396797, 235248.22598991857, 224991.86957302358, 215203.75257022426, 205860.684795228, 196855.45849113964, 188182.9085264706, 179837.06814234884, 171811.30464719064, 164167.87767336116, 156819.99814397693, 148556.72883701802, 142007.8114100622, 135764.08037785007, 129754.28167375, 124026.6578309395, 117564.35795455555, 111498.28837217888, 105799.48638491018, 101296.36197288585, 96170.84522600414, 91347.63861738214, 87543.60351847923, 83897.87939611668, 80367.86256968408, 78812.88554637336, 83422.88591020665, 100606.52092556364, 137737.30466163377, 205287.70059576232, 310142.35164051823, 463767.4478210162, 670207.0831910465, 943790.3900047655, 1278769.8538665383, 1691672.1451361936, 2179801.1299671074, 2743479.7718668333, 3376415.791004204, 4077183.052496871, 4842697.70338747, 5639362.119663014, 6533006.216401233, 7433880.657537102, 8432069.88731503, 9408676.794059841, 10422395.038296597, 11465519.999061141, 12605650.435320577, 13760847.45728427, 14922607.891239189, 16083309.772423288, 17216589.333263453, 18319546.631358527, 19263442.84525165, 20350458.969827842, 21411887.859017752, 22442292.33614284, 23413599.579374075, 24325818.36525131, 25179051.491891894, 25795660.765592504, 26596338.774631705, 27140414.417969648, 27873947.23053055, 28558703.85235244, 29167453.81701299, 29729707.429258596, 30218305.627353385, 30636912.893962406, 31014627.38362339, 31100856.472916044, 31392961.001880474, 31392322.436564635, 31628314.193976577, 31796874.828053482, 31927462.197304167, 31995582.976913992, 31772527.41296758, 31798429.53666378, 31789472.033876903, 31490093.211633224, 31183975.432458073, 30870231.4383056, 30796922.3672966, 30688575.739234306, 30546878.577140406, 30373573.448301878, 29925642.75403341, 29696705.413974676, 29443189.821547877, 29146479.079031967, 28811643.15899085, 28443254.655835405, 28045453.067217663, 27621997.39052034, 26971046.09197806, 26341447.467513245, 25926832.16183389, 25507531.771825977, 25067872.621945664, 24424347.687939703, 23803309.871388067, 23394905.627485853, 22982775.3192784, 22553371.553779174, 21941501.046284378, 21528321.89850895, 21100988.096399285, 20674924.545981236, 20238036.929821495, 19804682.13344556, 19374934.726017512, 18948931.799976878, 18526849.08982747, 17959347.459651634, 17559470.18187216, 17021248.72857782, 16641438.376015428, 16254757.215819763, 15863245.091749119, 15468705.44178495, 15081388.385664739, 14701119.215291144, 14327770.169293933, 13845581.53919242, 13496422.389299214, 13145542.738476483, 12695437.222144846, 12265484.94537084, 11946457.755210303, 11626889.567480102, 11307877.766856696, 10905199.412966954, 10609535.44004561, 10314525.85534931, 9943323.522812715, 9589602.831038084, 9252101.366083689, 8929678.730495675, 8693401.301461622, 8461151.379311033, 8232974.761015448, 8004422.290965424, 7716018.155554033, 7440579.8821744025, 7233268.901152036, 7026333.406369333], \"yaxis\": \"y\"}],                        {\"legend\": {\"tracegroupgap\": 0}, \"template\": {\"data\": {\"bar\": [{\"error_x\": {\"color\": \"#2a3f5f\"}, \"error_y\": {\"color\": \"#2a3f5f\"}, \"marker\": {\"line\": {\"color\": \"#E5ECF6\", \"width\": 0.5}}, \"type\": \"bar\"}], \"barpolar\": [{\"marker\": {\"line\": {\"color\": \"#E5ECF6\", \"width\": 0.5}}, \"type\": \"barpolar\"}], \"carpet\": [{\"aaxis\": {\"endlinecolor\": \"#2a3f5f\", \"gridcolor\": \"white\", \"linecolor\": \"white\", \"minorgridcolor\": \"white\", \"startlinecolor\": \"#2a3f5f\"}, \"baxis\": {\"endlinecolor\": \"#2a3f5f\", \"gridcolor\": \"white\", \"linecolor\": \"white\", \"minorgridcolor\": \"white\", \"startlinecolor\": \"#2a3f5f\"}, \"type\": \"carpet\"}], \"choropleth\": [{\"colorbar\": {\"outlinewidth\": 0, \"ticks\": \"\"}, \"type\": \"choropleth\"}], \"contour\": [{\"colorbar\": {\"outlinewidth\": 0, \"ticks\": \"\"}, \"colorscale\": [[0.0, \"#0d0887\"], [0.1111111111111111, \"#46039f\"], [0.2222222222222222, \"#7201a8\"], [0.3333333333333333, \"#9c179e\"], [0.4444444444444444, \"#bd3786\"], [0.5555555555555556, \"#d8576b\"], [0.6666666666666666, \"#ed7953\"], [0.7777777777777778, \"#fb9f3a\"], [0.8888888888888888, \"#fdca26\"], [1.0, \"#f0f921\"]], \"type\": \"contour\"}], \"contourcarpet\": [{\"colorbar\": {\"outlinewidth\": 0, \"ticks\": \"\"}, \"type\": \"contourcarpet\"}], \"heatmap\": [{\"colorbar\": {\"outlinewidth\": 0, \"ticks\": \"\"}, \"colorscale\": [[0.0, \"#0d0887\"], [0.1111111111111111, \"#46039f\"], [0.2222222222222222, \"#7201a8\"], [0.3333333333333333, \"#9c179e\"], [0.4444444444444444, \"#bd3786\"], [0.5555555555555556, \"#d8576b\"], [0.6666666666666666, \"#ed7953\"], [0.7777777777777778, \"#fb9f3a\"], [0.8888888888888888, \"#fdca26\"], [1.0, \"#f0f921\"]], \"type\": \"heatmap\"}], \"heatmapgl\": [{\"colorbar\": {\"outlinewidth\": 0, \"ticks\": \"\"}, \"colorscale\": [[0.0, \"#0d0887\"], [0.1111111111111111, \"#46039f\"], [0.2222222222222222, \"#7201a8\"], [0.3333333333333333, \"#9c179e\"], [0.4444444444444444, \"#bd3786\"], [0.5555555555555556, \"#d8576b\"], [0.6666666666666666, \"#ed7953\"], [0.7777777777777778, \"#fb9f3a\"], [0.8888888888888888, \"#fdca26\"], [1.0, \"#f0f921\"]], \"type\": \"heatmapgl\"}], \"histogram\": [{\"marker\": {\"colorbar\": {\"outlinewidth\": 0, \"ticks\": \"\"}}, \"type\": \"histogram\"}], \"histogram2d\": [{\"colorbar\": {\"outlinewidth\": 0, \"ticks\": \"\"}, \"colorscale\": [[0.0, \"#0d0887\"], [0.1111111111111111, \"#46039f\"], [0.2222222222222222, \"#7201a8\"], [0.3333333333333333, \"#9c179e\"], [0.4444444444444444, \"#bd3786\"], [0.5555555555555556, \"#d8576b\"], [0.6666666666666666, \"#ed7953\"], [0.7777777777777778, \"#fb9f3a\"], [0.8888888888888888, \"#fdca26\"], [1.0, \"#f0f921\"]], \"type\": \"histogram2d\"}], \"histogram2dcontour\": [{\"colorbar\": {\"outlinewidth\": 0, \"ticks\": \"\"}, \"colorscale\": [[0.0, \"#0d0887\"], [0.1111111111111111, \"#46039f\"], [0.2222222222222222, \"#7201a8\"], [0.3333333333333333, \"#9c179e\"], [0.4444444444444444, \"#bd3786\"], [0.5555555555555556, \"#d8576b\"], [0.6666666666666666, \"#ed7953\"], [0.7777777777777778, \"#fb9f3a\"], [0.8888888888888888, \"#fdca26\"], [1.0, \"#f0f921\"]], \"type\": \"histogram2dcontour\"}], \"mesh3d\": [{\"colorbar\": {\"outlinewidth\": 0, \"ticks\": \"\"}, \"type\": \"mesh3d\"}], \"parcoords\": [{\"line\": {\"colorbar\": {\"outlinewidth\": 0, \"ticks\": \"\"}}, \"type\": \"parcoords\"}], \"pie\": [{\"automargin\": true, \"type\": \"pie\"}], \"scatter\": [{\"marker\": {\"colorbar\": {\"outlinewidth\": 0, \"ticks\": \"\"}}, \"type\": \"scatter\"}], \"scatter3d\": [{\"line\": {\"colorbar\": {\"outlinewidth\": 0, \"ticks\": \"\"}}, \"marker\": {\"colorbar\": {\"outlinewidth\": 0, \"ticks\": \"\"}}, \"type\": \"scatter3d\"}], \"scattercarpet\": [{\"marker\": {\"colorbar\": {\"outlinewidth\": 0, \"ticks\": \"\"}}, \"type\": \"scattercarpet\"}], \"scattergeo\": [{\"marker\": {\"colorbar\": {\"outlinewidth\": 0, \"ticks\": \"\"}}, \"type\": \"scattergeo\"}], \"scattergl\": [{\"marker\": {\"colorbar\": {\"outlinewidth\": 0, \"ticks\": \"\"}}, \"type\": \"scattergl\"}], \"scattermapbox\": [{\"marker\": {\"colorbar\": {\"outlinewidth\": 0, \"ticks\": \"\"}}, \"type\": \"scattermapbox\"}], \"scatterpolar\": [{\"marker\": {\"colorbar\": {\"outlinewidth\": 0, \"ticks\": \"\"}}, \"type\": \"scatterpolar\"}], \"scatterpolargl\": [{\"marker\": {\"colorbar\": {\"outlinewidth\": 0, \"ticks\": \"\"}}, \"type\": \"scatterpolargl\"}], \"scatterternary\": [{\"marker\": {\"colorbar\": {\"outlinewidth\": 0, \"ticks\": \"\"}}, \"type\": \"scatterternary\"}], \"surface\": [{\"colorbar\": {\"outlinewidth\": 0, \"ticks\": \"\"}, \"colorscale\": [[0.0, \"#0d0887\"], [0.1111111111111111, \"#46039f\"], [0.2222222222222222, \"#7201a8\"], [0.3333333333333333, \"#9c179e\"], [0.4444444444444444, \"#bd3786\"], [0.5555555555555556, \"#d8576b\"], [0.6666666666666666, \"#ed7953\"], [0.7777777777777778, \"#fb9f3a\"], [0.8888888888888888, \"#fdca26\"], [1.0, \"#f0f921\"]], \"type\": \"surface\"}], \"table\": [{\"cells\": {\"fill\": {\"color\": \"#EBF0F8\"}, \"line\": {\"color\": \"white\"}}, \"header\": {\"fill\": {\"color\": \"#C8D4E3\"}, \"line\": {\"color\": \"white\"}}, \"type\": \"table\"}]}, \"layout\": {\"annotationdefaults\": {\"arrowcolor\": \"#2a3f5f\", \"arrowhead\": 0, \"arrowwidth\": 1}, \"coloraxis\": {\"colorbar\": {\"outlinewidth\": 0, \"ticks\": \"\"}}, \"colorscale\": {\"diverging\": [[0, \"#8e0152\"], [0.1, \"#c51b7d\"], [0.2, \"#de77ae\"], [0.3, \"#f1b6da\"], [0.4, \"#fde0ef\"], [0.5, \"#f7f7f7\"], [0.6, \"#e6f5d0\"], [0.7, \"#b8e186\"], [0.8, \"#7fbc41\"], [0.9, \"#4d9221\"], [1, \"#276419\"]], \"sequential\": [[0.0, \"#0d0887\"], [0.1111111111111111, \"#46039f\"], [0.2222222222222222, \"#7201a8\"], [0.3333333333333333, \"#9c179e\"], [0.4444444444444444, \"#bd3786\"], [0.5555555555555556, \"#d8576b\"], [0.6666666666666666, \"#ed7953\"], [0.7777777777777778, \"#fb9f3a\"], [0.8888888888888888, \"#fdca26\"], [1.0, \"#f0f921\"]], \"sequentialminus\": [[0.0, \"#0d0887\"], [0.1111111111111111, \"#46039f\"], [0.2222222222222222, \"#7201a8\"], [0.3333333333333333, \"#9c179e\"], [0.4444444444444444, \"#bd3786\"], [0.5555555555555556, \"#d8576b\"], [0.6666666666666666, \"#ed7953\"], [0.7777777777777778, \"#fb9f3a\"], [0.8888888888888888, \"#fdca26\"], [1.0, \"#f0f921\"]]}, \"colorway\": [\"#636efa\", \"#EF553B\", \"#00cc96\", \"#ab63fa\", \"#FFA15A\", \"#19d3f3\", \"#FF6692\", \"#B6E880\", \"#FF97FF\", \"#FECB52\"], \"font\": {\"color\": \"#2a3f5f\"}, \"geo\": {\"bgcolor\": \"white\", \"lakecolor\": \"white\", \"landcolor\": \"#E5ECF6\", \"showlakes\": true, \"showland\": true, \"subunitcolor\": \"white\"}, \"hoverlabel\": {\"align\": \"left\"}, \"hovermode\": \"closest\", \"mapbox\": {\"style\": \"light\"}, \"paper_bgcolor\": \"white\", \"plot_bgcolor\": \"#E5ECF6\", \"polar\": {\"angularaxis\": {\"gridcolor\": \"white\", \"linecolor\": \"white\", \"ticks\": \"\"}, \"bgcolor\": \"#E5ECF6\", \"radialaxis\": {\"gridcolor\": \"white\", \"linecolor\": \"white\", \"ticks\": \"\"}}, \"scene\": {\"xaxis\": {\"backgroundcolor\": \"#E5ECF6\", \"gridcolor\": \"white\", \"gridwidth\": 2, \"linecolor\": \"white\", \"showbackground\": true, \"ticks\": \"\", \"zerolinecolor\": \"white\"}, \"yaxis\": {\"backgroundcolor\": \"#E5ECF6\", \"gridcolor\": \"white\", \"gridwidth\": 2, \"linecolor\": \"white\", \"showbackground\": true, \"ticks\": \"\", \"zerolinecolor\": \"white\"}, \"zaxis\": {\"backgroundcolor\": \"#E5ECF6\", \"gridcolor\": \"white\", \"gridwidth\": 2, \"linecolor\": \"white\", \"showbackground\": true, \"ticks\": \"\", \"zerolinecolor\": \"white\"}}, \"shapedefaults\": {\"line\": {\"color\": \"#2a3f5f\"}}, \"ternary\": {\"aaxis\": {\"gridcolor\": \"white\", \"linecolor\": \"white\", \"ticks\": \"\"}, \"baxis\": {\"gridcolor\": \"white\", \"linecolor\": \"white\", \"ticks\": \"\"}, \"bgcolor\": \"#E5ECF6\", \"caxis\": {\"gridcolor\": \"white\", \"linecolor\": \"white\", \"ticks\": \"\"}}, \"title\": {\"x\": 0.05}, \"xaxis\": {\"automargin\": true, \"gridcolor\": \"white\", \"linecolor\": \"white\", \"ticks\": \"\", \"title\": {\"standoff\": 15}, \"zerolinecolor\": \"white\", \"zerolinewidth\": 2}, \"yaxis\": {\"automargin\": true, \"gridcolor\": \"white\", \"linecolor\": \"white\", \"ticks\": \"\", \"title\": {\"standoff\": 15}, \"zerolinecolor\": \"white\", \"zerolinewidth\": 2}}}, \"title\": {\"text\": \"COVID-19 Infections over time\"}, \"xaxis\": {\"anchor\": \"y\", \"domain\": [0.0, 1.0], \"title\": {\"text\": \"Days\"}}, \"yaxis\": {\"anchor\": \"x\", \"domain\": [0.0, 1.0], \"title\": {\"text\": \"Number of COVID-19 Infections\"}}},                        {\"responsive\": true}                    ).then(function(){\n",
       "                            \n",
       "var gd = document.getElementById('daeebab3-3381-4865-bf76-62b3c447b98c');\n",
       "var x = new MutationObserver(function (mutations, observer) {{\n",
       "        var display = window.getComputedStyle(gd).display;\n",
       "        if (!display || display === 'none') {{\n",
       "            console.log([gd, 'removed!']);\n",
       "            Plotly.purge(gd);\n",
       "            observer.disconnect();\n",
       "        }}\n",
       "}});\n",
       "\n",
       "// Listen for the removal of the full notebook cells\n",
       "var notebookContainer = gd.closest('#notebook-container');\n",
       "if (notebookContainer) {{\n",
       "    x.observe(notebookContainer, {childList: true});\n",
       "}}\n",
       "\n",
       "// Listen for the clearing of the current output cell\n",
       "var outputEl = gd.closest('.output');\n",
       "if (outputEl) {{\n",
       "    x.observe(outputEl, {childList: true});\n",
       "}}\n",
       "\n",
       "                        })                };                });            </script>        </div>"
      ]
     },
     "metadata": {},
     "output_type": "display_data"
    },
    {
     "data": {
      "application/vnd.plotly.v1+json": {
       "config": {
        "plotlyServerURL": "https://plot.ly"
       },
       "data": [
        {
         "hovertemplate": "x=%{x}<br>y=%{y}<extra></extra>",
         "legendgroup": "",
         "line": {
          "color": "#636efa",
          "dash": "solid"
         },
         "mode": "lines",
         "name": "",
         "orientation": "v",
         "showlegend": false,
         "type": "scatter",
         "x": [
          0,
          1,
          2,
          3,
          4,
          5,
          6,
          7,
          8,
          9,
          10,
          11,
          12,
          13,
          14,
          15,
          16,
          17,
          18,
          19,
          20,
          21,
          22,
          23,
          24,
          25,
          26,
          27,
          28,
          29,
          30,
          31,
          32,
          33,
          34,
          35,
          36,
          37,
          38,
          39,
          40,
          41,
          42,
          43,
          44,
          45,
          46,
          47,
          48,
          49,
          50,
          51,
          52,
          53,
          54,
          55,
          56,
          57,
          58,
          59,
          60,
          61,
          62,
          63,
          64,
          65,
          66,
          67,
          68,
          69,
          70,
          71,
          72,
          73,
          74,
          75,
          76,
          77,
          78,
          79,
          80,
          81,
          82,
          83,
          84,
          85,
          86,
          87,
          88,
          89,
          90,
          91,
          92,
          93,
          94,
          95,
          96,
          97,
          98,
          99,
          100,
          101,
          102,
          103,
          104,
          105,
          106,
          107,
          108,
          109,
          110,
          111,
          112,
          113,
          114,
          115,
          116,
          117,
          118,
          119,
          120,
          121,
          122,
          123,
          124,
          125,
          126,
          127,
          128,
          129,
          130,
          131,
          132,
          133,
          134,
          135,
          136,
          137,
          138,
          139,
          140,
          141,
          142,
          143,
          144,
          145,
          146,
          147,
          148,
          149,
          150,
          151,
          152,
          153,
          154,
          155,
          156,
          157,
          158,
          159,
          160,
          161,
          162,
          163,
          164,
          165,
          166,
          167,
          168,
          169,
          170,
          171,
          172,
          173,
          174,
          175,
          176,
          177,
          178,
          179,
          180,
          181,
          182,
          183,
          184,
          185,
          186,
          187,
          188,
          189,
          190,
          191,
          192,
          193,
          194,
          195,
          196,
          197,
          198,
          199,
          200,
          201,
          202,
          203,
          204,
          205,
          206,
          207,
          208,
          209,
          210,
          211,
          212,
          213,
          214,
          215,
          216,
          217,
          218,
          219,
          220,
          221,
          222,
          223,
          224,
          225,
          226,
          227,
          228,
          229,
          230,
          231,
          232,
          233,
          234,
          235,
          236,
          237,
          238,
          239,
          240,
          241,
          242,
          243,
          244,
          245,
          246,
          247,
          248,
          249,
          250,
          251,
          252,
          253,
          254,
          255,
          256,
          257,
          258,
          259,
          260,
          261,
          262,
          263,
          264,
          265,
          266,
          267,
          268,
          269,
          270,
          271,
          272,
          273,
          274,
          275,
          276,
          277,
          278,
          279,
          280,
          281,
          282,
          283,
          284,
          285,
          286,
          287,
          288,
          289,
          290,
          291,
          292,
          293,
          294,
          295,
          296,
          297,
          298,
          299,
          300,
          301,
          302,
          303,
          304,
          305,
          306
         ],
         "xaxis": "x",
         "y": [
          15571835.225474568,
          35539800.1346362,
          54443627.67721722,
          69912556.45189078,
          81018294.88358186,
          87532657.93898012,
          91076993.31994207,
          91637576.96199411,
          89360760.7977246,
          86267257.22992301,
          82029250.02548851,
          76964364.33760288,
          71498423.57114896,
          65809627.264200665,
          60156764.31571755,
          54224108.275074005,
          49018866.39770058,
          44083925.48134181,
          39467006.528485,
          34927918.697041385,
          31073754.12183699,
          27572227.490337893,
          24392714.143995654,
          21522449.43087491,
          18954980.67039007,
          16526834.205694035,
          14394686.409865621,
          12630993.881402338,
          10975569.339594223,
          9605056.588464158,
          8325454.05147131,
          7269255.646131654,
          6337652.390957342,
          5474021.337793396,
          4764078.073133623,
          4108052.655612815,
          3571382.1264972333,
          3101232.7282501925,
          2690081.137926857,
          2332095.981728485,
          2020654.9989266829,
          1735103.2204540502,
          1501867.8697263943,
          1298863.0570742683,
          1122389.7596202807,
          969540.9595159835,
          836889.7660654937,
          722165.9678665315,
          622987.181401778,
          537074.7924099214,
          462896.5340023238,
          398870.2738972942,
          343623.44738511904,
          295965.99305105524,
          252697.6051732456,
          215790.17160502588,
          185883.7270557001,
          158726.49978212145,
          136721.7900688641,
          116741.48339177216,
          100552.73094625583,
          86559.2920707062,
          74472.87003419363,
          63518.517036924546,
          54632.18456065944,
          46982.530924828505,
          40398.61720101358,
          34720.5646082342,
          29582.92795359144,
          25419.364283473868,
          21832.019881341756,
          18742.973107773374,
          16090.010605517899,
          13811.744441836072,
          11855.397449420989,
          10172.126262973028,
          8724.561321996052,
          7480.306186104922,
          6358.612121862209,
          5453.422131134451,
          4676.98894074737,
          4011.0158581795463,
          3410.4074816494426,
          2900.6252960104894,
          2489.0372872305434,
          2117.519276093382,
          1816.874958782314,
          1558.327886844911,
          1336.5402895738375,
          1136.4964172795344,
          974.6883434387473,
          828.7566797919245,
          710.7242952502363,
          604.2818551365319,
          518.3678953561897,
          444.6553833220183,
          378.1550800401658,
          321.6969089582686,
          276.0110356286362,
          234.78160116934112,
          201.49024580239006,
          172.91132243261953,
          148.37922137023963,
          127.27890067919071,
          108.24322768027687,
          92.84402989264247,
          78.95308991153182,
          67.16079173942433,
          57.146538227080725,
          49.04130045202685,
          42.0694308187532,
          35.77928336444893,
          30.70095279948617,
          26.11733577382866,
          22.408278704594725,
          19.061021670949167,
          16.35265754367751,
          13.908801496017874,
          11.931561855220664,
          10.231640297953309,
          8.773763356109294,
          7.459192879245772,
          6.39821990271304,
          5.488006387160845,
          4.666936451908738,
          3.9699097002295045,
          3.3779774704234984,
          2.8751216161581676,
          2.4680134755458467,
          2.1184306425101274,
          1.8176449498276617,
          1.5461849601896882,
          1.3269837446821586,
          1.129078024049947,
          0.968904558308233,
          0.8311346049278483,
          0.7068422616246723,
          0.6062925863932331,
          0.5198578726139125,
          0.4457397925109284,
          0.3821842740408067,
          0.32768687536261987,
          0.2808639094619092,
          0.23867341524233074,
          0.2028863937443126,
          0.1739481865376509,
          0.1491360501605723,
          0.12786193615057093,
          0.10958518313788734,
          0.09389037212022736,
          0.08044462768337354,
          0.06833588528976438,
          0.05855073456762606,
          0.04973835901186995,
          0.042630956317059,
          0.036527194334421774,
          0.03128755160191931,
          0.02657088325024375,
          0.02276027105545098,
          0.01932980937946764,
          0.016558234719443444,
          0.014184376614543592,
          0.012147159192732257,
          0.010399518651291458,
          0.00890369545554845,
          0.007558086764181955,
          0.006473505387223348,
          0.005544712333439585,
          0.004708668395947073,
          0.004000057863544835,
          0.0034285352768791575,
          0.0029386737721568555,
          0.0025188048578275862,
          0.002158927428250054,
          0.001850469485546377,
          0.0015725223693644093,
          0.0013478328586772025,
          0.0011548687034975188,
          0.0009895436410343403,
          0.0008476192662873071,
          0.0007258322800716974,
          0.0006162460556119601,
          0.0005279044904129299,
          0.00044836782421141773,
          147315.72897486849,
          675411.9217281265,
          1805173.5967509313,
          3682803.013388563,
          6381016.39806582,
          9831528.185893726,
          13857222.67469423,
          18432623.791100644,
          23265287.684040822,
          28156754.13142033,
          32875956.510338716,
          37343534.65427786,
          41164562.81814088,
          44755375.008211546,
          47740221.904057376,
          49826033.036445074,
          51380962.57271721,
          52694441.78233676,
          53374232.96243739,
          53475878.8879332,
          52742124.80255124,
          52057724.50320948,
          50995631.07204594,
          49609280.60277278,
          47901347.9405424,
          45947438.01886612,
          43524450.46752219,
          41356948.55862838,
          38829596.27449465,
          36593254.061760925,
          34090755.3742467,
          31895725.83243477,
          29744004.42157677,
          27625430.972710244,
          25585831.36748954,
          23446360.518954173,
          21449300.355810143,
          19589367.6868685,
          17861122.74361874,
          16389187.933040868,
          14882619.196020784,
          13603218.331597475,
          12405873.888402123,
          11289951.95735329,
          10246205.701977083,
          9282634.89176958,
          8389549.964037137,
          7571184.763188928,
          6767611.444447981,
          6094808.755995671,
          5481360.560885387,
          4923169.252780711,
          4380263.294354734,
          3924578.287131432,
          3483667.532236385,
          3116423.8210174935,
          2783013.645839498,
          2462460.8555524494,
          2194746.386457119,
          1953160.9334777491,
          1736760.4786966299,
          1530401.1001435583,
          1358710.4384764396,
          1204687.3453812585,
          1067427.6113662235,
          944651.260515825,
          835519.3815098173,
          738575.7038066192,
          652147.3275158682,
          575230.7149066334,
          507165.5031148604,
          446958.40164378943,
          393726.18941521156,
          346682.9048660194,
          302591.54852103884,
          264137.5100694587,
          232523.64820599311,
          204596.06646683137,
          179938.0700214206,
          158095.89210350876,
          137691.9859338748,
          119936.16024622844,
          104480.05694184724,
          91786.93676923923,
          80597.5930571804,
          70702.98481929005,
          61966.43898086567,
          53836.45134295874,
          47174.217548577224,
          41300.26521246466,
          36145.85683709425,
          31624.366701630235,
          27427.92446325515,
          23792.2650819263,
          20815.716892212396,
          18204.92937111343,
          15782.603917348728,
          13793.279426475801,
          11949.740756083116,
          10436.686128322734,
          9108.12494302331,
          7942.890879644539,
          6921.988772816756,
          6028.423462024615,
          5247.022637386106,
          4527.904406906417,
          3908.5784635786285,
          3402.0270894964647,
          2959.341555097909,
          2572.793980460183,
          2235.532510830324,
          1942.3330726426152,
          1686.712441235069,
          1464.0131588210536,
          1270.1260623411029,
          1101.4293698092206,
          947.0705797311048,
          821.6151283383741,
          712.4487107583428,
          617.775418557826,
          531.1433021971202,
          460.72680700221014,
          396.2473629480572
         ],
         "yaxis": "y"
        }
       ],
       "layout": {
        "legend": {
         "tracegroupgap": 0
        },
        "template": {
         "data": {
          "bar": [
           {
            "error_x": {
             "color": "#2a3f5f"
            },
            "error_y": {
             "color": "#2a3f5f"
            },
            "marker": {
             "line": {
              "color": "#E5ECF6",
              "width": 0.5
             }
            },
            "type": "bar"
           }
          ],
          "barpolar": [
           {
            "marker": {
             "line": {
              "color": "#E5ECF6",
              "width": 0.5
             }
            },
            "type": "barpolar"
           }
          ],
          "carpet": [
           {
            "aaxis": {
             "endlinecolor": "#2a3f5f",
             "gridcolor": "white",
             "linecolor": "white",
             "minorgridcolor": "white",
             "startlinecolor": "#2a3f5f"
            },
            "baxis": {
             "endlinecolor": "#2a3f5f",
             "gridcolor": "white",
             "linecolor": "white",
             "minorgridcolor": "white",
             "startlinecolor": "#2a3f5f"
            },
            "type": "carpet"
           }
          ],
          "choropleth": [
           {
            "colorbar": {
             "outlinewidth": 0,
             "ticks": ""
            },
            "type": "choropleth"
           }
          ],
          "contour": [
           {
            "colorbar": {
             "outlinewidth": 0,
             "ticks": ""
            },
            "colorscale": [
             [
              0,
              "#0d0887"
             ],
             [
              0.1111111111111111,
              "#46039f"
             ],
             [
              0.2222222222222222,
              "#7201a8"
             ],
             [
              0.3333333333333333,
              "#9c179e"
             ],
             [
              0.4444444444444444,
              "#bd3786"
             ],
             [
              0.5555555555555556,
              "#d8576b"
             ],
             [
              0.6666666666666666,
              "#ed7953"
             ],
             [
              0.7777777777777778,
              "#fb9f3a"
             ],
             [
              0.8888888888888888,
              "#fdca26"
             ],
             [
              1,
              "#f0f921"
             ]
            ],
            "type": "contour"
           }
          ],
          "contourcarpet": [
           {
            "colorbar": {
             "outlinewidth": 0,
             "ticks": ""
            },
            "type": "contourcarpet"
           }
          ],
          "heatmap": [
           {
            "colorbar": {
             "outlinewidth": 0,
             "ticks": ""
            },
            "colorscale": [
             [
              0,
              "#0d0887"
             ],
             [
              0.1111111111111111,
              "#46039f"
             ],
             [
              0.2222222222222222,
              "#7201a8"
             ],
             [
              0.3333333333333333,
              "#9c179e"
             ],
             [
              0.4444444444444444,
              "#bd3786"
             ],
             [
              0.5555555555555556,
              "#d8576b"
             ],
             [
              0.6666666666666666,
              "#ed7953"
             ],
             [
              0.7777777777777778,
              "#fb9f3a"
             ],
             [
              0.8888888888888888,
              "#fdca26"
             ],
             [
              1,
              "#f0f921"
             ]
            ],
            "type": "heatmap"
           }
          ],
          "heatmapgl": [
           {
            "colorbar": {
             "outlinewidth": 0,
             "ticks": ""
            },
            "colorscale": [
             [
              0,
              "#0d0887"
             ],
             [
              0.1111111111111111,
              "#46039f"
             ],
             [
              0.2222222222222222,
              "#7201a8"
             ],
             [
              0.3333333333333333,
              "#9c179e"
             ],
             [
              0.4444444444444444,
              "#bd3786"
             ],
             [
              0.5555555555555556,
              "#d8576b"
             ],
             [
              0.6666666666666666,
              "#ed7953"
             ],
             [
              0.7777777777777778,
              "#fb9f3a"
             ],
             [
              0.8888888888888888,
              "#fdca26"
             ],
             [
              1,
              "#f0f921"
             ]
            ],
            "type": "heatmapgl"
           }
          ],
          "histogram": [
           {
            "marker": {
             "colorbar": {
              "outlinewidth": 0,
              "ticks": ""
             }
            },
            "type": "histogram"
           }
          ],
          "histogram2d": [
           {
            "colorbar": {
             "outlinewidth": 0,
             "ticks": ""
            },
            "colorscale": [
             [
              0,
              "#0d0887"
             ],
             [
              0.1111111111111111,
              "#46039f"
             ],
             [
              0.2222222222222222,
              "#7201a8"
             ],
             [
              0.3333333333333333,
              "#9c179e"
             ],
             [
              0.4444444444444444,
              "#bd3786"
             ],
             [
              0.5555555555555556,
              "#d8576b"
             ],
             [
              0.6666666666666666,
              "#ed7953"
             ],
             [
              0.7777777777777778,
              "#fb9f3a"
             ],
             [
              0.8888888888888888,
              "#fdca26"
             ],
             [
              1,
              "#f0f921"
             ]
            ],
            "type": "histogram2d"
           }
          ],
          "histogram2dcontour": [
           {
            "colorbar": {
             "outlinewidth": 0,
             "ticks": ""
            },
            "colorscale": [
             [
              0,
              "#0d0887"
             ],
             [
              0.1111111111111111,
              "#46039f"
             ],
             [
              0.2222222222222222,
              "#7201a8"
             ],
             [
              0.3333333333333333,
              "#9c179e"
             ],
             [
              0.4444444444444444,
              "#bd3786"
             ],
             [
              0.5555555555555556,
              "#d8576b"
             ],
             [
              0.6666666666666666,
              "#ed7953"
             ],
             [
              0.7777777777777778,
              "#fb9f3a"
             ],
             [
              0.8888888888888888,
              "#fdca26"
             ],
             [
              1,
              "#f0f921"
             ]
            ],
            "type": "histogram2dcontour"
           }
          ],
          "mesh3d": [
           {
            "colorbar": {
             "outlinewidth": 0,
             "ticks": ""
            },
            "type": "mesh3d"
           }
          ],
          "parcoords": [
           {
            "line": {
             "colorbar": {
              "outlinewidth": 0,
              "ticks": ""
             }
            },
            "type": "parcoords"
           }
          ],
          "pie": [
           {
            "automargin": true,
            "type": "pie"
           }
          ],
          "scatter": [
           {
            "marker": {
             "colorbar": {
              "outlinewidth": 0,
              "ticks": ""
             }
            },
            "type": "scatter"
           }
          ],
          "scatter3d": [
           {
            "line": {
             "colorbar": {
              "outlinewidth": 0,
              "ticks": ""
             }
            },
            "marker": {
             "colorbar": {
              "outlinewidth": 0,
              "ticks": ""
             }
            },
            "type": "scatter3d"
           }
          ],
          "scattercarpet": [
           {
            "marker": {
             "colorbar": {
              "outlinewidth": 0,
              "ticks": ""
             }
            },
            "type": "scattercarpet"
           }
          ],
          "scattergeo": [
           {
            "marker": {
             "colorbar": {
              "outlinewidth": 0,
              "ticks": ""
             }
            },
            "type": "scattergeo"
           }
          ],
          "scattergl": [
           {
            "marker": {
             "colorbar": {
              "outlinewidth": 0,
              "ticks": ""
             }
            },
            "type": "scattergl"
           }
          ],
          "scattermapbox": [
           {
            "marker": {
             "colorbar": {
              "outlinewidth": 0,
              "ticks": ""
             }
            },
            "type": "scattermapbox"
           }
          ],
          "scatterpolar": [
           {
            "marker": {
             "colorbar": {
              "outlinewidth": 0,
              "ticks": ""
             }
            },
            "type": "scatterpolar"
           }
          ],
          "scatterpolargl": [
           {
            "marker": {
             "colorbar": {
              "outlinewidth": 0,
              "ticks": ""
             }
            },
            "type": "scatterpolargl"
           }
          ],
          "scatterternary": [
           {
            "marker": {
             "colorbar": {
              "outlinewidth": 0,
              "ticks": ""
             }
            },
            "type": "scatterternary"
           }
          ],
          "surface": [
           {
            "colorbar": {
             "outlinewidth": 0,
             "ticks": ""
            },
            "colorscale": [
             [
              0,
              "#0d0887"
             ],
             [
              0.1111111111111111,
              "#46039f"
             ],
             [
              0.2222222222222222,
              "#7201a8"
             ],
             [
              0.3333333333333333,
              "#9c179e"
             ],
             [
              0.4444444444444444,
              "#bd3786"
             ],
             [
              0.5555555555555556,
              "#d8576b"
             ],
             [
              0.6666666666666666,
              "#ed7953"
             ],
             [
              0.7777777777777778,
              "#fb9f3a"
             ],
             [
              0.8888888888888888,
              "#fdca26"
             ],
             [
              1,
              "#f0f921"
             ]
            ],
            "type": "surface"
           }
          ],
          "table": [
           {
            "cells": {
             "fill": {
              "color": "#EBF0F8"
             },
             "line": {
              "color": "white"
             }
            },
            "header": {
             "fill": {
              "color": "#C8D4E3"
             },
             "line": {
              "color": "white"
             }
            },
            "type": "table"
           }
          ]
         },
         "layout": {
          "annotationdefaults": {
           "arrowcolor": "#2a3f5f",
           "arrowhead": 0,
           "arrowwidth": 1
          },
          "coloraxis": {
           "colorbar": {
            "outlinewidth": 0,
            "ticks": ""
           }
          },
          "colorscale": {
           "diverging": [
            [
             0,
             "#8e0152"
            ],
            [
             0.1,
             "#c51b7d"
            ],
            [
             0.2,
             "#de77ae"
            ],
            [
             0.3,
             "#f1b6da"
            ],
            [
             0.4,
             "#fde0ef"
            ],
            [
             0.5,
             "#f7f7f7"
            ],
            [
             0.6,
             "#e6f5d0"
            ],
            [
             0.7,
             "#b8e186"
            ],
            [
             0.8,
             "#7fbc41"
            ],
            [
             0.9,
             "#4d9221"
            ],
            [
             1,
             "#276419"
            ]
           ],
           "sequential": [
            [
             0,
             "#0d0887"
            ],
            [
             0.1111111111111111,
             "#46039f"
            ],
            [
             0.2222222222222222,
             "#7201a8"
            ],
            [
             0.3333333333333333,
             "#9c179e"
            ],
            [
             0.4444444444444444,
             "#bd3786"
            ],
            [
             0.5555555555555556,
             "#d8576b"
            ],
            [
             0.6666666666666666,
             "#ed7953"
            ],
            [
             0.7777777777777778,
             "#fb9f3a"
            ],
            [
             0.8888888888888888,
             "#fdca26"
            ],
            [
             1,
             "#f0f921"
            ]
           ],
           "sequentialminus": [
            [
             0,
             "#0d0887"
            ],
            [
             0.1111111111111111,
             "#46039f"
            ],
            [
             0.2222222222222222,
             "#7201a8"
            ],
            [
             0.3333333333333333,
             "#9c179e"
            ],
            [
             0.4444444444444444,
             "#bd3786"
            ],
            [
             0.5555555555555556,
             "#d8576b"
            ],
            [
             0.6666666666666666,
             "#ed7953"
            ],
            [
             0.7777777777777778,
             "#fb9f3a"
            ],
            [
             0.8888888888888888,
             "#fdca26"
            ],
            [
             1,
             "#f0f921"
            ]
           ]
          },
          "colorway": [
           "#636efa",
           "#EF553B",
           "#00cc96",
           "#ab63fa",
           "#FFA15A",
           "#19d3f3",
           "#FF6692",
           "#B6E880",
           "#FF97FF",
           "#FECB52"
          ],
          "font": {
           "color": "#2a3f5f"
          },
          "geo": {
           "bgcolor": "white",
           "lakecolor": "white",
           "landcolor": "#E5ECF6",
           "showlakes": true,
           "showland": true,
           "subunitcolor": "white"
          },
          "hoverlabel": {
           "align": "left"
          },
          "hovermode": "closest",
          "mapbox": {
           "style": "light"
          },
          "paper_bgcolor": "white",
          "plot_bgcolor": "#E5ECF6",
          "polar": {
           "angularaxis": {
            "gridcolor": "white",
            "linecolor": "white",
            "ticks": ""
           },
           "bgcolor": "#E5ECF6",
           "radialaxis": {
            "gridcolor": "white",
            "linecolor": "white",
            "ticks": ""
           }
          },
          "scene": {
           "xaxis": {
            "backgroundcolor": "#E5ECF6",
            "gridcolor": "white",
            "gridwidth": 2,
            "linecolor": "white",
            "showbackground": true,
            "ticks": "",
            "zerolinecolor": "white"
           },
           "yaxis": {
            "backgroundcolor": "#E5ECF6",
            "gridcolor": "white",
            "gridwidth": 2,
            "linecolor": "white",
            "showbackground": true,
            "ticks": "",
            "zerolinecolor": "white"
           },
           "zaxis": {
            "backgroundcolor": "#E5ECF6",
            "gridcolor": "white",
            "gridwidth": 2,
            "linecolor": "white",
            "showbackground": true,
            "ticks": "",
            "zerolinecolor": "white"
           }
          },
          "shapedefaults": {
           "line": {
            "color": "#2a3f5f"
           }
          },
          "ternary": {
           "aaxis": {
            "gridcolor": "white",
            "linecolor": "white",
            "ticks": ""
           },
           "baxis": {
            "gridcolor": "white",
            "linecolor": "white",
            "ticks": ""
           },
           "bgcolor": "#E5ECF6",
           "caxis": {
            "gridcolor": "white",
            "linecolor": "white",
            "ticks": ""
           }
          },
          "title": {
           "x": 0.05
          },
          "xaxis": {
           "automargin": true,
           "gridcolor": "white",
           "linecolor": "white",
           "ticks": "",
           "title": {
            "standoff": 15
           },
           "zerolinecolor": "white",
           "zerolinewidth": 2
          },
          "yaxis": {
           "automargin": true,
           "gridcolor": "white",
           "linecolor": "white",
           "ticks": "",
           "title": {
            "standoff": 15
           },
           "zerolinecolor": "white",
           "zerolinewidth": 2
          }
         }
        },
        "title": {
         "text": "Influenza Infections over time"
        },
        "xaxis": {
         "anchor": "y",
         "domain": [
          0,
          1
         ],
         "title": {
          "text": "Days"
         }
        },
        "yaxis": {
         "anchor": "x",
         "domain": [
          0,
          1
         ],
         "title": {
          "text": "Number of Influenza Infections"
         }
        }
       }
      },
      "text/html": [
       "<div>                            <div id=\"c9777009-edbd-42fa-b08e-d4e72c201909\" class=\"plotly-graph-div\" style=\"height:525px; width:100%;\"></div>            <script type=\"text/javascript\">                require([\"plotly\"], function(Plotly) {                    window.PLOTLYENV=window.PLOTLYENV || {};                                    if (document.getElementById(\"c9777009-edbd-42fa-b08e-d4e72c201909\")) {                    Plotly.newPlot(                        \"c9777009-edbd-42fa-b08e-d4e72c201909\",                        [{\"hovertemplate\": \"x=%{x}<br>y=%{y}<extra></extra>\", \"legendgroup\": \"\", \"line\": {\"color\": \"#636efa\", \"dash\": \"solid\"}, \"mode\": \"lines\", \"name\": \"\", \"orientation\": \"v\", \"showlegend\": false, \"type\": \"scatter\", \"x\": [0, 1, 2, 3, 4, 5, 6, 7, 8, 9, 10, 11, 12, 13, 14, 15, 16, 17, 18, 19, 20, 21, 22, 23, 24, 25, 26, 27, 28, 29, 30, 31, 32, 33, 34, 35, 36, 37, 38, 39, 40, 41, 42, 43, 44, 45, 46, 47, 48, 49, 50, 51, 52, 53, 54, 55, 56, 57, 58, 59, 60, 61, 62, 63, 64, 65, 66, 67, 68, 69, 70, 71, 72, 73, 74, 75, 76, 77, 78, 79, 80, 81, 82, 83, 84, 85, 86, 87, 88, 89, 90, 91, 92, 93, 94, 95, 96, 97, 98, 99, 100, 101, 102, 103, 104, 105, 106, 107, 108, 109, 110, 111, 112, 113, 114, 115, 116, 117, 118, 119, 120, 121, 122, 123, 124, 125, 126, 127, 128, 129, 130, 131, 132, 133, 134, 135, 136, 137, 138, 139, 140, 141, 142, 143, 144, 145, 146, 147, 148, 149, 150, 151, 152, 153, 154, 155, 156, 157, 158, 159, 160, 161, 162, 163, 164, 165, 166, 167, 168, 169, 170, 171, 172, 173, 174, 175, 176, 177, 178, 179, 180, 181, 182, 183, 184, 185, 186, 187, 188, 189, 190, 191, 192, 193, 194, 195, 196, 197, 198, 199, 200, 201, 202, 203, 204, 205, 206, 207, 208, 209, 210, 211, 212, 213, 214, 215, 216, 217, 218, 219, 220, 221, 222, 223, 224, 225, 226, 227, 228, 229, 230, 231, 232, 233, 234, 235, 236, 237, 238, 239, 240, 241, 242, 243, 244, 245, 246, 247, 248, 249, 250, 251, 252, 253, 254, 255, 256, 257, 258, 259, 260, 261, 262, 263, 264, 265, 266, 267, 268, 269, 270, 271, 272, 273, 274, 275, 276, 277, 278, 279, 280, 281, 282, 283, 284, 285, 286, 287, 288, 289, 290, 291, 292, 293, 294, 295, 296, 297, 298, 299, 300, 301, 302, 303, 304, 305, 306], \"xaxis\": \"x\", \"y\": [15571835.225474568, 35539800.1346362, 54443627.67721722, 69912556.45189078, 81018294.88358186, 87532657.93898012, 91076993.31994207, 91637576.96199411, 89360760.7977246, 86267257.22992301, 82029250.02548851, 76964364.33760288, 71498423.57114896, 65809627.264200665, 60156764.31571755, 54224108.275074005, 49018866.39770058, 44083925.48134181, 39467006.528485, 34927918.697041385, 31073754.12183699, 27572227.490337893, 24392714.143995654, 21522449.43087491, 18954980.67039007, 16526834.205694035, 14394686.409865621, 12630993.881402338, 10975569.339594223, 9605056.588464158, 8325454.05147131, 7269255.646131654, 6337652.390957342, 5474021.337793396, 4764078.073133623, 4108052.655612815, 3571382.1264972333, 3101232.7282501925, 2690081.137926857, 2332095.981728485, 2020654.9989266829, 1735103.2204540502, 1501867.8697263943, 1298863.0570742683, 1122389.7596202807, 969540.9595159835, 836889.7660654937, 722165.9678665315, 622987.181401778, 537074.7924099214, 462896.5340023238, 398870.2738972942, 343623.44738511904, 295965.99305105524, 252697.6051732456, 215790.17160502588, 185883.7270557001, 158726.49978212145, 136721.7900688641, 116741.48339177216, 100552.73094625583, 86559.2920707062, 74472.87003419363, 63518.517036924546, 54632.18456065944, 46982.530924828505, 40398.61720101358, 34720.5646082342, 29582.92795359144, 25419.364283473868, 21832.019881341756, 18742.973107773374, 16090.010605517899, 13811.744441836072, 11855.397449420989, 10172.126262973028, 8724.561321996052, 7480.306186104922, 6358.612121862209, 5453.422131134451, 4676.98894074737, 4011.0158581795463, 3410.4074816494426, 2900.6252960104894, 2489.0372872305434, 2117.519276093382, 1816.874958782314, 1558.327886844911, 1336.5402895738375, 1136.4964172795344, 974.6883434387473, 828.7566797919245, 710.7242952502363, 604.2818551365319, 518.3678953561897, 444.6553833220183, 378.1550800401658, 321.6969089582686, 276.0110356286362, 234.78160116934112, 201.49024580239006, 172.91132243261953, 148.37922137023963, 127.27890067919071, 108.24322768027687, 92.84402989264247, 78.95308991153182, 67.16079173942433, 57.146538227080725, 49.04130045202685, 42.0694308187532, 35.77928336444893, 30.70095279948617, 26.11733577382866, 22.408278704594725, 19.061021670949167, 16.35265754367751, 13.908801496017874, 11.931561855220664, 10.231640297953309, 8.773763356109294, 7.459192879245772, 6.39821990271304, 5.488006387160845, 4.666936451908738, 3.9699097002295045, 3.3779774704234984, 2.8751216161581676, 2.4680134755458467, 2.1184306425101274, 1.8176449498276617, 1.5461849601896882, 1.3269837446821586, 1.129078024049947, 0.968904558308233, 0.8311346049278483, 0.7068422616246723, 0.6062925863932331, 0.5198578726139125, 0.4457397925109284, 0.3821842740408067, 0.32768687536261987, 0.2808639094619092, 0.23867341524233074, 0.2028863937443126, 0.1739481865376509, 0.1491360501605723, 0.12786193615057093, 0.10958518313788734, 0.09389037212022736, 0.08044462768337354, 0.06833588528976438, 0.05855073456762606, 0.04973835901186995, 0.042630956317059, 0.036527194334421774, 0.03128755160191931, 0.02657088325024375, 0.02276027105545098, 0.01932980937946764, 0.016558234719443444, 0.014184376614543592, 0.012147159192732257, 0.010399518651291458, 0.00890369545554845, 0.007558086764181955, 0.006473505387223348, 0.005544712333439585, 0.004708668395947073, 0.004000057863544835, 0.0034285352768791575, 0.0029386737721568555, 0.0025188048578275862, 0.002158927428250054, 0.001850469485546377, 0.0015725223693644093, 0.0013478328586772025, 0.0011548687034975188, 0.0009895436410343403, 0.0008476192662873071, 0.0007258322800716974, 0.0006162460556119601, 0.0005279044904129299, 0.00044836782421141773, 147315.72897486849, 675411.9217281265, 1805173.5967509313, 3682803.013388563, 6381016.39806582, 9831528.185893726, 13857222.67469423, 18432623.791100644, 23265287.684040822, 28156754.13142033, 32875956.510338716, 37343534.65427786, 41164562.81814088, 44755375.008211546, 47740221.904057376, 49826033.036445074, 51380962.57271721, 52694441.78233676, 53374232.96243739, 53475878.8879332, 52742124.80255124, 52057724.50320948, 50995631.07204594, 49609280.60277278, 47901347.9405424, 45947438.01886612, 43524450.46752219, 41356948.55862838, 38829596.27449465, 36593254.061760925, 34090755.3742467, 31895725.83243477, 29744004.42157677, 27625430.972710244, 25585831.36748954, 23446360.518954173, 21449300.355810143, 19589367.6868685, 17861122.74361874, 16389187.933040868, 14882619.196020784, 13603218.331597475, 12405873.888402123, 11289951.95735329, 10246205.701977083, 9282634.89176958, 8389549.964037137, 7571184.763188928, 6767611.444447981, 6094808.755995671, 5481360.560885387, 4923169.252780711, 4380263.294354734, 3924578.287131432, 3483667.532236385, 3116423.8210174935, 2783013.645839498, 2462460.8555524494, 2194746.386457119, 1953160.9334777491, 1736760.4786966299, 1530401.1001435583, 1358710.4384764396, 1204687.3453812585, 1067427.6113662235, 944651.260515825, 835519.3815098173, 738575.7038066192, 652147.3275158682, 575230.7149066334, 507165.5031148604, 446958.40164378943, 393726.18941521156, 346682.9048660194, 302591.54852103884, 264137.5100694587, 232523.64820599311, 204596.06646683137, 179938.0700214206, 158095.89210350876, 137691.9859338748, 119936.16024622844, 104480.05694184724, 91786.93676923923, 80597.5930571804, 70702.98481929005, 61966.43898086567, 53836.45134295874, 47174.217548577224, 41300.26521246466, 36145.85683709425, 31624.366701630235, 27427.92446325515, 23792.2650819263, 20815.716892212396, 18204.92937111343, 15782.603917348728, 13793.279426475801, 11949.740756083116, 10436.686128322734, 9108.12494302331, 7942.890879644539, 6921.988772816756, 6028.423462024615, 5247.022637386106, 4527.904406906417, 3908.5784635786285, 3402.0270894964647, 2959.341555097909, 2572.793980460183, 2235.532510830324, 1942.3330726426152, 1686.712441235069, 1464.0131588210536, 1270.1260623411029, 1101.4293698092206, 947.0705797311048, 821.6151283383741, 712.4487107583428, 617.775418557826, 531.1433021971202, 460.72680700221014, 396.2473629480572], \"yaxis\": \"y\"}],                        {\"legend\": {\"tracegroupgap\": 0}, \"template\": {\"data\": {\"bar\": [{\"error_x\": {\"color\": \"#2a3f5f\"}, \"error_y\": {\"color\": \"#2a3f5f\"}, \"marker\": {\"line\": {\"color\": \"#E5ECF6\", \"width\": 0.5}}, \"type\": \"bar\"}], \"barpolar\": [{\"marker\": {\"line\": {\"color\": \"#E5ECF6\", \"width\": 0.5}}, \"type\": \"barpolar\"}], \"carpet\": [{\"aaxis\": {\"endlinecolor\": \"#2a3f5f\", \"gridcolor\": \"white\", \"linecolor\": \"white\", \"minorgridcolor\": \"white\", \"startlinecolor\": \"#2a3f5f\"}, \"baxis\": {\"endlinecolor\": \"#2a3f5f\", \"gridcolor\": \"white\", \"linecolor\": \"white\", \"minorgridcolor\": \"white\", \"startlinecolor\": \"#2a3f5f\"}, \"type\": \"carpet\"}], \"choropleth\": [{\"colorbar\": {\"outlinewidth\": 0, \"ticks\": \"\"}, \"type\": \"choropleth\"}], \"contour\": [{\"colorbar\": {\"outlinewidth\": 0, \"ticks\": \"\"}, \"colorscale\": [[0.0, \"#0d0887\"], [0.1111111111111111, \"#46039f\"], [0.2222222222222222, \"#7201a8\"], [0.3333333333333333, \"#9c179e\"], [0.4444444444444444, \"#bd3786\"], [0.5555555555555556, \"#d8576b\"], [0.6666666666666666, \"#ed7953\"], [0.7777777777777778, \"#fb9f3a\"], [0.8888888888888888, \"#fdca26\"], [1.0, \"#f0f921\"]], \"type\": \"contour\"}], \"contourcarpet\": [{\"colorbar\": {\"outlinewidth\": 0, \"ticks\": \"\"}, \"type\": \"contourcarpet\"}], \"heatmap\": [{\"colorbar\": {\"outlinewidth\": 0, \"ticks\": \"\"}, \"colorscale\": [[0.0, \"#0d0887\"], [0.1111111111111111, \"#46039f\"], [0.2222222222222222, \"#7201a8\"], [0.3333333333333333, \"#9c179e\"], [0.4444444444444444, \"#bd3786\"], [0.5555555555555556, \"#d8576b\"], [0.6666666666666666, \"#ed7953\"], [0.7777777777777778, \"#fb9f3a\"], [0.8888888888888888, \"#fdca26\"], [1.0, \"#f0f921\"]], \"type\": \"heatmap\"}], \"heatmapgl\": [{\"colorbar\": {\"outlinewidth\": 0, \"ticks\": \"\"}, \"colorscale\": [[0.0, \"#0d0887\"], [0.1111111111111111, \"#46039f\"], [0.2222222222222222, \"#7201a8\"], [0.3333333333333333, \"#9c179e\"], [0.4444444444444444, \"#bd3786\"], [0.5555555555555556, \"#d8576b\"], [0.6666666666666666, \"#ed7953\"], [0.7777777777777778, \"#fb9f3a\"], [0.8888888888888888, \"#fdca26\"], [1.0, \"#f0f921\"]], \"type\": \"heatmapgl\"}], \"histogram\": [{\"marker\": {\"colorbar\": {\"outlinewidth\": 0, \"ticks\": \"\"}}, \"type\": \"histogram\"}], \"histogram2d\": [{\"colorbar\": {\"outlinewidth\": 0, \"ticks\": \"\"}, \"colorscale\": [[0.0, \"#0d0887\"], [0.1111111111111111, \"#46039f\"], [0.2222222222222222, \"#7201a8\"], [0.3333333333333333, \"#9c179e\"], [0.4444444444444444, \"#bd3786\"], [0.5555555555555556, \"#d8576b\"], [0.6666666666666666, \"#ed7953\"], [0.7777777777777778, \"#fb9f3a\"], [0.8888888888888888, \"#fdca26\"], [1.0, \"#f0f921\"]], \"type\": \"histogram2d\"}], \"histogram2dcontour\": [{\"colorbar\": {\"outlinewidth\": 0, \"ticks\": \"\"}, \"colorscale\": [[0.0, \"#0d0887\"], [0.1111111111111111, \"#46039f\"], [0.2222222222222222, \"#7201a8\"], [0.3333333333333333, \"#9c179e\"], [0.4444444444444444, \"#bd3786\"], [0.5555555555555556, \"#d8576b\"], [0.6666666666666666, \"#ed7953\"], [0.7777777777777778, \"#fb9f3a\"], [0.8888888888888888, \"#fdca26\"], [1.0, \"#f0f921\"]], \"type\": \"histogram2dcontour\"}], \"mesh3d\": [{\"colorbar\": {\"outlinewidth\": 0, \"ticks\": \"\"}, \"type\": \"mesh3d\"}], \"parcoords\": [{\"line\": {\"colorbar\": {\"outlinewidth\": 0, \"ticks\": \"\"}}, \"type\": \"parcoords\"}], \"pie\": [{\"automargin\": true, \"type\": \"pie\"}], \"scatter\": [{\"marker\": {\"colorbar\": {\"outlinewidth\": 0, \"ticks\": \"\"}}, \"type\": \"scatter\"}], \"scatter3d\": [{\"line\": {\"colorbar\": {\"outlinewidth\": 0, \"ticks\": \"\"}}, \"marker\": {\"colorbar\": {\"outlinewidth\": 0, \"ticks\": \"\"}}, \"type\": \"scatter3d\"}], \"scattercarpet\": [{\"marker\": {\"colorbar\": {\"outlinewidth\": 0, \"ticks\": \"\"}}, \"type\": \"scattercarpet\"}], \"scattergeo\": [{\"marker\": {\"colorbar\": {\"outlinewidth\": 0, \"ticks\": \"\"}}, \"type\": \"scattergeo\"}], \"scattergl\": [{\"marker\": {\"colorbar\": {\"outlinewidth\": 0, \"ticks\": \"\"}}, \"type\": \"scattergl\"}], \"scattermapbox\": [{\"marker\": {\"colorbar\": {\"outlinewidth\": 0, \"ticks\": \"\"}}, \"type\": \"scattermapbox\"}], \"scatterpolar\": [{\"marker\": {\"colorbar\": {\"outlinewidth\": 0, \"ticks\": \"\"}}, \"type\": \"scatterpolar\"}], \"scatterpolargl\": [{\"marker\": {\"colorbar\": {\"outlinewidth\": 0, \"ticks\": \"\"}}, \"type\": \"scatterpolargl\"}], \"scatterternary\": [{\"marker\": {\"colorbar\": {\"outlinewidth\": 0, \"ticks\": \"\"}}, \"type\": \"scatterternary\"}], \"surface\": [{\"colorbar\": {\"outlinewidth\": 0, \"ticks\": \"\"}, \"colorscale\": [[0.0, \"#0d0887\"], [0.1111111111111111, \"#46039f\"], [0.2222222222222222, \"#7201a8\"], [0.3333333333333333, \"#9c179e\"], [0.4444444444444444, \"#bd3786\"], [0.5555555555555556, \"#d8576b\"], [0.6666666666666666, \"#ed7953\"], [0.7777777777777778, \"#fb9f3a\"], [0.8888888888888888, \"#fdca26\"], [1.0, \"#f0f921\"]], \"type\": \"surface\"}], \"table\": [{\"cells\": {\"fill\": {\"color\": \"#EBF0F8\"}, \"line\": {\"color\": \"white\"}}, \"header\": {\"fill\": {\"color\": \"#C8D4E3\"}, \"line\": {\"color\": \"white\"}}, \"type\": \"table\"}]}, \"layout\": {\"annotationdefaults\": {\"arrowcolor\": \"#2a3f5f\", \"arrowhead\": 0, \"arrowwidth\": 1}, \"coloraxis\": {\"colorbar\": {\"outlinewidth\": 0, \"ticks\": \"\"}}, \"colorscale\": {\"diverging\": [[0, \"#8e0152\"], [0.1, \"#c51b7d\"], [0.2, \"#de77ae\"], [0.3, \"#f1b6da\"], [0.4, \"#fde0ef\"], [0.5, \"#f7f7f7\"], [0.6, \"#e6f5d0\"], [0.7, \"#b8e186\"], [0.8, \"#7fbc41\"], [0.9, \"#4d9221\"], [1, \"#276419\"]], \"sequential\": [[0.0, \"#0d0887\"], [0.1111111111111111, \"#46039f\"], [0.2222222222222222, \"#7201a8\"], [0.3333333333333333, \"#9c179e\"], [0.4444444444444444, \"#bd3786\"], [0.5555555555555556, \"#d8576b\"], [0.6666666666666666, \"#ed7953\"], [0.7777777777777778, \"#fb9f3a\"], [0.8888888888888888, \"#fdca26\"], [1.0, \"#f0f921\"]], \"sequentialminus\": [[0.0, \"#0d0887\"], [0.1111111111111111, \"#46039f\"], [0.2222222222222222, \"#7201a8\"], [0.3333333333333333, \"#9c179e\"], [0.4444444444444444, \"#bd3786\"], [0.5555555555555556, \"#d8576b\"], [0.6666666666666666, \"#ed7953\"], [0.7777777777777778, \"#fb9f3a\"], [0.8888888888888888, \"#fdca26\"], [1.0, \"#f0f921\"]]}, \"colorway\": [\"#636efa\", \"#EF553B\", \"#00cc96\", \"#ab63fa\", \"#FFA15A\", \"#19d3f3\", \"#FF6692\", \"#B6E880\", \"#FF97FF\", \"#FECB52\"], \"font\": {\"color\": \"#2a3f5f\"}, \"geo\": {\"bgcolor\": \"white\", \"lakecolor\": \"white\", \"landcolor\": \"#E5ECF6\", \"showlakes\": true, \"showland\": true, \"subunitcolor\": \"white\"}, \"hoverlabel\": {\"align\": \"left\"}, \"hovermode\": \"closest\", \"mapbox\": {\"style\": \"light\"}, \"paper_bgcolor\": \"white\", \"plot_bgcolor\": \"#E5ECF6\", \"polar\": {\"angularaxis\": {\"gridcolor\": \"white\", \"linecolor\": \"white\", \"ticks\": \"\"}, \"bgcolor\": \"#E5ECF6\", \"radialaxis\": {\"gridcolor\": \"white\", \"linecolor\": \"white\", \"ticks\": \"\"}}, \"scene\": {\"xaxis\": {\"backgroundcolor\": \"#E5ECF6\", \"gridcolor\": \"white\", \"gridwidth\": 2, \"linecolor\": \"white\", \"showbackground\": true, \"ticks\": \"\", \"zerolinecolor\": \"white\"}, \"yaxis\": {\"backgroundcolor\": \"#E5ECF6\", \"gridcolor\": \"white\", \"gridwidth\": 2, \"linecolor\": \"white\", \"showbackground\": true, \"ticks\": \"\", \"zerolinecolor\": \"white\"}, \"zaxis\": {\"backgroundcolor\": \"#E5ECF6\", \"gridcolor\": \"white\", \"gridwidth\": 2, \"linecolor\": \"white\", \"showbackground\": true, \"ticks\": \"\", \"zerolinecolor\": \"white\"}}, \"shapedefaults\": {\"line\": {\"color\": \"#2a3f5f\"}}, \"ternary\": {\"aaxis\": {\"gridcolor\": \"white\", \"linecolor\": \"white\", \"ticks\": \"\"}, \"baxis\": {\"gridcolor\": \"white\", \"linecolor\": \"white\", \"ticks\": \"\"}, \"bgcolor\": \"#E5ECF6\", \"caxis\": {\"gridcolor\": \"white\", \"linecolor\": \"white\", \"ticks\": \"\"}}, \"title\": {\"x\": 0.05}, \"xaxis\": {\"automargin\": true, \"gridcolor\": \"white\", \"linecolor\": \"white\", \"ticks\": \"\", \"title\": {\"standoff\": 15}, \"zerolinecolor\": \"white\", \"zerolinewidth\": 2}, \"yaxis\": {\"automargin\": true, \"gridcolor\": \"white\", \"linecolor\": \"white\", \"ticks\": \"\", \"title\": {\"standoff\": 15}, \"zerolinecolor\": \"white\", \"zerolinewidth\": 2}}}, \"title\": {\"text\": \"Influenza Infections over time\"}, \"xaxis\": {\"anchor\": \"y\", \"domain\": [0.0, 1.0], \"title\": {\"text\": \"Days\"}}, \"yaxis\": {\"anchor\": \"x\", \"domain\": [0.0, 1.0], \"title\": {\"text\": \"Number of Influenza Infections\"}}},                        {\"responsive\": true}                    ).then(function(){\n",
       "                            \n",
       "var gd = document.getElementById('c9777009-edbd-42fa-b08e-d4e72c201909');\n",
       "var x = new MutationObserver(function (mutations, observer) {{\n",
       "        var display = window.getComputedStyle(gd).display;\n",
       "        if (!display || display === 'none') {{\n",
       "            console.log([gd, 'removed!']);\n",
       "            Plotly.purge(gd);\n",
       "            observer.disconnect();\n",
       "        }}\n",
       "}});\n",
       "\n",
       "// Listen for the removal of the full notebook cells\n",
       "var notebookContainer = gd.closest('#notebook-container');\n",
       "if (notebookContainer) {{\n",
       "    x.observe(notebookContainer, {childList: true});\n",
       "}}\n",
       "\n",
       "// Listen for the clearing of the current output cell\n",
       "var outputEl = gd.closest('.output');\n",
       "if (outputEl) {{\n",
       "    x.observe(outputEl, {childList: true});\n",
       "}}\n",
       "\n",
       "                        })                };                });            </script>        </div>"
      ]
     },
     "metadata": {},
     "output_type": "display_data"
    }
   ],
   "source": [
    "fig1 = px.line( x = range(0,len(SARS_infect)), y = SARS_infect, title='SARS Infections over time')\n",
    "fig1.update_xaxes(title_text='Days')\n",
    "fig1.update_yaxes(title_text='Number of SARS Infections')\n",
    "fig1.show()\n",
    "\n",
    "fig2 = px.line( x = range(0,len(covid_infect)), y = covid_infect, title='COVID-19 Infections over time')\n",
    "fig2.update_xaxes(title_text='Days')\n",
    "fig2.update_yaxes(title_text='Number of COVID-19 Infections')\n",
    "fig2.show()\n",
    "\n",
    "fig3 = px.line( x = range(0,len(Flu_infect)), y = Flu_infect, title='Influenza Infections over time')\n",
    "fig3.update_xaxes(title_text='Days')\n",
    "fig3.update_yaxes(title_text='Number of Influenza Infections')\n",
    "fig3.show()"
   ]
  },
  {
   "cell_type": "code",
   "execution_count": null,
   "metadata": {},
   "outputs": [],
   "source": []
  }
 ],
 "metadata": {
  "kernelspec": {
   "display_name": "Python 3",
   "language": "python",
   "name": "python3"
  },
  "language_info": {
   "codemirror_mode": {
    "name": "ipython",
    "version": 3
   },
   "file_extension": ".py",
   "mimetype": "text/x-python",
   "name": "python",
   "nbconvert_exporter": "python",
   "pygments_lexer": "ipython3",
   "version": "3.8.3"
  }
 },
 "nbformat": 4,
 "nbformat_minor": 4
}
