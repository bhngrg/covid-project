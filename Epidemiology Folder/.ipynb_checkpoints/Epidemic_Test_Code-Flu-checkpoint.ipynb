{
 "cells": [
  {
   "cell_type": "code",
   "execution_count": 1,
   "metadata": {},
   "outputs": [],
   "source": [
    "import numpy as np\n",
    "from numpy import exp\n",
    "import matplotlib.pyplot as plt\n",
    "from scipy.integrate import odeint\n",
    "import random\n",
    "from datetime import datetime, timedelta"
   ]
  },
  {
   "cell_type": "code",
   "execution_count": 2,
   "metadata": {},
   "outputs": [],
   "source": [
    "pop_size = 3.3e8\n",
    "# SARS-Cov-2 (COVID-19)\n",
    "y = 1/14\n",
    "sigma = 1/4.5"
   ]
  },
  {
   "cell_type": "code",
   "execution_count": 3,
   "metadata": {},
   "outputs": [
    {
     "data": {
      "text/plain": [
       "0.021964285714285714"
      ]
     },
     "execution_count": 3,
     "metadata": {},
     "output_type": "execute_result"
    }
   ],
   "source": [
    "246000/11200000"
   ]
  },
  {
   "cell_type": "code",
   "execution_count": 4,
   "metadata": {},
   "outputs": [],
   "source": [
    "class EpidemicModel:\n",
    "    def __init__(self,x ,date_start, date_end,R0, natural_death_rate=0.00888, disease_death_rate=0.02, birth_rate=.01199, exposure_rate = 0.01, infectious_rate = 0.01, recovery_rate = 0.01):\n",
    "        # x is state vector which contains (susceptible, exposed, infectious)\n",
    "        self.x = x\n",
    "        self.date_start = date_start\n",
    "        self.date_end = date_end\n",
    "        self.current_date = date_start\n",
    "        self.R0 = R0\n",
    "        #self.decodeVector()\n",
    "        self.susceptible = x[0]\n",
    "        self.exposed = x[1]\n",
    "        self.infections = x[2]\n",
    "        self.natural_death_rate = natural_death_rate\n",
    "        self.disease_death_rate = disease_death_rate\n",
    "        self.birth_rate = birth_rate\n",
    "        self.exposure_rate = exposure_rate\n",
    "        self.infectious_rate = infectious_rate\n",
    "        self.recovery_rate = recovery_rate\n",
    "        self.immune = {}\n",
    "        \n",
    "        \n",
    "     \n",
    "    def main(self):\n",
    "        time_elapsed = int((self.date_end - self.date_start).days)\n",
    "        susceptible_pop = []\n",
    "        exposed_pop = []\n",
    "        infections_pop = []\n",
    "        for t in range(time_elapsed):\n",
    "            self.current_date = date_start + timedelta(days=t)\n",
    "            #print('currentDate', self.current_date)\n",
    "            self.born()\n",
    "            self.natural_death()\n",
    "            self.exposure()\n",
    "            self.infected()\n",
    "            self.die_from_disease()\n",
    "            self.recover()\n",
    "            self.check_still_immune()\n",
    "            #self.decodeVector()\n",
    "            #print('susceptible ', self.susceptible)\n",
    "            #print('exposed', self.exposed)\n",
    "            susceptible_pop.append(self.susceptible)\n",
    "            exposed_pop.append(self.exposed)\n",
    "            infections_pop.append(self.infections)\n",
    "        return susceptible_pop, exposed_pop, infections_pop\n",
    "    \n",
    "    def check_still_immune(self):\n",
    "        for recovered_date in list(self.immune):\n",
    "            days_elapsed = (self.current_date - recovered_date).days\n",
    "            if days_elapsed > 182:\n",
    "                self.susceptible += self.immune[recovered_date]\n",
    "                del self.immune[recovered_date]\n",
    "               \n",
    "    \n",
    "            \n",
    "    #def decodeVector(self):\n",
    "        #if(self.x):\n",
    "            #self.susceptible, self.exposed, self.infectious = self.x\n",
    "    \n",
    "    def exposure(self):\n",
    "        n_exposed = self.susceptible * self.exposure_rate\n",
    "        self.susceptible -= n_exposed\n",
    "        self.exposed += n_exposed\n",
    "    \n",
    "    def infected(self):\n",
    "        n_infected = self.exposed * self.infectious_rate\n",
    "        self.exposed -= n_infected\n",
    "        self.infections += n_infected\n",
    "    \n",
    "    def natural_death(self):\n",
    "        random_d = random.randint(0,2)\n",
    "        vector = self.x\n",
    "        vector[random_d] *= (1- self.natural_death_rate)\n",
    "        self.x = vector\n",
    "        \n",
    "    def born(self):\n",
    "        self.susceptible *= (1 + self.birth_rate)\n",
    "        \n",
    "    def die_from_disease(self):\n",
    "        self.infections *= (1 - self.disease_death_rate)\n",
    "        \n",
    "    # def flys_in(self):\n",
    "        # self.infections *= (1 + flys_in_rate)\n",
    "        \n",
    "    def recover(self):\n",
    "        n_recovered = self.infections * self.recovery_rate\n",
    "        self.infections -= n_recovered \n",
    "        self.immune[self.current_date] = n_recovered\n"
   ]
  },
  {
   "cell_type": "code",
   "execution_count": 5,
   "metadata": {},
   "outputs": [
    {
     "name": "stdout",
     "output_type": "stream",
     "text": [
      "1666.382196652392\n"
     ]
    },
    {
     "data": {
      "image/png": "[encoded data removed]",
      "text/plain": [
       "<Figure size 432x288 with 1 Axes>"
      ]
     },
     "metadata": {
      "needs_background": "light"
     },
     "output_type": "display_data"
    }
   ],
   "source": [
    "x = [329201263,1,1]\n",
    "date_start= datetime(2020,1,21)\n",
    "date_end = datetime.now()\n",
    "disease_death_rate = 34200/35500000\n",
    "exposure_rate = 1/2.5\n",
    "infectious_rate = 1/7\n",
    "recovery_rate =  1/6\n",
    "model = EpidemicModel(x, date_start,date_end,R0 = 1.5, exposure_rate=exposure_rate, disease_death_rate = disease_death_rate, infectious_rate= infectious_rate, recovery_rate = recovery_rate)\n",
    "\n",
    "susceptible_pop, exposed_pop, infections_pop  = model.main()\n",
    "plt.plot(infections_pop)\n",
    "#self.total_pop = \n",
    "print(infections_pop[-1])\n"
   ]
  },
  {
   "cell_type": "raw",
   "metadata": {},
   "source": [
    "susceptible = x\n",
    "infectious = suceptible.exposed()\n",
    "removed = infectious.recover()\n",
    "dying = removed.dies()\n",
    "\n",
    "\n",
    "def susceptible(population):\n",
    "    \n",
    "\n",
    "def dies(removed):\n",
    "    "
   ]
  },
  {
   "cell_type": "code",
   "execution_count": 6,
   "metadata": {},
   "outputs": [],
   "source": [
    "def F(x, t, R0=3):\n",
    "    \"\"\"\n",
    "    Time derivative of the state vector.\n",
    "\n",
    "        * x is the state vector (array_like)\n",
    "        * t is time (scalar)\n",
    "        * R0 is the effective transmission rate, defaulting to a constant\n",
    "\n",
    "    \"\"\"\n",
    "    susceptible, exposed, infectious = x\n",
    "    print(x)\n",
    "\n",
    "    # New exposure of susceptibles\n",
    "    b = R0(t) * y if callable(R0) else R0 * y\n",
    "    ne = b * susceptible * infectious\n",
    "\n",
    "    # Time derivatives\n",
    "    ds = - ne\n",
    "    de = ne - sigma * e\n",
    "    di = sigma * e - y * i\n",
    "\n",
    "    return ds, de, di"
   ]
  },
  {
   "cell_type": "code",
   "execution_count": 7,
   "metadata": {},
   "outputs": [],
   "source": [
    "# initial conditions of s, e, i\n",
    "i_0 = 1e-7\n",
    "e_0 = 4 * i_0\n",
    "s_0 = 1 - i_0 - e_0"
   ]
  },
  {
   "cell_type": "code",
   "execution_count": 8,
   "metadata": {},
   "outputs": [],
   "source": [
    "x_0 = s_0, e_0, i_0"
   ]
  },
  {
   "cell_type": "code",
   "execution_count": 9,
   "metadata": {},
   "outputs": [],
   "source": [
    "def solve_path(R0, t_vec, x_init=x_0):\n",
    "    \"\"\"\n",
    "    Solve for i(t) and c(t) via numerical integration,\n",
    "    given the time path for R0.\n",
    "\n",
    "    \"\"\"\n",
    "    G = lambda x, t: F(x, t, R0)\n",
    "    s_path, e_path, i_path = odeint(G, x_init, t_vec).transpose()\n",
    "\n",
    "    c_path = 1 - s_path - e_path       # cumulative cases\n",
    "    return i_path, c_path"
   ]
  },
  {
   "cell_type": "code",
   "execution_count": 10,
   "metadata": {},
   "outputs": [],
   "source": [
    "t_length = 550\n",
    "grid_size = 1000\n",
    "t_vec = np.linspace(0, t_length, grid_size)"
   ]
  },
  {
   "cell_type": "code",
   "execution_count": 11,
   "metadata": {},
   "outputs": [
    {
     "name": "stdout",
     "output_type": "stream",
     "text": [
      "[9.999995e-01 4.000000e-07 1.000000e-07]\n"
     ]
    },
    {
     "ename": "NameError",
     "evalue": "name 'e' is not defined",
     "output_type": "error",
     "traceback": [
      "\u001b[1;31m---------------------------------------------------------------------------\u001b[0m",
      "\u001b[1;31mNameError\u001b[0m                                 Traceback (most recent call last)",
      "\u001b[1;32m<ipython-input-11-372f3c2c2547>\u001b[0m in \u001b[0;36m<module>\u001b[1;34m\u001b[0m\n\u001b[0;32m      4\u001b[0m \u001b[1;33m\u001b[0m\u001b[0m\n\u001b[0;32m      5\u001b[0m \u001b[1;32mfor\u001b[0m \u001b[0mr\u001b[0m \u001b[1;32min\u001b[0m \u001b[0mR0_vals\u001b[0m\u001b[1;33m:\u001b[0m\u001b[1;33m\u001b[0m\u001b[1;33m\u001b[0m\u001b[0m\n\u001b[1;32m----> 6\u001b[1;33m     \u001b[0mi_path\u001b[0m\u001b[1;33m,\u001b[0m \u001b[0mc_path\u001b[0m \u001b[1;33m=\u001b[0m \u001b[0msolve_path\u001b[0m\u001b[1;33m(\u001b[0m\u001b[0mr\u001b[0m\u001b[1;33m,\u001b[0m \u001b[0mt_vec\u001b[0m\u001b[1;33m)\u001b[0m\u001b[1;33m\u001b[0m\u001b[1;33m\u001b[0m\u001b[0m\n\u001b[0m\u001b[0;32m      7\u001b[0m     \u001b[0mi_paths\u001b[0m\u001b[1;33m.\u001b[0m\u001b[0mappend\u001b[0m\u001b[1;33m(\u001b[0m\u001b[0mi_path\u001b[0m\u001b[1;33m)\u001b[0m\u001b[1;33m\u001b[0m\u001b[1;33m\u001b[0m\u001b[0m\n\u001b[0;32m      8\u001b[0m     \u001b[0mc_paths\u001b[0m\u001b[1;33m.\u001b[0m\u001b[0mappend\u001b[0m\u001b[1;33m(\u001b[0m\u001b[0mc_path\u001b[0m\u001b[1;33m)\u001b[0m\u001b[1;33m\u001b[0m\u001b[1;33m\u001b[0m\u001b[0m\n",
      "\u001b[1;32m<ipython-input-9-11da62cfeae6>\u001b[0m in \u001b[0;36msolve_path\u001b[1;34m(R0, t_vec, x_init)\u001b[0m\n\u001b[0;32m      6\u001b[0m     \"\"\"\n\u001b[0;32m      7\u001b[0m     \u001b[0mG\u001b[0m \u001b[1;33m=\u001b[0m \u001b[1;32mlambda\u001b[0m \u001b[0mx\u001b[0m\u001b[1;33m,\u001b[0m \u001b[0mt\u001b[0m\u001b[1;33m:\u001b[0m \u001b[0mF\u001b[0m\u001b[1;33m(\u001b[0m\u001b[0mx\u001b[0m\u001b[1;33m,\u001b[0m \u001b[0mt\u001b[0m\u001b[1;33m,\u001b[0m \u001b[0mR0\u001b[0m\u001b[1;33m)\u001b[0m\u001b[1;33m\u001b[0m\u001b[1;33m\u001b[0m\u001b[0m\n\u001b[1;32m----> 8\u001b[1;33m     \u001b[0ms_path\u001b[0m\u001b[1;33m,\u001b[0m \u001b[0me_path\u001b[0m\u001b[1;33m,\u001b[0m \u001b[0mi_path\u001b[0m \u001b[1;33m=\u001b[0m \u001b[0modeint\u001b[0m\u001b[1;33m(\u001b[0m\u001b[0mG\u001b[0m\u001b[1;33m,\u001b[0m \u001b[0mx_init\u001b[0m\u001b[1;33m,\u001b[0m \u001b[0mt_vec\u001b[0m\u001b[1;33m)\u001b[0m\u001b[1;33m.\u001b[0m\u001b[0mtranspose\u001b[0m\u001b[1;33m(\u001b[0m\u001b[1;33m)\u001b[0m\u001b[1;33m\u001b[0m\u001b[1;33m\u001b[0m\u001b[0m\n\u001b[0m\u001b[0;32m      9\u001b[0m \u001b[1;33m\u001b[0m\u001b[0m\n\u001b[0;32m     10\u001b[0m     \u001b[0mc_path\u001b[0m \u001b[1;33m=\u001b[0m \u001b[1;36m1\u001b[0m \u001b[1;33m-\u001b[0m \u001b[0ms_path\u001b[0m \u001b[1;33m-\u001b[0m \u001b[0me_path\u001b[0m       \u001b[1;31m# cumulative cases\u001b[0m\u001b[1;33m\u001b[0m\u001b[1;33m\u001b[0m\u001b[0m\n",
      "\u001b[1;32m~\\anaconda3\\lib\\site-packages\\scipy\\integrate\\odepack.py\u001b[0m in \u001b[0;36modeint\u001b[1;34m(func, y0, t, args, Dfun, col_deriv, full_output, ml, mu, rtol, atol, tcrit, h0, hmax, hmin, ixpr, mxstep, mxhnil, mxordn, mxords, printmessg, tfirst)\u001b[0m\n\u001b[0;32m    243\u001b[0m                              \u001b[0mfull_output\u001b[0m\u001b[1;33m,\u001b[0m \u001b[0mrtol\u001b[0m\u001b[1;33m,\u001b[0m \u001b[0matol\u001b[0m\u001b[1;33m,\u001b[0m \u001b[0mtcrit\u001b[0m\u001b[1;33m,\u001b[0m \u001b[0mh0\u001b[0m\u001b[1;33m,\u001b[0m \u001b[0mhmax\u001b[0m\u001b[1;33m,\u001b[0m \u001b[0mhmin\u001b[0m\u001b[1;33m,\u001b[0m\u001b[1;33m\u001b[0m\u001b[1;33m\u001b[0m\u001b[0m\n\u001b[0;32m    244\u001b[0m                              \u001b[0mixpr\u001b[0m\u001b[1;33m,\u001b[0m \u001b[0mmxstep\u001b[0m\u001b[1;33m,\u001b[0m \u001b[0mmxhnil\u001b[0m\u001b[1;33m,\u001b[0m \u001b[0mmxordn\u001b[0m\u001b[1;33m,\u001b[0m \u001b[0mmxords\u001b[0m\u001b[1;33m,\u001b[0m\u001b[1;33m\u001b[0m\u001b[1;33m\u001b[0m\u001b[0m\n\u001b[1;32m--> 245\u001b[1;33m                              int(bool(tfirst)))\n\u001b[0m\u001b[0;32m    246\u001b[0m     \u001b[1;32mif\u001b[0m \u001b[0moutput\u001b[0m\u001b[1;33m[\u001b[0m\u001b[1;33m-\u001b[0m\u001b[1;36m1\u001b[0m\u001b[1;33m]\u001b[0m \u001b[1;33m<\u001b[0m \u001b[1;36m0\u001b[0m\u001b[1;33m:\u001b[0m\u001b[1;33m\u001b[0m\u001b[1;33m\u001b[0m\u001b[0m\n\u001b[0;32m    247\u001b[0m         \u001b[0mwarning_msg\u001b[0m \u001b[1;33m=\u001b[0m \u001b[0m_msgs\u001b[0m\u001b[1;33m[\u001b[0m\u001b[0moutput\u001b[0m\u001b[1;33m[\u001b[0m\u001b[1;33m-\u001b[0m\u001b[1;36m1\u001b[0m\u001b[1;33m]\u001b[0m\u001b[1;33m]\u001b[0m \u001b[1;33m+\u001b[0m \u001b[1;34m\" Run with full_output = 1 to get quantitative information.\"\u001b[0m\u001b[1;33m\u001b[0m\u001b[1;33m\u001b[0m\u001b[0m\n",
      "\u001b[1;32m<ipython-input-9-11da62cfeae6>\u001b[0m in \u001b[0;36m<lambda>\u001b[1;34m(x, t)\u001b[0m\n\u001b[0;32m      5\u001b[0m \u001b[1;33m\u001b[0m\u001b[0m\n\u001b[0;32m      6\u001b[0m     \"\"\"\n\u001b[1;32m----> 7\u001b[1;33m     \u001b[0mG\u001b[0m \u001b[1;33m=\u001b[0m \u001b[1;32mlambda\u001b[0m \u001b[0mx\u001b[0m\u001b[1;33m,\u001b[0m \u001b[0mt\u001b[0m\u001b[1;33m:\u001b[0m \u001b[0mF\u001b[0m\u001b[1;33m(\u001b[0m\u001b[0mx\u001b[0m\u001b[1;33m,\u001b[0m \u001b[0mt\u001b[0m\u001b[1;33m,\u001b[0m \u001b[0mR0\u001b[0m\u001b[1;33m)\u001b[0m\u001b[1;33m\u001b[0m\u001b[1;33m\u001b[0m\u001b[0m\n\u001b[0m\u001b[0;32m      8\u001b[0m     \u001b[0ms_path\u001b[0m\u001b[1;33m,\u001b[0m \u001b[0me_path\u001b[0m\u001b[1;33m,\u001b[0m \u001b[0mi_path\u001b[0m \u001b[1;33m=\u001b[0m \u001b[0modeint\u001b[0m\u001b[1;33m(\u001b[0m\u001b[0mG\u001b[0m\u001b[1;33m,\u001b[0m \u001b[0mx_init\u001b[0m\u001b[1;33m,\u001b[0m \u001b[0mt_vec\u001b[0m\u001b[1;33m)\u001b[0m\u001b[1;33m.\u001b[0m\u001b[0mtranspose\u001b[0m\u001b[1;33m(\u001b[0m\u001b[1;33m)\u001b[0m\u001b[1;33m\u001b[0m\u001b[1;33m\u001b[0m\u001b[0m\n\u001b[0;32m      9\u001b[0m \u001b[1;33m\u001b[0m\u001b[0m\n",
      "\u001b[1;32m<ipython-input-6-3fc5caa1cbc1>\u001b[0m in \u001b[0;36mF\u001b[1;34m(x, t, R0)\u001b[0m\n\u001b[0;32m     17\u001b[0m     \u001b[1;31m# Time derivatives\u001b[0m\u001b[1;33m\u001b[0m\u001b[1;33m\u001b[0m\u001b[1;33m\u001b[0m\u001b[0m\n\u001b[0;32m     18\u001b[0m     \u001b[0mds\u001b[0m \u001b[1;33m=\u001b[0m \u001b[1;33m-\u001b[0m \u001b[0mne\u001b[0m\u001b[1;33m\u001b[0m\u001b[1;33m\u001b[0m\u001b[0m\n\u001b[1;32m---> 19\u001b[1;33m     \u001b[0mde\u001b[0m \u001b[1;33m=\u001b[0m \u001b[0mne\u001b[0m \u001b[1;33m-\u001b[0m \u001b[0msigma\u001b[0m \u001b[1;33m*\u001b[0m \u001b[0me\u001b[0m\u001b[1;33m\u001b[0m\u001b[1;33m\u001b[0m\u001b[0m\n\u001b[0m\u001b[0;32m     20\u001b[0m     \u001b[0mdi\u001b[0m \u001b[1;33m=\u001b[0m \u001b[0msigma\u001b[0m \u001b[1;33m*\u001b[0m \u001b[0me\u001b[0m \u001b[1;33m-\u001b[0m \u001b[0my\u001b[0m \u001b[1;33m*\u001b[0m \u001b[0mi\u001b[0m\u001b[1;33m\u001b[0m\u001b[1;33m\u001b[0m\u001b[0m\n\u001b[0;32m     21\u001b[0m \u001b[1;33m\u001b[0m\u001b[0m\n",
      "\u001b[1;31mNameError\u001b[0m: name 'e' is not defined"
     ]
    }
   ],
   "source": [
    "R0_vals = np.linspace(1.6, 3.0, 6)\n",
    "labels = [f'$R0 = {r:.2f}$' for r in R0_vals]\n",
    "i_paths, c_paths = [], []\n",
    "\n",
    "for r in R0_vals:\n",
    "    i_path, c_path = solve_path(r, t_vec)\n",
    "    i_paths.append(i_path)\n",
    "    c_paths.append(c_path)"
   ]
  },
  {
   "cell_type": "code",
   "execution_count": 12,
   "metadata": {},
   "outputs": [],
   "source": [
    "def plot_paths(paths, labels, times=t_vec):\n",
    "\n",
    "    fig, ax = plt.subplots()\n",
    "\n",
    "    for path, label in zip(paths, labels):\n",
    "        ax.plot(times, path, label=label)\n",
    "\n",
    "    ax.legend(loc='upper left')\n",
    "\n",
    "    plt.show()"
   ]
  },
  {
   "cell_type": "code",
   "execution_count": 13,
   "metadata": {},
   "outputs": [
    {
     "name": "stderr",
     "output_type": "stream",
     "text": [
      "No handles with labels found to put in legend.\n"
     ]
    },
    {
     "data": {
      "image/png": "[encoded data removed]",
      "text/plain": [
       "<Figure size 432x288 with 1 Axes>"
      ]
     },
     "metadata": {
      "needs_background": "light"
     },
     "output_type": "display_data"
    }
   ],
   "source": [
    "plot_paths(i_paths, labels)"
   ]
  },
  {
   "cell_type": "code",
   "execution_count": 14,
   "metadata": {},
   "outputs": [
    {
     "name": "stderr",
     "output_type": "stream",
     "text": [
      "No handles with labels found to put in legend.\n"
     ]
    },
    {
     "data": {
      "image/png": "[encoded data removed]",
      "text/plain": [
       "<Figure size 432x288 with 1 Axes>"
      ]
     },
     "metadata": {
      "needs_background": "light"
     },
     "output_type": "display_data"
    }
   ],
   "source": [
    "plot_paths(c_paths, labels)"
   ]
  },
  {
   "cell_type": "code",
   "execution_count": null,
   "metadata": {},
   "outputs": [],
   "source": []
  }
 ],
 "metadata": {
  "kernelspec": {
   "display_name": "Python 3",
   "language": "python",
   "name": "python3"
  },
  "language_info": {
   "codemirror_mode": {
    "name": "ipython",
    "version": 3
   },
   "file_extension": ".py",
   "mimetype": "text/x-python",
   "name": "python",
   "nbconvert_exporter": "python",
   "pygments_lexer": "ipython3",
   "version": "3.7.6"
  }
 },
 "nbformat": 4,
 "nbformat_minor": 4
}
