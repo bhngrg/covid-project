{
 "cells": [
  {
   "cell_type": "markdown",
   "metadata": {},
   "source": [
    "When the first COVID-19 case was discovered in the United States of America (USA) in early march, many believed that the disease would never spread in this country. However, the number of cases have spiked exponentially to 6.5 million and continue to grow each and every day. Despite the existence of many other Machine Learning models out there, Facebook Prophet seems to be one of the most effective models in predicting/forecasting future COVID-19 cases.  Most importantly, it automates many of the parameters that require tunning in a time series model. By the end of the article, you will be able to understand what the Facebook Prophet does, and use it to build your own Machine Learning models."
   ]
  },
  {
   "cell_type": "markdown",
   "metadata": {},
   "source": [
    "# Introduction to Time Series Forecasting with Seasonality\n",
    "\n",
    "In normal data analysis, the order of observations that are collected is usually irrelevant. However, most of the data collected in the real world has a certain order built into it. This structure can be exploited for better prediction ability by employing a Time Series Model. The first step in analyzing a time series model is identify and understand the built-in structure of the data over time. These underlying patterns can be classified into four distinct categories:\n",
    "* Trend - Long term pattern in the data (easiest to identify).\n",
    "* Seasonality - Short term patterns that occur within the overall time structure, and repeat indefinitely. \n",
    "* Cyclical Component - Long term oscillations (big waves) within the overall time structure.\n",
    "* Noise(Error) - Random changes occuring in the overall time structure (unlikely to be repeated).\n",
    "\n",
    "![image](./Time_Series_Example_Image.jpg)\n",
    "$$\\text{Figure 1: Time Series Components}$$\n",
    "\n",
    "The second step is to check the underlying assumptions:\n",
    "* Stationarity - This means that the series are normally distributed and the mean and variance are constant over a long time period.\n",
    "* Uncorrelated Random Error - We assume that the error term is randomly distributed and the mean and variance are constant over a time period.\n",
    "* No outliers - This one is self-explanatory.\n",
    "* Random shocks - If shocks are present, they are assumed to be randomly distributed with a mean of 0 and a constant variance.\n",
    "\n",
    "Once these assumptions are met (or not too badly violated), we can start building our Time Series Model. The model description is as follows:\n",
    "\n",
    "* Notation for Time Series Data\n",
    "    - $Y_T$ = value of $Y$ in period $t$\n",
    "    - Data set: $Y_1,...,Y_T = T$ observations on the time series random variable $Y$\n",
    "    - We consider only consecutive, evenly-spaced observations. Missing data can cause technical problems, but that can be dealt with in a systematic manner. \n",
    "    - The first lag in a time series $Y_T$ is $Y_{t-1}$; its $j^{th}$ lag is $Y_{t-j}$.\n",
    "    - The first difference of a series, $\\Delta Y_t$, is its change between periods $t-1$ and t, that is, $\\Delta Y_t = Y_t - Y_{t-1}$\n",
    "\n",
    "\n",
    "* If we assume that $Y_t$ is stationary, a natural starting point for a forecasting model is to use past values of $Y$ (that is, $Y_{t-1},Y_{t-2},...$) to forecast $Y_t$.\n",
    "    - An *autoregression* is a regression model in which $Y_t$ is regressed against its own lagged values. \n",
    "    - The number of lags used as regressors is called the ***order*** of the autoregression.\n",
    "        * In a ***first order autoregression***, $Y_t$ is regressed against $Y_{t-1}$\n",
    "        * In a $p^{th}$ ***order autoregression***, $Y_t$ is regressed against $Y_{t-1}, Y_{t-2}, ... , Y_{t-p}$.\n",
    "\n",
    "\n",
    "* Let's look at a First Order Autoregressive Model (**AR(1)**) Model:\n",
    "    - $Y_t = \\beta_0 + \\beta_1Y_{t-1} + \\mu_t$\n",
    "    - The **AR(1)** model can be estimated by Ordinary Linear Squares regression of $Y_t$ against $Y_{t-1}$.\n",
    "    - Testing $\\beta_1 = 0$ vs. $\\beta_1 \\neq 0$ provides a test of the hypothesis that $Y_{t-1}$ is not useful in forecasting $Y_{t}$.\n",
    "    - A $p^{th}$ ***order autoregression*** follows a similar process.\n",
    "    \n",
    "* Let's look at some Forecasting Terminology and Notation:\n",
    "    - *Predicted values* are \"in-sample\".\n",
    "    - *Forecasts* are \"out-of-sample\" - in the future.\n",
    "    - *Notation*\n",
    "        * $Y_{T+1|T} =$ forecast of $Y_{T+1}$ based on $Y_T,Y_{T-1},...,$ using the population (true unknown) coefficients\n",
    "        * $\\hat{Y}_{T+1|T}$ = forecast of $Y_{T+1}$ based on $Y_T,Y_{T-1},...,$ using the estimated coefficients, which are estimated using data through period $T$.\n",
    "        * For an **AR(1)**\n",
    "            - $Y_{T+1|T} = \\beta_0 + \\beta_1Y_T$\n",
    "            - $\\hat{Y}_{T+1|T} = \\hat{\\beta}_0 + \\hat{\\beta}_1Y_T$, where $\\hat{\\beta}_0$ and $\\hat{\\beta}_1$ are estimated using data through period $T$.\n",
    "            - A similar procedure is employed for a $p^{th}$ ***order autoregression***.\n",
    "    - Forecast errors vs. residuals\n",
    "        * Forecast error is \"out of sample\" because the value of $Y_{T+1}$ isn't used in the estimation of the regression coefficients.\n",
    "            - forecast error $= Y_{T+1} - \\hat{Y}_{T+1|T}$\n",
    "        * A residual is \"in sample\" error.\n",
    "            - Exact same formula as the forecast error but the values are used in the estimation of the regression coefficients.\n",
    "            "
   ]
  },
  {
   "cell_type": "markdown",
   "metadata": {},
   "source": [
    "# Introduction to Facebook Prophet Model\n",
    "\n",
    "The Facebook Prophet model is an accurate, fast modular regression model that often performs really well with just the default parameters. The python library, fbprophet, comes with mulitiple functionalities. Analysts, often, have to select the components that are relevant to their particular problem. We are going to modify a few of the existing components to fit our needs for this COVID-19 study.\n",
    "\n",
    "![image](./Facebook_Prophet_Components.png)\n",
    "$$\\text{Figure 2: fbprophet functions in Python}$$\n",
    "\n",
    "We shall give a brief introduction to each and every component in this graphic, before we apply the model to our analysis. \n",
    "\n",
    "## The Prophet Forecasting Model\n",
    "The main model equation (broken into individual components) is:\n",
    "* $y(t) = g(t) + s(t) + h(t) + \\varepsilon(t)$\n",
    "    - $g(t)$: piecewise linear or logistic growth curve\n",
    "    - $s(t)$: periodic changes (e.g. weekly/yearly seasonality)\n",
    "    - $h(t)$: effects of holidays (user provided) with irregular schedules\n",
    "    - $\\varepsilon(t)$: error term accounts for any unusual changes not accommodated by the model\n",
    "\n",
    "Using time as a regressor, Prophet is trying to fit several linear and non-linear functions of time as components. Modeling seasonality as an additive component is the same approach taken by exponential smoothing in [Holt-Winters Technique](https://otexts.org/fpp2/holt-winters.html). Prophet is framing the forecasting problem as a curve-fitting exercise rather than looking explicitly at the time based dependence of each observation within a time series.\n",
    "\n",
    "## Python's fbprophet Library's Functionality\n",
    "Referring back to Figure 2, we can see that the Facebook Prophet model can utilize Markov Chain Monte Carlo (MCMC) to do the uncertainty interval estimation (error terms). This method is used for a Bayesian Statistical approach, but we are not going to apply that to our study. The default uncertainty interval is $80\\%$. However, we chose to change that to $95\\%$, because that is a commonly used significance level. We used a linear trend (default) for the United States Data because logistic trends are usually reserved for [binary data](https://www.statisticshowto.com/binary-variable-2/).\n",
    "\n",
    "Additionally, one advantage of Facebook Prophet is that it automatically discovers changes in trends, and tries to account for it in your analysis. We are not going to make any changes to the default functionality in this part. Facebook Prophet also has built in holidays, and you can input your own holidays, but we chose not to use that for our study. We also didn't use the parameter in estimation to control the impact of the holidays."
   ]
  },
  {
   "cell_type": "markdown",
   "metadata": {},
   "source": [
    "## Setting up our Facebook Prophet Analysis (USA COVID-19 Data)"
   ]
  },
  {
   "cell_type": "markdown",
   "metadata": {},
   "source": [
    "### Checking Directory\n",
    "```python\n",
    "!ls\n",
    "!pwd\n",
    "```"
   ]
  },
  {
   "cell_type": "markdown",
   "metadata": {},
   "source": [
    "### Importing all the required packages\n",
    "```python\n",
    "import numpy as np\n",
    "import pandas as pd\n",
    "from fbprophet import Prophet\n",
    "from fbprophet.plot import plot_plotly, plot_components_plotly\n",
    "from fbprophet.diagnostics import cross_validation\n",
    "from fbprophet.diagnostics import performance_metrics\n",
    "from fbprophet.plot import plot_cross_validation_metric\n",
    "```"
   ]
  },
  {
   "cell_type": "markdown",
   "metadata": {},
   "source": [
    "### Processing the Raw Data\n",
    "```python\n",
    "stay_at_home_df = pd.read_csv(\"https://covid.ourworldindata.org/data/owid-covid-data.csv\")\n",
    "stay_at_home_df.head()\n",
    "stay_at_home_df.columns\n",
    "cleaned_stay_at_home_df = stay_at_home_df[['location','date','total_cases','total_tests','stringency_index','positive_rate','total_deaths']]\n",
    "cleaned_stay_at_home_df\n",
    "cleaned_stay_at_home_df['cases_per_tests_ratio'] = cleaned_stay_at_home_df['total_cases']/cleaned_stay_at_home_df['total_tests']\n",
    "cleaned_stay_at_home_df\n",
    "cleaned_stay_at_home_df.dtypes\n",
    "groupby_location_df = cleaned_stay_at_home_df.groupby('location',as_index=False)\n",
    "separated_location_df = dict(iter(groupby_location_df))\n",
    "us_covid_df = separated_location_df['United States']\n",
    "```"
   ]
  },
  {
   "cell_type": "markdown",
   "metadata": {},
   "source": [
    "### Setting up for our Facebook Prophet Time Series Analysis\n",
    "```python\n",
    "def plot_metrics(forecast_cv,location, imgname):\n",
    "    mse_plot = plot_cross_validation_metric(forecast_cv, metric = 'mse')\n",
    "    mse_plot.suptitle(f'{location}_mse_{imgname}',y=0.95)\n",
    "    mse_plot.savefig(f'./Seasonality_Comparison/{location}_mse_{imgname}')\n",
    "                      \n",
    "    rmse_plot =plot_cross_validation_metric(forecast_cv, metric = 'rmse')\n",
    "    rmse_plot.suptitle(f'{location}_rmse_{imgname}',y=0.95)\n",
    "    rmse_plot.savefig(f'./Seasonality_Comparison/{location}_rmse_{imgname}')\n",
    "                      \n",
    "    mae_plot = plot_cross_validation_metric(forecast_cv, metric = 'mae')\n",
    "    mae_plot.suptitle(f'{location}_mae_{imgname}',y=0.95)\n",
    "    mae_plot.savefig(f'./Seasonality_Comparison/{location}_mae_{imgname}')\n",
    "                      \n",
    "    mape_plot = plot_cross_validation_metric(forecast_cv, metric = 'mape')\n",
    "    mae_plot.suptitle(f'{location}_mape_{imgname}',y=0.95)\n",
    "    mae_plot.savefig(f'./Seasonality_Comparison/{location}_mape_{imgname}')\n",
    "                      \n",
    "                      \n",
    "def plot_forecast(forecast,m,location,img_name):\n",
    "    forecastplot = m.plot(forecast)\n",
    "    forecastplot.suptitle(f'{location}_forecast_{img_name}',y=0.95)\n",
    "    forecastplot.savefig(f'./Seasonality_Comparison/{location}_forecast_{img_name}')\n",
    "    \n",
    "    plot_components = m.plot_components(forecast)\n",
    "    plot_components.suptitle(f'{location}_components_{img_name}',y=0.95)\n",
    "    plot_components.savefig(f'./Seasonality_Comparison/{location}_components_{img_name}')\n",
    "                             \n",
    "                             \n",
    "\n",
    "def prophet_predicts(location_df,location, yearly_seasonality, weekly_seasonality):\n",
    "    print(location_df.columns)\n",
    "    num_rows = str(location_df.shape[0] - 31) + ' days'\n",
    "    prophet_df = location_df[['date','total_cases']]\n",
    "    prophet_df = prophet_df.rename(columns={'date':'ds','total_cases': 'y'})\n",
    "    m = Prophet(interval_width = 0.95, yearly_seasonality = yearly_seasonality, weekly_seasonality = weekly_seasonality)\n",
    "    m.fit(prophet_df)\n",
    "    future = m.make_future_dataframe(periods=30)\n",
    "    forecast = m.predict(future)\n",
    "    forecast_cv = cross_validation(m, initial = num_rows, period = '30 days', horizon = '30 days' ) # of rows - 31 days\n",
    "    \n",
    "    img_name = 'daily.png'\n",
    "    if(yearly_seasonality):\n",
    "        img_name = 'yearly_' + img_name\n",
    "        \n",
    "    if(weekly_seasonality):\n",
    "        img_name = 'weekly_' + img_name\n",
    "    \n",
    "    plot_forecast(forecast,m, location, img_name)\n",
    "    plot_metrics(forecast_cv, location, img_name)\n",
    "```"
   ]
  },
  {
   "cell_type": "markdown",
   "metadata": {},
   "source": [
    "### Results of our analysis\n",
    "```python\n",
    "prophet_predicts(us_covid_df, 'United States', yearly_seasonality = True, weekly_seasonality = False) \n",
    "prophet_predicts(us_covid_df, 'United States', yearly_seasonality = False, weekly_seasonality = False)\n",
    "prophet_predicts(us_covid_df, 'United States', yearly_seasonality = False, weekly_seasonality = True)\n",
    "prophet_predicts(us_covid_df, 'United States', yearly_seasonality = True,  weekly_seasonality = True)\n",
    "```"
   ]
  },
  {
   "cell_type": "markdown",
   "metadata": {},
   "source": [
    "### Types of Analysis:\n",
    "In our study, we tested four different model types within Facebook Prophet. Each model type had a different seasonality parameter. Facebook Prophet always has daily seasonality by default, but we added on yearly, and weekly seasonlity from our end. We shall discuss the forecast graphs, the seasonality component graphs, and the error measures (MAE, MAPE, MSE, RMSE) graphs for all these model types.\n",
    "\n",
    "#### Forecast Graphs\n",
    "![image](./Seasonality_Comparison/United_States_forecast_daily.png)\n",
    "$$\\text{Figure 3: Forecast Graph of COVID-19 cases with daily seasonality (Black are actual values, and Blue is predicted}$$\n",
    "\n",
    "Looking at Figure 3, we can clearly see that the virus started off with a few cases between January and March 2020. Towards the beginning of April 2020, we can see a steady increase in cases till the end of June 2020. "
   ]
  },
  {
   "cell_type": "code",
   "execution_count": 2,
   "metadata": {},
   "outputs": [
    {
     "name": "stdout",
     "output_type": "stream",
     "text": [
      "[NbConvertApp] Converting notebook Prophet_Covid_Analysis.ipynb to html\n",
      "[NbConvertApp] Writing 301913 bytes to index.html\n"
     ]
    }
   ],
   "source": [
    "!jupyter nbconvert Prophet_Covid_Analysis.ipynb --to html --output index.html"
   ]
  },
  {
   "cell_type": "code",
   "execution_count": null,
   "metadata": {},
   "outputs": [],
   "source": []
  }
 ],
 "metadata": {
  "kernelspec": {
   "display_name": "Python 3",
   "language": "python",
   "name": "python3"
  },
  "language_info": {
   "codemirror_mode": {
    "name": "ipython",
    "version": 3
   },
   "file_extension": ".py",
   "mimetype": "text/x-python",
   "name": "python",
   "nbconvert_exporter": "python",
   "pygments_lexer": "ipython3",
   "version": "3.8.3"
  }
 },
 "nbformat": 4,
 "nbformat_minor": 4
}
